{
  "nbformat": 4,
  "nbformat_minor": 0,
  "metadata": {
    "colab": {
      "name": "control statemens.ipynb",
      "provenance": [],
      "collapsed_sections": [],
      "authorship_tag": "ABX9TyPtPqgmiOSxme/pwIo8dnz2",
      "include_colab_link": true
    },
    "kernelspec": {
      "name": "python3",
      "display_name": "Python 3"
    },
    "language_info": {
      "name": "python"
    }
  },
  "cells": [
    {
      "cell_type": "markdown",
      "metadata": {
        "id": "view-in-github",
        "colab_type": "text"
      },
      "source": [
        "<a href=\"https://colab.research.google.com/github/Pulisai1704/python-new/blob/module-1/control_statemens.ipynb\" target=\"_parent\"><img src=\"https://colab.research.google.com/assets/colab-badge.svg\" alt=\"Open In Colab\"/></a>"
      ]
    },
    {
      "cell_type": "code",
      "execution_count": null,
      "metadata": {
        "id": "CMw6Ye7zpi32"
      },
      "outputs": [],
      "source": [
        "## control statements"
      ]
    },
    {
      "cell_type": "code",
      "source": [
        "## eligible for voting or not\n",
        "a=20\n",
        "if a>=18:\n",
        "        print(\"you are elgible for voting\")\n",
        "else:\n",
        "    print(\"you are not elgible\")\n",
        "  \n"
      ],
      "metadata": {
        "colab": {
          "base_uri": "https://localhost:8080/"
        },
        "id": "mv2AK6Z9pl63",
        "outputId": "cc64b129-386c-4f99-db36-c6360123820f"
      },
      "execution_count": null,
      "outputs": [
        {
          "output_type": "stream",
          "name": "stdout",
          "text": [
            "you are elgible for voting\n"
          ]
        }
      ]
    },
    {
      "cell_type": "code",
      "source": [
        "## eligible for voting or not\n",
        "a=int(input(\"enter your age\"))\n",
        "if a>=18:\n",
        "        print(\"you are elgible for voting\")\n",
        "else:\n",
        "    print(\"you are not elgible for voting\")"
      ],
      "metadata": {
        "colab": {
          "base_uri": "https://localhost:8080/"
        },
        "id": "YThcqr0Nrb1p",
        "outputId": "4e4c02a4-5a28-494c-de12-d71a76acd070"
      },
      "execution_count": null,
      "outputs": [
        {
          "output_type": "stream",
          "name": "stdout",
          "text": [
            "enter your age25\n",
            "you are elgible for voting\n"
          ]
        }
      ]
    },
    {
      "cell_type": "code",
      "source": [
        "## greatest of 3 numbers\n",
        "a=int(input(\"enter your number\"))\n",
        "b=int(input(\"enter your number\"))\n",
        "c=int(input(\"enter your number\"))\n",
        "if a>b & a>c:\n",
        "            print(\"a is greatest\")\n",
        "elif b>a & b>c:\n",
        "              print(\"b is greatest\")\n",
        "else:\n",
        "    print(\"c is greatest\")"
      ],
      "metadata": {
        "colab": {
          "base_uri": "https://localhost:8080/"
        },
        "id": "mALjZN-HsOKK",
        "outputId": "2826fb89-b0cb-4568-fff2-81d4ede218de"
      },
      "execution_count": null,
      "outputs": [
        {
          "output_type": "stream",
          "name": "stdout",
          "text": [
            "enter your number4\n",
            "enter your number5\n",
            "enter your number3\n",
            "b is greatest\n"
          ]
        }
      ]
    },
    {
      "cell_type": "code",
      "source": [
        "a=int(input(\"enter your number\"))\n",
        "b=int(input(\"enter your number\"))\n",
        "c=int(input(\"enter your number\"))\n",
        "d=int(input(\"enter your number\"))\n",
        "e=int(input(\"enter your number\"))\n",
        "if a>b & a>c & a>d & a>e:\n",
        "                        print(\"a is greatest\")\n",
        "elif b>a & b>c & b>d & b>e:\n",
        "                          print(\"b is greatest\")\n",
        "elif c>a & c>b & c>d & c>e:\n",
        "                          print(\"c is greatest\")\n",
        "elif d>a & d>b & d>c & d>e:\n",
        "                          print(\"d is greatest\")\n",
        "else:\n",
        "    print(\"e is greatest\")"
      ],
      "metadata": {
        "colab": {
          "base_uri": "https://localhost:8080/"
        },
        "id": "o_LCUOHquUMx",
        "outputId": "2c9b0763-cd11-4f25-9f80-585109fc18a4"
      },
      "execution_count": null,
      "outputs": [
        {
          "output_type": "stream",
          "name": "stdout",
          "text": [
            "enter your number3\n",
            "enter your number4\n",
            "enter your number5\n",
            "enter your number6\n",
            "enter your number7\n",
            "e is greatest\n"
          ]
        }
      ]
    },
    {
      "cell_type": "code",
      "source": [
        "a=int(input(\"enter marks of 1st student\"))\n",
        "b=int(input(\"enter marks of 2nd student \"))\n",
        "c=int(input(\"enter marks of 3rd student \"))\n",
        "d=int(input(\"enter marks of 4th student \"))\n",
        "e=int(input(\"enter marks of 5th student \"))\n",
        "if a>b & a>c & a>d & a>e:\n",
        "                        print(\"1st is greatest\")\n",
        "elif b>a & b>c & b>d & b>e:\n",
        "                          print(\"2nd is greatest\")\n",
        "elif c>a & c>b & c>d & c>e:\n",
        "                          print(\"3rd is greatest\")\n",
        "elif d>a & d>b & d>c & d>e:\n",
        "                          print(\"4th is greatest\")\n",
        "else:\n",
        "    print(\"5th is greatest\")"
      ],
      "metadata": {
        "colab": {
          "base_uri": "https://localhost:8080/"
        },
        "id": "FTdBF_VfwkHO",
        "outputId": "9257be9e-d3c9-4431-ee04-b417801d37a0"
      },
      "execution_count": null,
      "outputs": [
        {
          "output_type": "stream",
          "name": "stdout",
          "text": [
            "enter marks of 1st student20\n",
            "enter marks of 2nd student 30\n",
            "enter marks of 3rd student 40\n",
            "enter marks of 4th student 50\n",
            "enter marks of 5th student 90\n",
            "5th is greatest\n"
          ]
        }
      ]
    },
    {
      "cell_type": "code",
      "source": [
        "#subject marks , sum , average , percentage\n",
        "(a,b,c,d,e)=(int(input()),int(input()),int(input()),int(input()),int(input()))\n",
        "sum=a+b+c+d+e\n",
        "print(int(sum))\n",
        "avg=sum/5\n",
        "print(int(avg))\n",
        "per=(sum/500)*100\n",
        "print(int(per))"
      ],
      "metadata": {
        "colab": {
          "base_uri": "https://localhost:8080/"
        },
        "id": "23yCaKvExrjf",
        "outputId": "5c3f5698-5194-4ef4-b5d6-fc56dcb0bf1e"
      },
      "execution_count": null,
      "outputs": [
        {
          "output_type": "stream",
          "name": "stdout",
          "text": [
            "95\n",
            "97\n",
            "98\n",
            "92\n",
            "93\n",
            "475\n",
            "95\n",
            "95\n"
          ]
        }
      ]
    },
    {
      "cell_type": "code",
      "source": [
        "#types of triangle\n",
        "(a,b,c)=(int(input()),int(input()),int(input()))\n",
        "if a==b==c:\n",
        " print(\"the given triangle is equilateral triangle\")\n",
        "if a==b!=c or c==b!=a or a==c!=b:\n",
        " print(\"the given triangle is isocles triangle\")\n",
        "if a!=b!=c:\n",
        " print(\"the given triangle is scalar triangle\")"
      ],
      "metadata": {
        "colab": {
          "base_uri": "https://localhost:8080/"
        },
        "id": "LcHN_phxmOKP",
        "outputId": "ad23b956-9a09-486f-dcab-e9d4884569f3"
      },
      "execution_count": null,
      "outputs": [
        {
          "output_type": "stream",
          "name": "stdout",
          "text": [
            "4\n",
            "3\n",
            "8\n",
            "the given triangle is scalar triangle\n"
          ]
        }
      ]
    },
    {
      "cell_type": "code",
      "source": [
        ""
      ],
      "metadata": {
        "id": "NhEJsg-3nRAd"
      },
      "execution_count": null,
      "outputs": []
    }
  ]
}