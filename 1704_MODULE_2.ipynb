{
  "nbformat": 4,
  "nbformat_minor": 0,
  "metadata": {
    "colab": {
      "name": "1704 MODULE - 2.ipynb",
      "provenance": [],
      "authorship_tag": "ABX9TyPgN5ftGSDjVdL4WjbPhHFf",
      "include_colab_link": true
    },
    "kernelspec": {
      "name": "python3",
      "display_name": "Python 3"
    },
    "language_info": {
      "name": "python"
    }
  },
  "cells": [
    {
      "cell_type": "markdown",
      "metadata": {
        "id": "view-in-github",
        "colab_type": "text"
      },
      "source": [
        "<a href=\"https://colab.research.google.com/github/Pulisai1704/python-new/blob/module-2/1704_MODULE_2.ipynb\" target=\"_parent\"><img src=\"https://colab.research.google.com/assets/colab-badge.svg\" alt=\"Open In Colab\"/></a>"
      ]
    },
    {
      "cell_type": "markdown",
      "source": [
        "## MODULE - 2"
      ],
      "metadata": {
        "id": "VXNpkYDl1Ad2"
      }
    },
    {
      "cell_type": "markdown",
      "source": [
        "##Create a function which accepts two inputs from the user and compute nCr\n"
      ],
      "metadata": {
        "id": "4sT3ZJIN1Lgz"
      }
    },
    {
      "cell_type": "code",
      "execution_count": null,
      "metadata": {
        "colab": {
          "base_uri": "https://localhost:8080/"
        },
        "id": "IWI9ZD2H03r9",
        "outputId": "e03d2004-4f9b-47a0-cba6-14e8efca2550"
      },
      "outputs": [
        {
          "output_type": "stream",
          "name": "stdout",
          "text": [
            "6\n",
            "2\n",
            "15\n"
          ]
        }
      ],
      "source": [
        "def nCr (x,y):\n",
        "  return(fact(x)//(fact(y)\n",
        "                   *fact(x-y)))\n",
        "x=int(input(\"\")) \n",
        "y=int(input(\"\"))\n",
        "def fact(x):\n",
        "    res=1 \n",
        "    for i in range(2,x+1):\n",
        "      res =res*i\n",
        "    return res\n",
        "print(int(nCr(x,y))) \n",
        "\n"
      ]
    },
    {
      "cell_type": "markdown",
      "source": [
        "## Program to print a specified list after removing the 0th, 4th and 5th elements. "
      ],
      "metadata": {
        "id": "vidpVoIb3bIb"
      }
    },
    {
      "cell_type": "code",
      "source": [
        "a = ['Red', 'Green', 'White', 'Black', 'Pink', 'Yellow']\n",
        "a = [x for (i,x) in enumerate(a) if i not in (0,4,5)]\n",
        "print(a)"
      ],
      "metadata": {
        "colab": {
          "base_uri": "https://localhost:8080/"
        },
        "id": "Y8iwkS0L3aD9",
        "outputId": "9b32dad8-50ee-4efb-d780-b5d09264c81d"
      },
      "execution_count": null,
      "outputs": [
        {
          "output_type": "stream",
          "name": "stdout",
          "text": [
            "['Green', 'White', 'Black']\n"
          ]
        }
      ]
    },
    {
      "cell_type": "markdown",
      "source": [
        "## Program to get the difference between the two lists"
      ],
      "metadata": {
        "id": "FGIcjcYX4sUU"
      }
    },
    {
      "cell_type": "code",
      "source": [
        "list1=[1,2,4,2,7,5,4,5]\n",
        "list2=[3,4,3,6,7,9]\n",
        "x=set(list1)\n",
        "y=set(list2)\n",
        "a=x.difference(y)\n",
        "b=y.difference(x)\n",
        "print(list(a))\n",
        "print(list(b))"
      ],
      "metadata": {
        "colab": {
          "base_uri": "https://localhost:8080/"
        },
        "id": "8G_9sYHBF_E0",
        "outputId": "8e10e164-1c55-49e5-cca8-4b6703a28505"
      },
      "execution_count": null,
      "outputs": [
        {
          "output_type": "stream",
          "name": "stdout",
          "text": [
            "[1, 2, 5]\n",
            "[9, 3, 6]\n"
          ]
        }
      ]
    },
    {
      "cell_type": "markdown",
      "source": [
        "## Given list of tuples, remove all the tuples with length K"
      ],
      "metadata": {
        "id": "NnuvubaL8HJq"
      }
    },
    {
      "cell_type": "code",
      "source": [
        "numbers = [8, 10, 14, 18, 24]\n",
        "print(\"The numbers is \")\n",
        "print(numbers)\n",
        "print(\"The resultant tuple is :\")\n",
        "result = [(val, pow(val, 4)) for val in numbers]\n",
        "print(result)"
      ],
      "metadata": {
        "colab": {
          "base_uri": "https://localhost:8080/"
        },
        "id": "0-BsYKv98IyK",
        "outputId": "dd272b4d-a1a1-4abc-d99c-8b8bd726e338"
      },
      "execution_count": null,
      "outputs": [
        {
          "output_type": "stream",
          "name": "stdout",
          "text": [
            "The numbers is \n",
            "[8, 10, 14, 18, 24]\n",
            "The resultant tuple is :\n",
            "[(8, 4096), (10, 10000), (14, 38416), (18, 104976), (24, 331776)]\n"
          ]
        }
      ]
    },
    {
      "cell_type": "markdown",
      "source": [
        "## Program to find the second smallest number and second largest number in a list."
      ],
      "metadata": {
        "id": "aazNA-c6G4mB"
      }
    },
    {
      "cell_type": "code",
      "source": [
        "my_list=[8, 10, 14, 18, 24]\n",
        "my_list.sort()\n",
        "print(my_list)\n",
        "print(\"The second smallest number in the given list is: \",my_list[1])\n",
        "print(\"The second largest number in the given list is: \",my_list[len(my_list)-2])"
      ],
      "metadata": {
        "colab": {
          "base_uri": "https://localhost:8080/"
        },
        "id": "3ixtvKj9H5Cf",
        "outputId": "713dcc2f-7f2c-4b56-8fa5-208033b3676c"
      },
      "execution_count": null,
      "outputs": [
        {
          "output_type": "stream",
          "name": "stdout",
          "text": [
            "[8, 10, 14, 18, 24]\n",
            "The second smallest number in the given list is:  10\n",
            "The second largest number in the given list is:  18\n"
          ]
        }
      ]
    },
    {
      "cell_type": "markdown",
      "source": [
        "## Program to remove a key from a dictionary"
      ],
      "metadata": {
        "id": "HKx9FUGP_TU1"
      }
    },
    {
      "cell_type": "code",
      "source": [
        "dictionary = {'x':3,'y':4,'z':5,'a':6}\n",
        "print(dictionary)\n",
        "if 'x' in dictionary: \n",
        "    del dictionary['x']\n",
        "print(dictionary)\n"
      ],
      "metadata": {
        "colab": {
          "base_uri": "https://localhost:8080/"
        },
        "id": "v2Gi1wqS-e9V",
        "outputId": "57c24c52-9612-4323-cc47-45db31762152"
      },
      "execution_count": null,
      "outputs": [
        {
          "output_type": "stream",
          "name": "stdout",
          "text": [
            "{'x': 3, 'y': 4, 'z': 5, 'a': 6}\n",
            "{'y': 4, 'z': 5, 'a': 6}\n"
          ]
        }
      ]
    },
    {
      "cell_type": "markdown",
      "source": [
        "## Given a list of numbers of list, write a Python program to create a list of tuples having first element as the number and second element as the square of the number.\n",
        "\n"
      ],
      "metadata": {
        "id": "Ls8LaXVrIaXY"
      }
    },
    {
      "cell_type": "code",
      "source": [
        "list=[8, 10, 14, 18, 24,35,43,54,56,67]\n",
        "result=[(a,a**2) for a in list]\n",
        "print(\"The required list is: \",result)"
      ],
      "metadata": {
        "colab": {
          "base_uri": "https://localhost:8080/"
        },
        "id": "AqptidQBIiq5",
        "outputId": "f7b42fd6-e53d-4555-bd8e-fdbb230ad269"
      },
      "execution_count": null,
      "outputs": [
        {
          "output_type": "stream",
          "name": "stdout",
          "text": [
            "The required list is:  [(8, 64), (10, 100), (14, 196), (18, 324), (24, 576), (35, 1225), (43, 1849), (54, 2916), (56, 3136), (67, 4489)]\n"
          ]
        }
      ]
    },
    {
      "cell_type": "markdown",
      "source": [
        "## Program to generate and print a dictionary that contains a number (between 1 and n) in the form (x, x*x). \n",
        " "
      ],
      "metadata": {
        "id": "0d-jRU-z_Irt"
      }
    },
    {
      "cell_type": "code",
      "source": [
        "a=int(input(\"Input a number \"))\n",
        "b = dict()\n",
        "\n",
        "for i in range(1,a+1):\n",
        "    b[i]=i*i\n",
        "\n",
        "print(b)"
      ],
      "metadata": {
        "colab": {
          "base_uri": "https://localhost:8080/"
        },
        "id": "nA8LwpKu-sbE",
        "outputId": "ef3bfadd-be43-4558-9581-287fa290bd20"
      },
      "execution_count": null,
      "outputs": [
        {
          "output_type": "stream",
          "name": "stdout",
          "text": [
            "Input a number 2\n",
            "{1: 1, 2: 4}\n"
          ]
        }
      ]
    },
    {
      "cell_type": "markdown",
      "source": [
        "## Program to remove a key from a dictionary"
      ],
      "metadata": {
        "id": "FoXEJYBHLzhz"
      }
    },
    {
      "cell_type": "code",
      "source": [
        "tractor={\n",
        " 'name':'mahindra',\n",
        " 'colour':'red',\n",
        " 'quality':'good',\n",
        " 'cost':650000\n",
        "}\n",
        "tractor.pop('quality')\n",
        "print(tractor)\n",
        "del tractor['cost']\n",
        "print(tractor)"
      ],
      "metadata": {
        "colab": {
          "base_uri": "https://localhost:8080/"
        },
        "id": "nyJMFhq2L1M-",
        "outputId": "b6cb4fcb-7093-42e3-f4f9-00c08d16c836"
      },
      "execution_count": null,
      "outputs": [
        {
          "output_type": "stream",
          "name": "stdout",
          "text": [
            "{'name': 'mahindra', 'colour': 'red', 'cost': 650000}\n",
            "{'name': 'mahindra', 'colour': 'red'}\n"
          ]
        }
      ]
    },
    {
      "cell_type": "markdown",
      "source": [
        "## Program to get the maximum and minimum value in a dictionary"
      ],
      "metadata": {
        "id": "O1dxWkDVC3Qs"
      }
    },
    {
      "cell_type": "code",
      "source": [
        "dictionary = {'a':300, 'b':874, 'c': 860}\n",
        "\n",
        "key_max = max(dictionary.keys(), key=(lambda k: dictionary[k]))\n",
        "key_min = min(dictionary.keys(), key=(lambda k: dictionary[k]))\n",
        "\n",
        "print('Maximum Value: ',dictionary[key_max])\n",
        "print('Minimum Value: ',dictionary[key_min])\n"
      ],
      "metadata": {
        "colab": {
          "base_uri": "https://localhost:8080/"
        },
        "id": "e43a2UNcCe8k",
        "outputId": "1e5ed044-3580-49a9-9dd9-0dd5d622028e"
      },
      "execution_count": null,
      "outputs": [
        {
          "output_type": "stream",
          "name": "stdout",
          "text": [
            "Maximum Value:  874\n",
            "Minimum Value:  300\n"
          ]
        }
      ]
    },
    {
      "cell_type": "markdown",
      "source": [
        "## Program to perform operations on string using unicodes ,splitting of string,accessing elements of string using locations"
      ],
      "metadata": {
        "id": "Ol4AvLxuMuJx"
      }
    },
    {
      "cell_type": "code",
      "source": [
        "string=str(input(\"enter a string: \"))\n",
        "print(string.split())\n",
        "print(string[3:17])"
      ],
      "metadata": {
        "colab": {
          "base_uri": "https://localhost:8080/"
        },
        "id": "qQ3dBvQoMz8N",
        "outputId": "a6587304-b79f-4bc9-cce0-fb2254e1c19b"
      },
      "execution_count": null,
      "outputs": [
        {
          "output_type": "stream",
          "name": "stdout",
          "text": [
            "enter a string: Program to perform operations on string using unicodes\n",
            "['Program', 'to', 'perform', 'operations', 'on', 'string', 'using', 'unicodes']\n",
            "gram to perfor\n"
          ]
        }
      ]
    },
    {
      "cell_type": "markdown",
      "source": [
        "## Program for Counting occurrence of a certain element in a string, getting indexes that have matching elements."
      ],
      "metadata": {
        "id": "5eol_z9iNWmI"
      }
    },
    {
      "cell_type": "code",
      "source": [
        "str_1=\"cow\"\n",
        "print(str_1.count('b'))\n",
        "str_2=\"Program to get the maximum and minimum value.\"\n",
        "print(str_2.count('get'))"
      ],
      "metadata": {
        "colab": {
          "base_uri": "https://localhost:8080/"
        },
        "id": "okGNXT7gNarm",
        "outputId": "17cddd39-5434-4099-d6b1-bac35d83601c"
      },
      "execution_count": null,
      "outputs": [
        {
          "output_type": "stream",
          "name": "stdout",
          "text": [
            "0\n",
            "1\n"
          ]
        }
      ]
    },
    {
      "cell_type": "markdown",
      "source": [
        "## Program for replacing one substring by another For example - Rabbit -- Replace 'bb' by 'cc'"
      ],
      "metadata": {
        "id": "jPLPNx_lOIXA"
      }
    },
    {
      "cell_type": "code",
      "source": [
        "string='Rabbit'\n",
        "new_string=string.replace('bb','cc')\n",
        "print(new_string)\n"
      ],
      "metadata": {
        "colab": {
          "base_uri": "https://localhost:8080/"
        },
        "id": "t8I04ljrObNA",
        "outputId": "64f71f3d-2a5d-4308-a752-bb9167d683ee"
      },
      "execution_count": null,
      "outputs": [
        {
          "output_type": "stream",
          "name": "stdout",
          "text": [
            "Raccit\n"
          ]
        }
      ]
    },
    {
      "cell_type": "markdown",
      "source": [
        "## Program to Acronym generator for any user input (ex-input is Random memory access\n",
        "then output should be RMA).Example - Random number (RN)"
      ],
      "metadata": {
        "id": "MdVjxV6RPav-"
      }
    },
    {
      "cell_type": "code",
      "source": [
        "string=input(\"enter the string:\")\n",
        "x=string.split()\n",
        "for i in x:\n",
        " print(i[0],end='')\n"
      ],
      "metadata": {
        "colab": {
          "base_uri": "https://localhost:8080/"
        },
        "id": "SuEngjm9Pel4",
        "outputId": "6e14d787-34c1-469f-afee-db86155cf7dd"
      },
      "execution_count": null,
      "outputs": [
        {
          "output_type": "stream",
          "name": "stdout",
          "text": [
            "enter the string:Random memory access\n",
            "Rma"
          ]
        }
      ]
    },
    {
      "cell_type": "markdown",
      "source": [
        "## Python function that accepts a string and calculates the number of uppercase letters and lowercase letters.\n",
        ".\n"
      ],
      "metadata": {
        "id": "KTmM-B6AQCMZ"
      }
    },
    {
      "cell_type": "code",
      "source": [
        "string=\"I Love my village and I respect it.\"\n",
        "count_1=0\n",
        "count_2=0\n",
        "for i in string:\n",
        " if i.isupper():\n",
        "   count_1+=1\n",
        " elif i.islower():\n",
        "   count_2+=1\n",
        " else:\n",
        "   pass\n",
        "print(\"uppercase are: \",count_1)\n",
        "print(\"lowercase alphabets are: \",count_2)"
      ],
      "metadata": {
        "colab": {
          "base_uri": "https://localhost:8080/"
        },
        "id": "4qOpFazaQHtb",
        "outputId": "b76d61e7-4dda-48e0-a192-fff831cb8a8a"
      },
      "execution_count": null,
      "outputs": [
        {
          "output_type": "stream",
          "name": "stdout",
          "text": [
            "uppercase are:  3\n",
            "lowercase alphabets are:  24\n"
          ]
        }
      ]
    },
    {
      "cell_type": "markdown",
      "source": [
        "## Program to count the number of strings where the string length is 2 or more and the first and last character are same from a given list of strings\n",
        "x Sample List : ['abc', 'xyz', 'aba', '1221'] Expected Result : 2"
      ],
      "metadata": {
        "id": "_IS3eQs4RHAk"
      }
    },
    {
      "cell_type": "code",
      "source": [
        "Sample_List = ['abc', 'xyz', 'aba', '1221']\n",
        "count=0\n",
        "for i in Sample_List:\n",
        " if len(i)>=2:\n",
        "  if i[0]==i[len(i)-1]:\n",
        "     print(i)\n",
        "     count+=1\n",
        "print(count)"
      ],
      "metadata": {
        "colab": {
          "base_uri": "https://localhost:8080/"
        },
        "id": "rWrSdorsROT_",
        "outputId": "78f037aa-51c0-4e3c-d755-732647ab98f1"
      },
      "execution_count": null,
      "outputs": [
        {
          "output_type": "stream",
          "name": "stdout",
          "text": [
            "aba\n",
            "1221\n",
            "2\n"
          ]
        }
      ]
    }
  ]
}