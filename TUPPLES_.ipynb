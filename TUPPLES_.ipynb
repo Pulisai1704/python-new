{
  "nbformat": 4,
  "nbformat_minor": 0,
  "metadata": {
    "colab": {
      "name": "TUPPLES .ipynb",
      "provenance": [],
      "collapsed_sections": [],
      "authorship_tag": "ABX9TyO/NDO+/H4TPy0/2YUClU/U",
      "include_colab_link": true
    },
    "kernelspec": {
      "name": "python3",
      "display_name": "Python 3"
    },
    "language_info": {
      "name": "python"
    }
  },
  "cells": [
    {
      "cell_type": "markdown",
      "metadata": {
        "id": "view-in-github",
        "colab_type": "text"
      },
      "source": [
        "<a href=\"https://colab.research.google.com/github/Pulisai1704/python-new/blob/module-2/TUPPLES_.ipynb\" target=\"_parent\"><img src=\"https://colab.research.google.com/assets/colab-badge.svg\" alt=\"Open In Colab\"/></a>"
      ]
    },
    {
      "cell_type": "markdown",
      "source": [
        "## Tuple"
      ],
      "metadata": {
        "id": "emVWaN0XvxJo"
      }
    },
    {
      "cell_type": "code",
      "source": [
        "## TUPLES\n",
        "a=(\"sai\",\"mani\",\"venkey\")\n",
        "print(a)"
      ],
      "metadata": {
        "colab": {
          "base_uri": "https://localhost:8080/"
        },
        "id": "yir2MxEsvwrI",
        "outputId": "2e5fbbac-0212-4b93-ffb2-00357556b9c5"
      },
      "execution_count": null,
      "outputs": [
        {
          "output_type": "stream",
          "name": "stdout",
          "text": [
            "('sai', 'mani', 'venkey')\n"
          ]
        }
      ]
    },
    {
      "cell_type": "code",
      "execution_count": null,
      "metadata": {
        "colab": {
          "base_uri": "https://localhost:8080/"
        },
        "id": "yRRIZxF1vgSK",
        "outputId": "73ae5263-f67a-4d58-b388-1e9d8f63db8b"
      },
      "outputs": [
        {
          "output_type": "stream",
          "name": "stdout",
          "text": [
            "('apple', 'mango', 'banna', 'apple')\n"
          ]
        }
      ],
      "source": [
        "## Tuples allow duplicate values\n",
        "a=(\"apple\",\"mango\",\"banna\",\"apple\")\n",
        "print(a)"
      ]
    },
    {
      "cell_type": "code",
      "source": [
        "## tuple length\n",
        "## Print the number of items in the tuple\n",
        "animals=(\"cow\",\"buffalow\",\"goat\",\"bullock\")\n",
        "print(len(animals))"
      ],
      "metadata": {
        "colab": {
          "base_uri": "https://localhost:8080/"
        },
        "id": "wfu9cGcJxfSh",
        "outputId": "031c983d-acbc-4748-a322-63433419a7ad"
      },
      "execution_count": null,
      "outputs": [
        {
          "output_type": "stream",
          "name": "stdout",
          "text": [
            "4\n"
          ]
        }
      ]
    },
    {
      "cell_type": "code",
      "source": [
        "## Tuple With One Item\n",
        "a=(\"venkat\",)\n",
        "print(type(a))\n",
        "## not a tuple\n",
        "a=(\"sai\")\n",
        "print(type(a))"
      ],
      "metadata": {
        "colab": {
          "base_uri": "https://localhost:8080/"
        },
        "id": "YS43_qd_yaBH",
        "outputId": "d116d315-8c17-4241-b506-044590ad0986"
      },
      "execution_count": null,
      "outputs": [
        {
          "output_type": "stream",
          "name": "stdout",
          "text": [
            "<class 'tuple'>\n",
            "<class 'str'>\n"
          ]
        }
      ]
    },
    {
      "cell_type": "code",
      "source": [
        "## Tuple Items - Data Types\n",
        "a = (\"apple\", \"banana\", \"cherry\")\n",
        "print(a)\n",
        "b = (1, 5, 7, 9, 3)\n",
        "print(b)\n",
        "c = (True, False, False)\n",
        "print(c)"
      ],
      "metadata": {
        "colab": {
          "base_uri": "https://localhost:8080/"
        },
        "id": "DtT1hczQzfHV",
        "outputId": "bbaefaa7-0fba-46c1-ef9b-6ab426353b41"
      },
      "execution_count": null,
      "outputs": [
        {
          "output_type": "stream",
          "name": "stdout",
          "text": [
            "('apple', 'banana', 'cherry')\n",
            "(1, 5, 7, 9, 3)\n",
            "(True, False, False)\n"
          ]
        }
      ]
    },
    {
      "cell_type": "code",
      "source": [
        "##  tuple with strings, integers and boolean values\n",
        "a=(\"abc\",\"154\",\"true\")\n",
        "print(a)"
      ],
      "metadata": {
        "colab": {
          "base_uri": "https://localhost:8080/"
        },
        "id": "XcM9irsn0Fwd",
        "outputId": "d4831ee0-972f-4a85-9cd1-6677ea1872b1"
      },
      "execution_count": null,
      "outputs": [
        {
          "output_type": "stream",
          "name": "stdout",
          "text": [
            "('abc', '154', 'true')\n"
          ]
        }
      ]
    },
    {
      "cell_type": "code",
      "source": [
        "## data type of a tuple\n",
        "animals=(\"cow\",\"buffalow\",\"goat\",\"bullock\")\n",
        "print(type(animals))"
      ],
      "metadata": {
        "colab": {
          "base_uri": "https://localhost:8080/"
        },
        "id": "AK8fJxZn0ea-",
        "outputId": "a092b119-c8b0-4ffa-efa2-b0c7e64f9d68"
      },
      "execution_count": null,
      "outputs": [
        {
          "output_type": "stream",
          "name": "stdout",
          "text": [
            "<class 'tuple'>\n"
          ]
        }
      ]
    },
    {
      "cell_type": "code",
      "source": [
        "## The tuple() Constructor\n",
        "a = tuple((\"apple\", \"banana\", \"cherry\"))\n",
        "print(a)"
      ],
      "metadata": {
        "colab": {
          "base_uri": "https://localhost:8080/"
        },
        "id": "JC25QHEb03se",
        "outputId": "05946813-79f7-4b94-8479-cfcffcdb52e7"
      },
      "execution_count": null,
      "outputs": [
        {
          "output_type": "stream",
          "name": "stdout",
          "text": [
            "('apple', 'banana', 'cherry')\n"
          ]
        }
      ]
    },
    {
      "cell_type": "markdown",
      "source": [
        "## Access Tuple Items"
      ],
      "metadata": {
        "id": "Xv2yk_cP1O6l"
      }
    },
    {
      "cell_type": "code",
      "source": [
        "## Print the second item in the tuple:\n",
        "animals=(\"cow\",\"buffalow\",\"goat\",\"sheep\")\n",
        "print(animals[1])\n",
        "print(animals[3])"
      ],
      "metadata": {
        "colab": {
          "base_uri": "https://localhost:8080/"
        },
        "id": "bPLErQFL1QHc",
        "outputId": "b6d39bea-44d5-449f-8c6b-d1ee4457225e"
      },
      "execution_count": null,
      "outputs": [
        {
          "output_type": "stream",
          "name": "stdout",
          "text": [
            "buffalow\n",
            "sheep\n"
          ]
        }
      ]
    },
    {
      "cell_type": "code",
      "source": [
        "## Negative Indexing\n",
        "a=(\"sai\",\"mani\",\"venkey\")\n",
        "print(a[-1])\n",
        "print(a[-2])\n",
        "print(a[-3])"
      ],
      "metadata": {
        "colab": {
          "base_uri": "https://localhost:8080/"
        },
        "id": "aq6jTDrU15r0",
        "outputId": "52c9a3a3-fc9f-4ec8-f9b3-0b014363d599"
      },
      "execution_count": null,
      "outputs": [
        {
          "output_type": "stream",
          "name": "stdout",
          "text": [
            "venkey\n",
            "mani\n",
            "sai\n"
          ]
        }
      ]
    },
    {
      "cell_type": "code",
      "source": [
        "## Range of Indexes\n",
        "fruits = (\"apple\", \"banana\", \"cherry\", \"orange\", \"kiwi\", \"melon\", \"mango\")\n",
        "print(fruits[2:5])\n",
        "print(fruits[1:3])\n",
        "print(fruits[2:4])      "
      ],
      "metadata": {
        "colab": {
          "base_uri": "https://localhost:8080/"
        },
        "id": "3MbfPRFd2SUd",
        "outputId": "da71ee6f-1bb3-4241-fdd1-3089142b7962"
      },
      "execution_count": null,
      "outputs": [
        {
          "output_type": "stream",
          "name": "stdout",
          "text": [
            "('cherry', 'orange', 'kiwi')\n",
            "('banana', 'cherry')\n",
            "('cherry', 'orange')\n"
          ]
        }
      ]
    },
    {
      "cell_type": "code",
      "source": [
        "## returns the items from the beginning to, but NOT included, \"kiwi\"\n",
        "fruits = (\"apple\", \"banana\", \"cherry\", \"orange\", \"kiwi\", \"melon\", \"mango\")\n",
        "print(fruits [:4])"
      ],
      "metadata": {
        "colab": {
          "base_uri": "https://localhost:8080/"
        },
        "id": "70BkC23z3W9t",
        "outputId": "22a9ae30-2f06-419e-924a-2cf30be9bb72"
      },
      "execution_count": null,
      "outputs": [
        {
          "output_type": "stream",
          "name": "stdout",
          "text": [
            "('apple', 'banana', 'cherry', 'orange')\n"
          ]
        }
      ]
    },
    {
      "cell_type": "code",
      "source": [
        "## returns the items from \"cherry\" and to the end\n",
        "fruits = (\"apple\", \"banana\", \"cherry\", \"orange\", \"kiwi\", \"melon\", \"mango\")\n",
        "print(fruits [3:])"
      ],
      "metadata": {
        "colab": {
          "base_uri": "https://localhost:8080/"
        },
        "id": "Ba-6G3wW34ns",
        "outputId": "e1b23314-f73f-4014-829d-de5db35d242d"
      },
      "execution_count": null,
      "outputs": [
        {
          "output_type": "stream",
          "name": "stdout",
          "text": [
            "('orange', 'kiwi', 'melon', 'mango')\n"
          ]
        }
      ]
    },
    {
      "cell_type": "code",
      "source": [
        "## Range of Negative Indexes\n",
        "## returns the items from index -4 (included) to index -1 (excluded)\n",
        "fruits = (\"apple\", \"banana\", \"cherry\", \"orange\", \"kiwi\", \"melon\", \"mango\")\n",
        "print(fruits [-5:-1])\n",
        "print(fruits [-4:0])\n",
        "print(fruits [-3:-2])"
      ],
      "metadata": {
        "colab": {
          "base_uri": "https://localhost:8080/"
        },
        "id": "eM_nIAO74NDD",
        "outputId": "294d6d94-dcd2-4233-e387-f3bffe319d31"
      },
      "execution_count": null,
      "outputs": [
        {
          "output_type": "stream",
          "name": "stdout",
          "text": [
            "('cherry', 'orange', 'kiwi', 'melon')\n",
            "()\n",
            "('kiwi',)\n"
          ]
        }
      ]
    },
    {
      "cell_type": "code",
      "source": [
        "## Check if Item Exists\n",
        "fruits= (\"apple\", \"banana\", \"cherry\")\n",
        "if \"apple\" in fruits:\n",
        "  print(\"Yes, 'apple' is in the fruits tuple\")"
      ],
      "metadata": {
        "colab": {
          "base_uri": "https://localhost:8080/"
        },
        "id": "vWclAtuh43UM",
        "outputId": "dba4bc97-057e-4adf-b31f-e6e1a7bc7822"
      },
      "execution_count": null,
      "outputs": [
        {
          "output_type": "stream",
          "name": "stdout",
          "text": [
            "Yes, 'apple' is in the fruits tuple\n"
          ]
        }
      ]
    },
    {
      "cell_type": "markdown",
      "source": [
        "##  Update Tuples"
      ],
      "metadata": {
        "id": "zTpiF-P95RfK"
      }
    },
    {
      "cell_type": "code",
      "source": [
        "## Change Tuple Values\n",
        "a = (\"apple\", \"banana\", \"cherry\")\n",
        "b = list(a)\n",
        "b[1] = \"kiwi\"\n",
        "a = tuple(b)\n",
        "print(a)"
      ],
      "metadata": {
        "colab": {
          "base_uri": "https://localhost:8080/"
        },
        "id": "224mRJJU5LxS",
        "outputId": "cb49b1fa-5d36-4eba-e3aa-272fe94d6585"
      },
      "execution_count": null,
      "outputs": [
        {
          "output_type": "stream",
          "name": "stdout",
          "text": [
            "('apple', 'kiwi', 'cherry')\n"
          ]
        }
      ]
    },
    {
      "cell_type": "code",
      "source": [
        "##  tuple into a list, add \"sheep\", and convert it back into a tuple\n",
        "a=(\"cow\",\"goat\",\"bufallow\",\"bullock\")\n",
        "b=list(a)\n",
        "b[2]=\"sheep\"\n",
        "a= tuple(b)\n",
        "print(a)"
      ],
      "metadata": {
        "colab": {
          "base_uri": "https://localhost:8080/"
        },
        "id": "gkslkhPD6Krj",
        "outputId": "f3e3a637-409b-45f9-8acd-bf0914935da4"
      },
      "execution_count": null,
      "outputs": [
        {
          "output_type": "stream",
          "name": "stdout",
          "text": [
            "('cow', 'goat', 'sheep', 'bullock')\n"
          ]
        }
      ]
    },
    {
      "cell_type": "code",
      "source": [
        "## Add Items\n",
        "## Convert into a list\n",
        "fruits = (\"apple\", \"banana\", \"cherry\")\n",
        "y = list(fruits)\n",
        "y.append(\"orange\")\n",
        "fruits = tuple(y)\n",
        "print(fruits)"
      ],
      "metadata": {
        "colab": {
          "base_uri": "https://localhost:8080/"
        },
        "id": "OFX7Qqn37Qea",
        "outputId": "ab14fb77-0559-41cd-9c8a-508a8726f8d9"
      },
      "execution_count": null,
      "outputs": [
        {
          "output_type": "stream",
          "name": "stdout",
          "text": [
            "('apple', 'banana', 'cherry', 'orange')\n"
          ]
        }
      ]
    },
    {
      "cell_type": "code",
      "source": [
        "##  Add tuple to a tuple\n",
        "fruits  = (\"apple\", \"banana\", \"cherry\")\n",
        "y = (\"orange\",)\n",
        "fruits  += y\n",
        "print(fruits )"
      ],
      "metadata": {
        "colab": {
          "base_uri": "https://localhost:8080/"
        },
        "id": "or56EvOp7y7T",
        "outputId": "56b870fd-43ca-4104-aeb5-e72da023a957"
      },
      "execution_count": null,
      "outputs": [
        {
          "output_type": "stream",
          "name": "stdout",
          "text": [
            "('apple', 'banana', 'cherry', 'orange')\n"
          ]
        }
      ]
    },
    {
      "cell_type": "code",
      "source": [
        "## Remove Items\n",
        "## Convert the tuple into a list, remove \"cow\", and convert it back into a tuple:\n",
        "animals=(\"cow\",\"buffalow\",\"goat\",\"sheep\")\n",
        "y = list(animals)\n",
        "y.remove(\"cow\")\n",
        "animals = tuple(y)\n",
        "print(animals)"
      ],
      "metadata": {
        "colab": {
          "base_uri": "https://localhost:8080/"
        },
        "id": "BNtM8lU28Hxa",
        "outputId": "3c90caf7-3d56-4e74-ed4f-4c16696c4454"
      },
      "execution_count": null,
      "outputs": [
        {
          "output_type": "stream",
          "name": "stdout",
          "text": [
            "('buffalow', 'goat', 'sheep')\n"
          ]
        }
      ]
    },
    {
      "cell_type": "code",
      "source": [
        "## delet\n",
        "animals=(\"cow\",\"buffalow\",\"goat\",\"sheep\")\n",
        "del animals\n",
        "print(animals)"
      ],
      "metadata": {
        "colab": {
          "base_uri": "https://localhost:8080/",
          "height": 200
        },
        "id": "J5L8wZYV9CjB",
        "outputId": "ce4af8ba-c7c8-4499-94cc-bdf016c38cde"
      },
      "execution_count": null,
      "outputs": [
        {
          "output_type": "error",
          "ename": "NameError",
          "evalue": "ignored",
          "traceback": [
            "\u001b[0;31m---------------------------------------------------------------------------\u001b[0m",
            "\u001b[0;31mNameError\u001b[0m                                 Traceback (most recent call last)",
            "\u001b[0;32m<ipython-input-59-8eb43cf42275>\u001b[0m in \u001b[0;36m<module>\u001b[0;34m()\u001b[0m\n\u001b[1;32m      2\u001b[0m \u001b[0manimals\u001b[0m\u001b[0;34m=\u001b[0m\u001b[0;34m(\u001b[0m\u001b[0;34m\"cow\"\u001b[0m\u001b[0;34m,\u001b[0m\u001b[0;34m\"buffalow\"\u001b[0m\u001b[0;34m,\u001b[0m\u001b[0;34m\"goat\"\u001b[0m\u001b[0;34m,\u001b[0m\u001b[0;34m\"sheep\"\u001b[0m\u001b[0;34m)\u001b[0m\u001b[0;34m\u001b[0m\u001b[0;34m\u001b[0m\u001b[0m\n\u001b[1;32m      3\u001b[0m \u001b[0;32mdel\u001b[0m \u001b[0manimals\u001b[0m\u001b[0;34m\u001b[0m\u001b[0;34m\u001b[0m\u001b[0m\n\u001b[0;32m----> 4\u001b[0;31m \u001b[0mprint\u001b[0m\u001b[0;34m(\u001b[0m\u001b[0manimals\u001b[0m\u001b[0;34m)\u001b[0m\u001b[0;34m\u001b[0m\u001b[0;34m\u001b[0m\u001b[0m\n\u001b[0m",
            "\u001b[0;31mNameError\u001b[0m: name 'animals' is not defined"
          ]
        }
      ]
    },
    {
      "cell_type": "markdown",
      "source": [
        "## Unpack Tuples"
      ],
      "metadata": {
        "id": "DT2PzvMO-PiD"
      }
    },
    {
      "cell_type": "code",
      "source": [
        "## Packing a tuple:\n",
        "animals=(\"cow\",\"buffalow\",\"goat\",\"sheep\")\n",
        "print(animals)"
      ],
      "metadata": {
        "colab": {
          "base_uri": "https://localhost:8080/"
        },
        "id": "z1Z356iS9ayM",
        "outputId": "b72ef2b6-1f26-434b-83d3-78c2fda7aa90"
      },
      "execution_count": null,
      "outputs": [
        {
          "output_type": "stream",
          "name": "stdout",
          "text": [
            "('cow', 'buffalow', 'goat', 'sheep')\n"
          ]
        }
      ]
    },
    {
      "cell_type": "code",
      "source": [
        "##Unpacking a tuple\n",
        "fruits = (\"apple\", \"banana\", \"cherry\")\n",
        "(green, yellow, red) = fruits\n",
        "print(green)\n",
        "print(yellow)\n",
        "print(red)"
      ],
      "metadata": {
        "colab": {
          "base_uri": "https://localhost:8080/"
        },
        "id": "eaHWnE3R-sUr",
        "outputId": "26f7a3af-cfc9-44aa-d78e-a2d826c7c62c"
      },
      "execution_count": null,
      "outputs": [
        {
          "output_type": "stream",
          "name": "stdout",
          "text": [
            "apple\n",
            "banana\n",
            "cherry\n"
          ]
        }
      ]
    },
    {
      "cell_type": "code",
      "source": [
        "## Using Asterisk*\n",
        "animals=(\"cow\",\"buffalow\",\"goat\",\"sheep\")\n",
        "(green, yellow, *red) = animals\n",
        "print(green)\n",
        "print(yellow)\n",
        "print(red)"
      ],
      "metadata": {
        "colab": {
          "base_uri": "https://localhost:8080/"
        },
        "id": "kMOigeRS_Hdu",
        "outputId": "ce7e0168-9cfa-42f0-874f-ebbd8f297a8c"
      },
      "execution_count": null,
      "outputs": [
        {
          "output_type": "stream",
          "name": "stdout",
          "text": [
            "cow\n",
            "buffalow\n",
            "['goat', 'sheep']\n"
          ]
        }
      ]
    },
    {
      "cell_type": "code",
      "source": [
        "## Add a list of values the \"tropic\" variable:\n",
        "animals=(\"cow\",\"buffalow\",\"goat\",\"sheep\")\n",
        "(green,*tropic, red) = animals\n",
        "print(green)\n",
        "print(yellow)\n",
        "print(red)"
      ],
      "metadata": {
        "colab": {
          "base_uri": "https://localhost:8080/"
        },
        "id": "5dyBK8uK_2h4",
        "outputId": "7efb6a77-acb2-4c9f-ddb8-aed9058ecb49"
      },
      "execution_count": null,
      "outputs": [
        {
          "output_type": "stream",
          "name": "stdout",
          "text": [
            "cow\n",
            "buffalow\n",
            "sheep\n"
          ]
        }
      ]
    },
    {
      "cell_type": "markdown",
      "source": [
        "## Loop Tuples"
      ],
      "metadata": {
        "id": "XYOSNA_RAbrn"
      }
    },
    {
      "cell_type": "code",
      "source": [
        "##Loop Through a Tuple\n",
        "animals=(\"cow\",\"buffalow\",\"goat\",\"sheep\")\n",
        "for x in animals:\n",
        "  print(x)"
      ],
      "metadata": {
        "colab": {
          "base_uri": "https://localhost:8080/"
        },
        "id": "xOHUxqOiAUax",
        "outputId": "2ba95500-903e-408f-fad5-3f2cb476fefa"
      },
      "execution_count": null,
      "outputs": [
        {
          "output_type": "stream",
          "name": "stdout",
          "text": [
            "cow\n",
            "buffalow\n",
            "goat\n",
            "sheep\n"
          ]
        }
      ]
    },
    {
      "cell_type": "code",
      "source": [
        "## Loop Through the Index Numbers\n"
      ],
      "metadata": {
        "id": "hdadOU-fA294"
      },
      "execution_count": null,
      "outputs": []
    }
  ]
}