{
  "nbformat": 4,
  "nbformat_minor": 0,
  "metadata": {
    "colab": {
      "name": "Lists in python.ipynb",
      "provenance": [],
      "authorship_tag": "ABX9TyMxLQ97jL0YHZR5qeSQCBIs",
      "include_colab_link": true
    },
    "kernelspec": {
      "name": "python3",
      "display_name": "Python 3"
    },
    "language_info": {
      "name": "python"
    }
  },
  "cells": [
    {
      "cell_type": "markdown",
      "metadata": {
        "id": "view-in-github",
        "colab_type": "text"
      },
      "source": [
        "<a href=\"https://colab.research.google.com/github/Pulisai1704/python-new/blob/module-2/Lists_in_python.ipynb\" target=\"_parent\"><img src=\"https://colab.research.google.com/assets/colab-badge.svg\" alt=\"Open In Colab\"/></a>"
      ]
    },
    {
      "cell_type": "markdown",
      "source": [
        "## LISTS"
      ],
      "metadata": {
        "id": "BEEj6FtrcQ7r"
      }
    },
    {
      "cell_type": "code",
      "source": [
        "fruit=[\"goa\",\"apple\",\"banana\",\"mango\"]\n",
        "print(fruit)\n",
        "print(fruit[0:2])\n",
        "print(fruit[:2])\n",
        "print(fruit[1:2])\n",
        "print(fruit[1:])\n",
        "print(fruit[2:])"
      ],
      "metadata": {
        "colab": {
          "base_uri": "https://localhost:8080/"
        },
        "id": "2EbYHUgzXKgM",
        "outputId": "f985381d-984a-4473-ff62-2d1e40bd9fd1"
      },
      "execution_count": null,
      "outputs": [
        {
          "output_type": "stream",
          "name": "stdout",
          "text": [
            "['goa', 'apple', 'banana', 'mango']\n",
            "['goa', 'apple']\n",
            "['goa', 'apple']\n",
            "['apple']\n",
            "['apple', 'banana', 'mango']\n",
            "['banana', 'mango']\n"
          ]
        }
      ]
    },
    {
      "cell_type": "markdown",
      "source": [
        "## APPEND and insert"
      ],
      "metadata": {
        "id": "VQg46iHQcCvD"
      }
    },
    {
      "cell_type": "code",
      "source": [
        "Fruit=[\"goa\",\"apple\",\"banana\",\"mango\"]\n",
        "print(fruit)\n",
        "fruit.append(\"JACK FRUIT\")\n",
        "print(fruit)\n",
        "fruit.insert(1, \"BANANA\")\n",
        "print(fruit)"
      ],
      "metadata": {
        "colab": {
          "base_uri": "https://localhost:8080/"
        },
        "id": "u7_30NI1Z-uz",
        "outputId": "f8afb931-1a99-4f22-c918-b4fd845c9098"
      },
      "execution_count": null,
      "outputs": [
        {
          "output_type": "stream",
          "name": "stdout",
          "text": [
            "['goa', 'apple', 'banana', 'mango']\n",
            "['goa', 'apple', 'banana', 'mango', 'JACK FRUIT']\n",
            "['goa', 'BANANA', 'apple', 'banana', 'mango', 'JACK FRUIT']\n"
          ]
        }
      ]
    },
    {
      "cell_type": "markdown",
      "source": [
        "## REMOVE \n",
        "   "
      ],
      "metadata": {
        "id": "drnrwksKcBQm"
      }
    },
    {
      "cell_type": "code",
      "source": [
        "Fruit=[\"goa\",\"apple\",\"banana\",\"mango\"]\n",
        "fruit.remove(\"apple\")\n",
        "print(fruit)"
      ],
      "metadata": {
        "colab": {
          "base_uri": "https://localhost:8080/"
        },
        "id": "ECE-6vAqc9By",
        "outputId": "f5b736e9-c97b-4e1d-df69-bb58f569d5e3"
      },
      "execution_count": null,
      "outputs": [
        {
          "output_type": "stream",
          "name": "stdout",
          "text": [
            "['goa', 'BANANA', 'banana', 'mango', 'JACK FRUIT']\n"
          ]
        }
      ]
    },
    {
      "cell_type": "code",
      "source": [
        "Fruit=[\"goa\",\"apple\",\"banana\",\"mango\"]\n",
        "fruit.pop(1)\n",
        "print(fruit)"
      ],
      "metadata": {
        "colab": {
          "base_uri": "https://localhost:8080/"
        },
        "id": "lzvzlgrweTp7",
        "outputId": "ce97d2da-f947-4d1f-d5e7-f60b61be9b6c"
      },
      "execution_count": null,
      "outputs": [
        {
          "output_type": "stream",
          "name": "stdout",
          "text": [
            "['goa']\n"
          ]
        }
      ]
    },
    {
      "cell_type": "code",
      "source": [
        "fruit=[\"goa\",\"apple\",\"banana\",\"mango\"]\n",
        "del fruit[0]\n",
        "print(fruit)"
      ],
      "metadata": {
        "colab": {
          "base_uri": "https://localhost:8080/"
        },
        "id": "5lrjzb1dhXzy",
        "outputId": "4341f3e2-71aa-4357-beba-dde0da041434"
      },
      "execution_count": null,
      "outputs": [
        {
          "output_type": "stream",
          "name": "stdout",
          "text": [
            "['apple', 'banana', 'mango']\n"
          ]
        }
      ]
    },
    {
      "cell_type": "code",
      "source": [
        "fruit=[\"goa\",\"apple\",\"banana\",\"mango\"]\n",
        "fruit.clear()\n",
        "print(fruit)"
      ],
      "metadata": {
        "colab": {
          "base_uri": "https://localhost:8080/"
        },
        "id": "8JCasEiBhprp",
        "outputId": "19f19207-443c-4717-c751-e3b388de8e56"
      },
      "execution_count": null,
      "outputs": [
        {
          "output_type": "stream",
          "name": "stdout",
          "text": [
            "[]\n"
          ]
        }
      ]
    },
    {
      "cell_type": "markdown",
      "source": [
        "## sort assending"
      ],
      "metadata": {
        "id": "c6vHeZaSiFvM"
      }
    },
    {
      "cell_type": "code",
      "source": [
        "num=[23,24,45,46]\n",
        "num.sort()\n",
        "print(num)"
      ],
      "metadata": {
        "colab": {
          "base_uri": "https://localhost:8080/"
        },
        "id": "Nv6oov2giJr5",
        "outputId": "1806a453-6bee-4e21-c06d-aed25bb21e15"
      },
      "execution_count": null,
      "outputs": [
        {
          "output_type": "stream",
          "name": "stdout",
          "text": [
            "[23, 24, 45, 46]\n"
          ]
        }
      ]
    },
    {
      "cell_type": "markdown",
      "source": [
        "## Sort Descending"
      ],
      "metadata": {
        "id": "uXRNeWxCitdQ"
      }
    },
    {
      "cell_type": "code",
      "source": [
        "num=[2,65,34,56]\n",
        "num=[23,24,45,46]\n",
        "num.sort()\n",
        "print(num)"
      ],
      "metadata": {
        "colab": {
          "base_uri": "https://localhost:8080/"
        },
        "id": "KrbDcRHdivkW",
        "outputId": "38a2b440-6ca3-4154-cb44-6ff5f3e153a5"
      },
      "execution_count": null,
      "outputs": [
        {
          "output_type": "stream",
          "name": "stdout",
          "text": [
            "[65, 56, 34, 2]\n"
          ]
        }
      ]
    },
    {
      "cell_type": "code",
      "source": [
        "alp=[\"a\",\"b\",\"c\",\"d\"]\n",
        "alp.sort()\n",
        "print(alp)\n",
        "alp=[\"b\",\"a\",\"c\",\"d\"]\n",
        "alp.sort(reverse = True)\n",
        "print(num)"
      ],
      "metadata": {
        "colab": {
          "base_uri": "https://localhost:8080/"
        },
        "id": "M7nRbpzXjpDQ",
        "outputId": "a6ec0a2d-238b-4362-9f39-8c849f6ecaf1"
      },
      "execution_count": null,
      "outputs": [
        {
          "output_type": "stream",
          "name": "stdout",
          "text": [
            "['a', 'b', 'c', 'd']\n",
            "[65, 56, 34, 2]\n"
          ]
        }
      ]
    }
  ]
}