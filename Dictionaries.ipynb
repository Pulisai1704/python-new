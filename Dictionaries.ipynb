{
  "nbformat": 4,
  "nbformat_minor": 0,
  "metadata": {
    "colab": {
      "name": "Dictionaries.ipynb",
      "provenance": [],
      "authorship_tag": "ABX9TyNG8nyY2eTlNpNJzqciV89h",
      "include_colab_link": true
    },
    "kernelspec": {
      "name": "python3",
      "display_name": "Python 3"
    },
    "language_info": {
      "name": "python"
    }
  },
  "cells": [
    {
      "cell_type": "markdown",
      "metadata": {
        "id": "view-in-github",
        "colab_type": "text"
      },
      "source": [
        "<a href=\"https://colab.research.google.com/github/Pulisai1704/python-new/blob/module-2/Dictionaries.ipynb\" target=\"_parent\"><img src=\"https://colab.research.google.com/assets/colab-badge.svg\" alt=\"Open In Colab\"/></a>"
      ]
    },
    {
      "cell_type": "markdown",
      "source": [
        "## Dictionaries"
      ],
      "metadata": {
        "id": "QFpDI4rSEExM"
      }
    },
    {
      "cell_type": "code",
      "execution_count": 1,
      "metadata": {
        "colab": {
          "base_uri": "https://localhost:8080/"
        },
        "id": "8KCa2f2zD4Vr",
        "outputId": "eab97c0f-ceee-4b8f-b58b-04c6e2050e1e"
      },
      "outputs": [
        {
          "output_type": "stream",
          "name": "stdout",
          "text": [
            "{'brand': 'Ford', 'model': 'Mustang', 'year': 1964}\n"
          ]
        }
      ],
      "source": [
        "company = {\n",
        "\"brand\": \"Ford\",\n",
        "\"model\": \"Mustang\",\n",
        "\"year\": 1964\n",
        "}\n",
        "print(company)"
      ]
    },
    {
      "cell_type": "code",
      "source": [
        "## Duplicates Not Allowed\n",
        "names = {\n",
        "\"brand\": \"Ford\",\n",
        "\"model\": \"Mustang\",\n",
        "\"year\": 1964,\n",
        "\"year\": 2020\n",
        "}\n",
        "print(names)"
      ],
      "metadata": {
        "colab": {
          "base_uri": "https://localhost:8080/"
        },
        "id": "bKaJyivaEJNL",
        "outputId": "5d04f161-044c-4154-aa57-acd95c25b96a"
      },
      "execution_count": 2,
      "outputs": [
        {
          "output_type": "stream",
          "name": "stdout",
          "text": [
            "{'brand': 'Ford', 'model': 'Mustang', 'year': 2020}\n"
          ]
        }
      ]
    },
    {
      "cell_type": "code",
      "source": [
        "## Dictionary Length\n",
        "names = {\n",
        "\"brand\": \"Ford\",\n",
        "\"model\": \"Mustang\",\n",
        "\"year\": 1964,\n",
        "\"year\": 2020\n",
        "}\n",
        "print(len(names))"
      ],
      "metadata": {
        "colab": {
          "base_uri": "https://localhost:8080/"
        },
        "id": "KBiOdB0vEPqs",
        "outputId": "369ff535-8651-4199-eb91-55d9f7246923"
      },
      "execution_count": 3,
      "outputs": [
        {
          "output_type": "stream",
          "name": "stdout",
          "text": [
            "3\n"
          ]
        }
      ]
    },
    {
      "cell_type": "code",
      "source": [
        "## Data Types\n",
        "names = {\n",
        "\"brand\": \"Ford\",\n",
        "\"electric\": False,\n",
        "\"year\": 1964,\n",
        "\"colors\": [\"red\", \"white\", \"blue\"]\n",
        "}\n",
        "print(names)"
      ],
      "metadata": {
        "colab": {
          "base_uri": "https://localhost:8080/"
        },
        "id": "7kqQfO-vETTj",
        "outputId": "ee2a1701-eae5-4831-b661-21d95fb855fa"
      },
      "execution_count": 6,
      "outputs": [
        {
          "output_type": "stream",
          "name": "stdout",
          "text": [
            "{'brand': 'Ford', 'electric': False, 'year': 1964, 'colors': ['red', 'white', 'blue']}\n"
          ]
        }
      ]
    },
    {
      "cell_type": "markdown",
      "source": [
        "## Accessing Items"
      ],
      "metadata": {
        "id": "LiZAMuaiEe_D"
      }
    },
    {
      "cell_type": "code",
      "source": [
        "names = {\n",
        "\"brand\": \"Ford\",\n",
        "\"model\": \"Mustang\",\n",
        "\"year\": 1964\n",
        "}\n",
        "x = names[\"model\"]\n",
        "print(x)"
      ],
      "metadata": {
        "colab": {
          "base_uri": "https://localhost:8080/"
        },
        "id": "zmmlezLCEbDD",
        "outputId": "f21307d5-650b-4f14-a6e8-2497f16dae0e"
      },
      "execution_count": 7,
      "outputs": [
        {
          "output_type": "stream",
          "name": "stdout",
          "text": [
            "Mustang\n"
          ]
        }
      ]
    },
    {
      "cell_type": "code",
      "source": [
        "## get key values\n",
        "thisdict = {\n",
        "  \"brand\": \"Ford\",\n",
        "  \"model\": \"Mustang\",\n",
        "  \"year\": 1964\n",
        "}\n",
        "x = thisdict.keys()\n",
        "print(x)"
      ],
      "metadata": {
        "colab": {
          "base_uri": "https://localhost:8080/"
        },
        "id": "f1OlRBvaE03r",
        "outputId": "2286b4a7-62aa-43ca-b5e4-84a7b66271ff"
      },
      "execution_count": 8,
      "outputs": [
        {
          "output_type": "stream",
          "name": "stdout",
          "text": [
            "dict_keys(['brand', 'model', 'year'])\n"
          ]
        }
      ]
    },
    {
      "cell_type": "code",
      "source": [
        "car = {\n",
        "\"brand\": \"Fergusion\",\n",
        "\"model\": \"241\",\n",
        "\"year\": 1964\n",
        "}\n",
        "x = car.values()\n",
        "print(x) \n",
        "car[\"color\"] = \"red\"\n",
        "print(x) "
      ],
      "metadata": {
        "colab": {
          "base_uri": "https://localhost:8080/"
        },
        "id": "WMZfnMCME6fa",
        "outputId": "7d85c7b0-f3de-4704-fe38-3e8369ea6ed9"
      },
      "execution_count": 11,
      "outputs": [
        {
          "output_type": "stream",
          "name": "stdout",
          "text": [
            "dict_values(['Fergusion', '241', 1964])\n",
            "dict_values(['Fergusion', '241', 1964, 'red'])\n"
          ]
        }
      ]
    },
    {
      "cell_type": "markdown",
      "source": [
        "## Get Items"
      ],
      "metadata": {
        "id": "CWq0F4VxFOCT"
      }
    },
    {
      "cell_type": "code",
      "source": [
        "car = {\n",
        "\"brand\": \"Fergusion\",\n",
        "\"model\": \"241\",\n",
        "\"year\": 2002\n",
        "}\n",
        "x = car.items()\n",
        "print(x)\n",
        "car[\"color\"] = \"black\"\n",
        "print(x) "
      ],
      "metadata": {
        "colab": {
          "base_uri": "https://localhost:8080/"
        },
        "id": "RqO7kv7MFPkL",
        "outputId": "e30d78fe-a76b-45e7-c950-8c1bff8279a0"
      },
      "execution_count": 10,
      "outputs": [
        {
          "output_type": "stream",
          "name": "stdout",
          "text": [
            "dict_items([('brand', 'Fergusion'), ('model', '241'), ('year', 2002)])\n",
            "dict_items([('brand', 'Fergusion'), ('model', '241'), ('year', 2002), ('color', 'black')])\n"
          ]
        }
      ]
    },
    {
      "cell_type": "markdown",
      "source": [
        "## Check if Key Exists"
      ],
      "metadata": {
        "id": "DghYYiC6FnmS"
      }
    },
    {
      "cell_type": "code",
      "source": [
        "thisdict = {\n",
        "  \"brand\": \"Fergusion\",\n",
        "  \"model\": \"241\",\n",
        "  \"year\": 2005\n",
        "}\n",
        "if \"model\" in thisdict:\n",
        "  print(\"Yes, 'model' is one of the keys in the thisdict dictionary\")"
      ],
      "metadata": {
        "colab": {
          "base_uri": "https://localhost:8080/"
        },
        "id": "bFEDSNIxFpe6",
        "outputId": "9323f24d-d8aa-498d-ab39-27a976ede65a"
      },
      "execution_count": 13,
      "outputs": [
        {
          "output_type": "stream",
          "name": "stdout",
          "text": [
            "Yes, 'model' is one of the keys in the thisdict dictionary\n"
          ]
        }
      ]
    },
    {
      "cell_type": "markdown",
      "source": [
        "## Change Dictionary Items"
      ],
      "metadata": {
        "id": "4TMkKu26F_e3"
      }
    },
    {
      "cell_type": "code",
      "source": [
        "thisdict = {\n",
        "  \"brand\": \"power track\",\n",
        "  \"model\": \"380\",\n",
        "  \"year\": 2022\n",
        "}\n",
        "thisdict[\"year\"] = 2023\n",
        "print(thisdict)"
      ],
      "metadata": {
        "colab": {
          "base_uri": "https://localhost:8080/"
        },
        "id": "omfhzOebGA8H",
        "outputId": "6c7d149d-2b45-4b0b-9cd1-caae5d9d2b23"
      },
      "execution_count": 16,
      "outputs": [
        {
          "output_type": "stream",
          "name": "stdout",
          "text": [
            "{'brand': 'power track', 'model': '380', 'year': 2023}\n"
          ]
        }
      ]
    },
    {
      "cell_type": "code",
      "source": [
        "#3 Update Dictionary\n",
        "thisdict = {\n",
        "  \"brand\": \"mahindra\",\n",
        "  \"model\": \"212\",\n",
        "  \"year\": 1964\n",
        "}\n",
        "thisdict.update({\"year\": 2020})\n",
        "print(thisdict)"
      ],
      "metadata": {
        "colab": {
          "base_uri": "https://localhost:8080/"
        },
        "id": "mDvs_dOAGYDz",
        "outputId": "e0410e43-4987-49af-edfe-d40aa58019ea"
      },
      "execution_count": 33,
      "outputs": [
        {
          "output_type": "stream",
          "name": "stdout",
          "text": [
            "{'brand': 'mahindra', 'model': '212', 'year': 2020}\n"
          ]
        }
      ]
    },
    {
      "cell_type": "markdown",
      "source": [
        "## Add Dictionary Items"
      ],
      "metadata": {
        "id": "NF4qjlOWGnDb"
      }
    },
    {
      "cell_type": "code",
      "source": [
        "thisdict = {\n",
        "  \"brand\": \"sonalika\",\n",
        "  \"model\": \"385\",\n",
        "  \"year\": 1964\n",
        "}\n",
        "thisdict[\"color\"] = \"red\"\n",
        "print(thisdict)"
      ],
      "metadata": {
        "colab": {
          "base_uri": "https://localhost:8080/"
        },
        "id": "gqLACnZNGmiz",
        "outputId": "b21581c3-5b6c-4dbd-a9e0-ee2063ab0912"
      },
      "execution_count": 19,
      "outputs": [
        {
          "output_type": "stream",
          "name": "stdout",
          "text": [
            "{'brand': 'sonalika', 'model': '385', 'year': 1964, 'color': 'red'}\n"
          ]
        }
      ]
    },
    {
      "cell_type": "code",
      "source": [
        "## update dictionary\n",
        "thisdict = {\n",
        "  \"brand\": \"sonalika\",\n",
        "  \"model\": \"445\",\n",
        "  \"year\": 2020\n",
        "}\n",
        "thisdict.update({\"color\": \"red\"})\n",
        "print(thisdict)"
      ],
      "metadata": {
        "colab": {
          "base_uri": "https://localhost:8080/"
        },
        "id": "CUZSbpnbGz7b",
        "outputId": "cb554e57-8cae-48ca-809f-027c8d2a0ced"
      },
      "execution_count": 21,
      "outputs": [
        {
          "output_type": "stream",
          "name": "stdout",
          "text": [
            "{'brand': 'sonalika', 'model': '445', 'year': 2020, 'color': 'red'}\n"
          ]
        }
      ]
    },
    {
      "cell_type": "markdown",
      "source": [
        "## Removing Items"
      ],
      "metadata": {
        "id": "1jPpIqlQHESk"
      }
    },
    {
      "cell_type": "code",
      "source": [
        "## pop\n",
        "thisdict = {\n",
        "  \"brand\": \"swaraj\",\n",
        "  \"model\": \"843\",\n",
        "  \"year\": 1964\n",
        "}\n",
        "thisdict.pop(\"model\")\n",
        "print(thisdict)"
      ],
      "metadata": {
        "colab": {
          "base_uri": "https://localhost:8080/"
        },
        "id": "BF8psjGJHF4k",
        "outputId": "d45750b2-a396-4cb3-e57d-f7cf4ab8e171"
      },
      "execution_count": 22,
      "outputs": [
        {
          "output_type": "stream",
          "name": "stdout",
          "text": [
            "{'brand': 'swaraj', 'year': 1964}\n"
          ]
        }
      ]
    },
    {
      "cell_type": "code",
      "source": [
        "## del\n",
        "thisdict = {\n",
        "  \"brand\": \"swaraj\",\n",
        "  \"model\": \"843\",\n",
        "  \"year\": 2015\n",
        "}\n",
        "del thisdict[\"model\"]\n",
        "print(thisdict)"
      ],
      "metadata": {
        "colab": {
          "base_uri": "https://localhost:8080/"
        },
        "id": "cMUjhvPbHTsr",
        "outputId": "417c7a9c-1f69-49cd-f39b-3b71d9a2fff8"
      },
      "execution_count": 24,
      "outputs": [
        {
          "output_type": "stream",
          "name": "stdout",
          "text": [
            "{'brand': 'swaraj', 'year': 2015}\n"
          ]
        }
      ]
    },
    {
      "cell_type": "code",
      "source": [
        "##clear() \n",
        "thisdict = {\n",
        "  \"brand\": \"swaraj\",\n",
        "  \"model\": \"843\",\n",
        "  \"year\": 1964\n",
        "}\n",
        "thisdict.clear()\n",
        "print(thisdict)"
      ],
      "metadata": {
        "colab": {
          "base_uri": "https://localhost:8080/"
        },
        "id": "F4xpBcNEHiAs",
        "outputId": "d6fbacb7-1eba-4f36-a25e-ebc3488bfcde"
      },
      "execution_count": 25,
      "outputs": [
        {
          "output_type": "stream",
          "name": "stdout",
          "text": [
            "{}\n"
          ]
        }
      ]
    },
    {
      "cell_type": "markdown",
      "source": [
        "## Loop Dictionaries"
      ],
      "metadata": {
        "id": "2Xofy663Hv2c"
      }
    },
    {
      "cell_type": "code",
      "source": [
        "thisdict =\t{\n",
        "  \"brand\": \"mahindra\",\n",
        "  \"model\": \"271\",\n",
        "  \"year\": 2008\n",
        "}\n",
        "for x in thisdict:\n",
        "  print(x)"
      ],
      "metadata": {
        "colab": {
          "base_uri": "https://localhost:8080/"
        },
        "id": "E3VKdZh-Hw0V",
        "outputId": "bb4b48f2-f91f-4f7e-9a68-01734923e265"
      },
      "execution_count": 32,
      "outputs": [
        {
          "output_type": "stream",
          "name": "stdout",
          "text": [
            "brand\n",
            "model\n",
            "year\n"
          ]
        }
      ]
    },
    {
      "cell_type": "code",
      "source": [
        "## values\n",
        "thisdict =\t{\n",
        "  \"brand\": \"mahindra\",\n",
        "  \"model\": \"435\",\n",
        "  \"year\": 2012\n",
        "}\n",
        "for x in thisdict.values():\n",
        "  print(x)\n"
      ],
      "metadata": {
        "colab": {
          "base_uri": "https://localhost:8080/"
        },
        "id": "y_TFdU-eH5yk",
        "outputId": "6a16fe00-b404-49e6-be7b-53a242d94e6d"
      },
      "execution_count": 31,
      "outputs": [
        {
          "output_type": "stream",
          "name": "stdout",
          "text": [
            "mahindra\n",
            "435\n",
            "2012\n"
          ]
        }
      ]
    },
    {
      "cell_type": "code",
      "source": [
        "## keys\n",
        "thisdict =\t{\n",
        "  \"brand\": \"mahindra\",\n",
        "  \"model\": \"415\",\n",
        "  \"year\": 2018\n",
        "}\n",
        "for x in thisdict.keys():\n",
        "  print(x)\n"
      ],
      "metadata": {
        "colab": {
          "base_uri": "https://localhost:8080/"
        },
        "id": "mKZiycJNIAm5",
        "outputId": "43867128-d77e-4b0a-b8af-90b860934bc7"
      },
      "execution_count": 30,
      "outputs": [
        {
          "output_type": "stream",
          "name": "stdout",
          "text": [
            "brand\n",
            "model\n",
            "year\n"
          ]
        }
      ]
    },
    {
      "cell_type": "code",
      "source": [
        "## items\n",
        "thisdict =\t{\n",
        "  \"brand\": \"mahindra\",\n",
        "  \"model\": \"515\",\n",
        "  \"year\": 2022\n",
        "}\n",
        "for x, y in thisdict.items():\n",
        "  print(x, y)"
      ],
      "metadata": {
        "colab": {
          "base_uri": "https://localhost:8080/"
        },
        "id": "z-dz9qHfIKC7",
        "outputId": "8034ee7f-066b-4006-bf97-47c322bd4aa7"
      },
      "execution_count": 29,
      "outputs": [
        {
          "output_type": "stream",
          "name": "stdout",
          "text": [
            "brand mahindra\n",
            "model 515\n",
            "year 2022\n"
          ]
        }
      ]
    }
  ]
}