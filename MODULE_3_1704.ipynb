{
  "nbformat": 4,
  "nbformat_minor": 0,
  "metadata": {
    "colab": {
      "name": "MODULE-3 1704.ipynb",
      "provenance": [],
      "authorship_tag": "ABX9TyP9CEexGlPOgWnefHoscXuh",
      "include_colab_link": true
    },
    "kernelspec": {
      "name": "python3",
      "display_name": "Python 3"
    },
    "language_info": {
      "name": "python"
    }
  },
  "cells": [
    {
      "cell_type": "markdown",
      "metadata": {
        "id": "view-in-github",
        "colab_type": "text"
      },
      "source": [
        "<a href=\"https://colab.research.google.com/github/Pulisai1704/python-new/blob/Module-3/MODULE_3_1704.ipynb\" target=\"_parent\"><img src=\"https://colab.research.google.com/assets/colab-badge.svg\" alt=\"Open In Colab\"/></a>"
      ]
    },
    {
      "cell_type": "markdown",
      "source": [
        "## 1) read an entire text file.\n",
        "\n"
      ],
      "metadata": {
        "id": "6kn6_U4y-9To"
      }
    },
    {
      "cell_type": "code",
      "execution_count": null,
      "metadata": {
        "colab": {
          "base_uri": "https://localhost:8080/"
        },
        "id": "3aQQZSnu8thd",
        "outputId": "84406218-8d49-409b-efaa-79e6d717578f"
      },
      "outputs": [
        {
          "output_type": "stream",
          "name": "stdout",
          "text": [
            "       companies location\n",
            "0         Amazon      Hyd\n",
            "1          Wipro      Vsp\n",
            "2         google      Blr\n",
            "3  national inst  Chennai\n"
          ]
        }
      ],
      "source": [
        "##read an entire text file.\n",
        "import pandas as pd\n",
        "sai = {'companies':['Amazon','Wipro','google','national inst'],'location':['Hyd','Vsp','Blr','Chennai']}\n",
        "x = pd.DataFrame(sai)\n",
        "print(x)"
      ]
    },
    {
      "cell_type": "markdown",
      "source": [
        "## 2)read the first n lines of a file."
      ],
      "metadata": {
        "id": "dLp75g6z_LgS"
      }
    },
    {
      "cell_type": "code",
      "source": [
        "import pandas as pd\n",
        "puli = {'companies':['Amazon','Wipro','google','fipcart'],'location':['Hyd','Vsp','Blr','Chennai']}\n",
        "x = pd.DataFrame(puli)\n",
        "print(x)"
      ],
      "metadata": {
        "colab": {
          "base_uri": "https://localhost:8080/"
        },
        "id": "bUMb_kS2_KqX",
        "outputId": "0d214d8c-0e1a-461d-b9d0-1f85601b21a3"
      },
      "execution_count": null,
      "outputs": [
        {
          "output_type": "stream",
          "name": "stdout",
          "text": [
            "  companies location\n",
            "0    Amazon      Hyd\n",
            "1     Wipro      Vsp\n",
            "2    google      Blr\n",
            "3   fipcart  Chennai\n"
          ]
        }
      ]
    },
    {
      "cell_type": "markdown",
      "source": [
        "## 3)append text to a file and display the text."
      ],
      "metadata": {
        "id": "k8ozroOy_KTw"
      }
    },
    {
      "cell_type": "code",
      "source": [
        "import pandas as pd\n",
        "marks = [98,89,85,78]\n",
        "sai = pd.Series(marks)\n",
        "print(sai)"
      ],
      "metadata": {
        "id": "itDQaKkRAyqe"
      },
      "execution_count": null,
      "outputs": []
    },
    {
      "cell_type": "markdown",
      "source": [
        "## 4)Read numbers from a file and write even and odd numbers to separate files."
      ],
      "metadata": {
        "id": "n9hHdcUYA6uj"
      }
    },
    {
      "cell_type": "code",
      "source": [
        "import pandas as pd\n",
        "marks = [98,89,85,78]\n",
        "sai = pd.Series(marks)\n",
        "print(sai)\n",
        "print(sai[3])"
      ],
      "metadata": {
        "id": "Uh_oJMK1A7V4"
      },
      "execution_count": null,
      "outputs": []
    },
    {
      "cell_type": "markdown",
      "source": [
        "## 5) Count characters, words and lines in a text file."
      ],
      "metadata": {
        "id": "GhBFk96iBV67"
      }
    },
    {
      "cell_type": "code",
      "source": [
        "import pandas as pd\n",
        "marks = [68, 89, 75]\n",
        "puli = pd.Series(marks, index = [\"mani\", \"sai\", \"durga\"])\n",
        "print(puli)"
      ],
      "metadata": {
        "id": "Y2Jw5rqbBWdH"
      },
      "execution_count": null,
      "outputs": []
    },
    {
      "cell_type": "markdown",
      "source": [
        "## 6)Write a Pandas program to read specific columns from a given excel file"
      ],
      "metadata": {
        "id": "m3leg9vlB7H7"
      }
    },
    {
      "cell_type": "code",
      "source": [
        "import pandas as pd\n",
        "marks = [28, 29.5, 15]\n",
        "hari = pd.Series(marks, index = [\"mani\", \"sai\", \"durga\"])\n",
        "print(hari)\n",
        "print(mymarks[\"mani\"])"
      ],
      "metadata": {
        "id": "QkjB-N_0B7uR"
      },
      "execution_count": null,
      "outputs": []
    },
    {
      "cell_type": "markdown",
      "source": [
        "## 7)x To write a list to a file."
      ],
      "metadata": {
        "id": "5JbfhDdyCLKk"
      }
    },
    {
      "cell_type": "code",
      "source": [
        "import pandas as pd\n",
        "puli = {\"a1\": 12, \"a2\": 10, \"a3\": 8}\n",
        "x = pd.Series(puli)\n",
        "print(x)"
      ],
      "metadata": {
        "id": "dRpHCk_WCLgt"
      },
      "execution_count": null,
      "outputs": []
    },
    {
      "cell_type": "markdown",
      "source": [
        "## 8) Print only limited data as per the labels:"
      ],
      "metadata": {
        "id": "V5vo8Xb4Co6N"
      }
    },
    {
      "cell_type": "code",
      "source": [
        "import pandas as pd\n",
        "mani ={\"a1\": 19, \"a2\": 15, \"a3\": 18}\n",
        "x = pd.Series(mani,index=[\"a1\",\"a2\"])\n",
        "print(x)"
      ],
      "metadata": {
        "id": "59249Ch3CpZl"
      },
      "execution_count": null,
      "outputs": []
    },
    {
      "cell_type": "markdown",
      "source": [
        "## 9)Given a dataframe, select rows based on a condition."
      ],
      "metadata": {
        "id": "jBcmm2NzDEvQ"
      }
    },
    {
      "cell_type": "code",
      "source": [
        "import pandas as pd\n",
        "puli = {\n",
        "       \"Employees\": [\"hari\", \"sai\", \"giri\"],\n",
        "       \"Publications\": [50, 40, 45]\n",
        "     }\n",
        "x = pd.DataFrame(puli)\n",
        "print(x)"
      ],
      "metadata": {
        "id": "CRGE6KyYDFJ-"
      },
      "execution_count": null,
      "outputs": []
    },
    {
      "cell_type": "markdown",
      "source": [
        "## 10)Given a dataframe, select rows based on a condition."
      ],
      "metadata": {
        "id": "WOhgyHcmDVvU"
      }
    },
    {
      "cell_type": "code",
      "source": [
        "import pandas as pd\n",
        "empPublications = {\n",
        "  \"Employees\": [\"hari\", \"mani\", \"vishnu\"],\n",
        "  \"Publications\": [50, 70, 65]\n",
        "}\n",
        "myvar = pd.DataFrame(empPublications,index=[\"2001\",\"2002\",\"2003\"])\n",
        "print(myvar)\n",
        "print(myvar.loc[\"2001\"])"
      ],
      "metadata": {
        "id": "mzJKJNtDDWOJ"
      },
      "execution_count": null,
      "outputs": []
    },
    {
      "cell_type": "markdown",
      "source": [
        "## 11)x Given a CSV file or excel file to read it into a dataframe and display it."
      ],
      "metadata": {
        "id": "_fj3DeyKD5G6"
      }
    },
    {
      "cell_type": "code",
      "source": [
        "import pandas as pd\n",
        "df = pd.read_csv('ak.csv')\n",
        "print(df)"
      ],
      "metadata": {
        "id": "eEBTQRueD50I"
      },
      "execution_count": null,
      "outputs": []
    },
    {
      "cell_type": "markdown",
      "source": [
        "## 12)Given is a dataframe showing the name, occupation, salary of people. Find the average salary per occupation"
      ],
      "metadata": {
        "id": "gd5h0gf7EL2h"
      }
    },
    {
      "cell_type": "code",
      "source": [
        "import pandas as pd\n",
        "df = pd.read_csv('sai.csv')\n",
        "print(df.to_string())"
      ],
      "metadata": {
        "id": "7seNtzXvEMYx"
      },
      "execution_count": null,
      "outputs": []
    },
    {
      "cell_type": "markdown",
      "source": [
        "## 13)x Given a dataframe, select rows based on a condition"
      ],
      "metadata": {
        "id": "1UAB0-b6EeCT"
      }
    },
    {
      "cell_type": "code",
      "source": [
        "import pandas as pd\n",
        "pd.options.display.max_rows = 999\n",
        "df = pd.read_csv(‘sai.csv’)\n",
        "print(df)"
      ],
      "metadata": {
        "id": "fFzkVtczEeqX"
      },
      "execution_count": null,
      "outputs": []
    }
  ]
}