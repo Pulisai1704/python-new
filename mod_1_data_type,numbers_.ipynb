{
  "cells": [
    {
      "cell_type": "markdown",
      "metadata": {
        "id": "view-in-github",
        "colab_type": "text"
      },
      "source": [
        "<a href=\"https://colab.research.google.com/github/Pulisai1704/python-new/blob/module-1/mod_1_data_type%2Cnumbers_.ipynb\" target=\"_parent\"><img src=\"https://colab.research.google.com/assets/colab-badge.svg\" alt=\"Open In Colab\"/></a>"
      ]
    },
    {
      "cell_type": "markdown",
      "id": "8dee7450",
      "metadata": {
        "id": "8dee7450"
      },
      "source": [
        "## avg of two numbers"
      ]
    },
    {
      "cell_type": "code",
      "execution_count": null,
      "id": "0c8ef814",
      "metadata": {
        "id": "0c8ef814",
        "outputId": "708ab13d-6571-4900-c56c-74c28099eea3"
      },
      "outputs": [
        {
          "name": "stdout",
          "output_type": "stream",
          "text": [
            "20.0\n"
          ]
        }
      ],
      "source": [
        "a=10\n",
        "b=20\n",
        "c=30\n",
        "avg=(a+b+c)/3\n",
        "print(avg)"
      ]
    },
    {
      "cell_type": "code",
      "source": [
        ""
      ],
      "metadata": {
        "id": "LO9HtPn6pVXK"
      },
      "id": "LO9HtPn6pVXK",
      "execution_count": null,
      "outputs": []
    },
    {
      "cell_type": "markdown",
      "id": "6c63b764",
      "metadata": {
        "id": "6c63b764"
      },
      "source": [
        "## multiplication of two numbers\n"
      ]
    },
    {
      "cell_type": "code",
      "execution_count": null,
      "id": "37fb4cab",
      "metadata": {
        "id": "37fb4cab",
        "outputId": "dcd06c23-3139-4750-b334-0f890085aaf8"
      },
      "outputs": [
        {
          "name": "stdout",
          "output_type": "stream",
          "text": [
            "200\n",
            "<class 'type'>\n"
          ]
        }
      ],
      "source": [
        "a=10\n",
        "b=20\n",
        "mul=(a*b)\n",
        "print(mul)\n",
        "print(type)"
      ]
    },
    {
      "cell_type": "markdown",
      "id": "8a0834b6",
      "metadata": {
        "id": "8a0834b6"
      },
      "source": [
        "## addition of two numbers (dynamic)"
      ]
    },
    {
      "cell_type": "code",
      "execution_count": null,
      "id": "814b5a2c",
      "metadata": {
        "scrolled": true,
        "id": "814b5a2c",
        "outputId": "6c2a5e89-0692-4c30-caf8-fb4c24df029b"
      },
      "outputs": [
        {
          "name": "stdout",
          "output_type": "stream",
          "text": [
            "enter the number:10\n",
            "enter the number:20\n",
            "30\n",
            "<class 'type'>\n"
          ]
        }
      ],
      "source": [
        "a=int(input(\"enter the number:\"))\n",
        "b=int(input(\"enter the number:\"))\n",
        "add=(a+b)\n",
        "print(add)\n",
        "print(type)"
      ]
    },
    {
      "cell_type": "markdown",
      "id": "eb91fa47",
      "metadata": {
        "id": "eb91fa47"
      },
      "source": [
        "## convert int to float"
      ]
    },
    {
      "cell_type": "code",
      "execution_count": null,
      "id": "54f50a2a",
      "metadata": {
        "id": "54f50a2a",
        "outputId": "16b9d8c9-0991-4d8f-903c-d13a64c4e9cb"
      },
      "outputs": [
        {
          "name": "stdout",
          "output_type": "stream",
          "text": [
            "<class 'int'>\n",
            "<class 'float'>\n"
          ]
        }
      ],
      "source": [
        "a=10\n",
        "print(type(a))\n",
        "b=float(a)\n",
        "print(type(b))"
      ]
    },
    {
      "cell_type": "markdown",
      "id": "520dcf1a",
      "metadata": {
        "id": "520dcf1a"
      },
      "source": [
        "### convert float to int"
      ]
    },
    {
      "cell_type": "code",
      "execution_count": null,
      "id": "5546e3c7",
      "metadata": {
        "id": "5546e3c7",
        "outputId": "38cbf07d-e91f-4cd1-d7b2-9b7a39420cd8"
      },
      "outputs": [
        {
          "name": "stdout",
          "output_type": "stream",
          "text": [
            "<class 'float'>\n",
            "<class 'int'>\n",
            "10\n"
          ]
        }
      ],
      "source": [
        "a=10.5\n",
        "b=int(a)\n",
        "print(type(a))\n",
        "print(type(b))\n",
        "print(b)"
      ]
    },
    {
      "cell_type": "markdown",
      "id": "14b6948f",
      "metadata": {
        "id": "14b6948f"
      },
      "source": [
        "### convert int to string"
      ]
    },
    {
      "cell_type": "code",
      "execution_count": null,
      "id": "4f407c3b",
      "metadata": {
        "id": "4f407c3b",
        "outputId": "7bb9a87d-5881-4947-8070-3ce0c1d5126d"
      },
      "outputs": [
        {
          "name": "stdout",
          "output_type": "stream",
          "text": [
            "<class 'int'>\n",
            "<class 'str'>\n"
          ]
        }
      ],
      "source": [
        "a=20\n",
        "b=str(a)\n",
        "print(type(a))\n",
        "print(type(b))"
      ]
    },
    {
      "cell_type": "markdown",
      "id": "63680526",
      "metadata": {
        "id": "63680526"
      },
      "source": [
        "### convert string to int (not possible only if values given in alph)"
      ]
    },
    {
      "cell_type": "markdown",
      "id": "5b47c0bd",
      "metadata": {
        "id": "5b47c0bd"
      },
      "source": [
        "## Boolean "
      ]
    },
    {
      "cell_type": "code",
      "execution_count": null,
      "id": "8905d010",
      "metadata": {
        "id": "8905d010",
        "outputId": "6589e9cf-6ea9-440e-b3c6-ca3acb5e8823"
      },
      "outputs": [
        {
          "name": "stdout",
          "output_type": "stream",
          "text": [
            "True\n",
            "<class 'bool'>\n"
          ]
        }
      ],
      "source": [
        "a=10\n",
        "b=5\n",
        "c=b<a\n",
        "print(bool(c))\n",
        "print(type(c))"
      ]
    },
    {
      "cell_type": "markdown",
      "id": "8f50f41e",
      "metadata": {
        "id": "8f50f41e"
      },
      "source": [
        "## Boolean in if"
      ]
    },
    {
      "cell_type": "code",
      "execution_count": null,
      "id": "dcf240bf",
      "metadata": {
        "id": "dcf240bf",
        "outputId": "d939b881-898b-4e63-9eec-4a3063e78530"
      },
      "outputs": [
        {
          "name": "stdout",
          "output_type": "stream",
          "text": [
            "true\n"
          ]
        }
      ],
      "source": [
        "a = 200\n",
        "b = 33\n",
        "\n",
        "if b > a:\n",
        "  print(\"false\")\n",
        "else:\n",
        "  print(\"true\")\n"
      ]
    },
    {
      "cell_type": "markdown",
      "id": "aae80fa1",
      "metadata": {
        "id": "aae80fa1"
      },
      "source": [
        "## boolean"
      ]
    },
    {
      "cell_type": "code",
      "execution_count": null,
      "id": "9e8419ee",
      "metadata": {
        "id": "9e8419ee",
        "outputId": "20ab9dfd-8426-4a1d-c0f0-db68103ef563"
      },
      "outputs": [
        {
          "name": "stdout",
          "output_type": "stream",
          "text": [
            "True\n",
            "True\n"
          ]
        }
      ],
      "source": [
        "x = \"Hello\"\n",
        "y = 15\n",
        "\n",
        "print(bool(x))\n",
        "print(bool(y))"
      ]
    },
    {
      "cell_type": "markdown",
      "id": "59f1238e",
      "metadata": {
        "id": "59f1238e"
      },
      "source": [
        "## convert Boolean into int"
      ]
    },
    {
      "cell_type": "code",
      "execution_count": null,
      "id": "6dd9e517",
      "metadata": {
        "id": "6dd9e517",
        "outputId": "d2fdf852-1475-4e0e-dcd7-28c8866084ca"
      },
      "outputs": [
        {
          "name": "stdout",
          "output_type": "stream",
          "text": [
            "<class 'bool'>\n",
            "<class 'int'>\n"
          ]
        }
      ],
      "source": [
        "a=bool(10)\n",
        "print(type(a))\n",
        "b=int(a)\n",
        "print(type(b))"
      ]
    },
    {
      "cell_type": "markdown",
      "id": "1840382c",
      "metadata": {
        "id": "1840382c"
      },
      "source": [
        "## convert Boolean into float"
      ]
    },
    {
      "cell_type": "code",
      "execution_count": null,
      "id": "d1d5a2ad",
      "metadata": {
        "id": "d1d5a2ad",
        "outputId": "9a109bd4-a9c2-46dc-fe17-bc3cb928de56"
      },
      "outputs": [
        {
          "name": "stdout",
          "output_type": "stream",
          "text": [
            "0.0\n",
            "<class 'float'>\n"
          ]
        }
      ],
      "source": [
        "a=10.5\n",
        "b=12.5\n",
        "c=b<a\n",
        "e=float(bool(c))\n",
        "print(e)\n",
        "print(type(e))"
      ]
    },
    {
      "cell_type": "markdown",
      "id": "9828e61c",
      "metadata": {
        "id": "9828e61c"
      },
      "source": [
        "## convert Boolean into float"
      ]
    },
    {
      "cell_type": "code",
      "execution_count": null,
      "id": "29f49a03",
      "metadata": {
        "id": "29f49a03",
        "outputId": "b96b8f4b-fc66-4f67-af6b-44e8d26c1905"
      },
      "outputs": [
        {
          "name": "stdout",
          "output_type": "stream",
          "text": [
            "<class 'bool'>\n",
            "<class 'float'>\n"
          ]
        }
      ],
      "source": [
        "a=bool(10)\n",
        "print(type(a))\n",
        "b=float(a)\n",
        "print(type(b))"
      ]
    },
    {
      "cell_type": "markdown",
      "id": "e8c7865b",
      "metadata": {
        "id": "e8c7865b"
      },
      "source": [
        "## convert Boolean into string"
      ]
    },
    {
      "cell_type": "code",
      "execution_count": null,
      "id": "b4bfb9e0",
      "metadata": {
        "id": "b4bfb9e0",
        "outputId": "0c315deb-9b90-4e98-ab98-bd003a157c4b"
      },
      "outputs": [
        {
          "name": "stdout",
          "output_type": "stream",
          "text": [
            "<class 'bool'>\n",
            "True\n",
            "<class 'str'>\n"
          ]
        }
      ],
      "source": [
        "a=10\n",
        "b=5\n",
        "c=a>b\n",
        "d=str(c)\n",
        "print(type(c))\n",
        "print(d)\n",
        "print(type(d))"
      ]
    },
    {
      "cell_type": "markdown",
      "id": "59a98c67",
      "metadata": {
        "id": "59a98c67"
      },
      "source": [
        "## complex into int"
      ]
    },
    {
      "cell_type": "code",
      "execution_count": null,
      "id": "ebdb8185",
      "metadata": {
        "id": "ebdb8185",
        "outputId": "25778233-3999-4b0d-dc5f-3f85f3423657"
      },
      "outputs": [
        {
          "name": "stdout",
          "output_type": "stream",
          "text": [
            "<class 'complex'>\n",
            "<class 'str'>\n",
            "<class 'bool'>\n"
          ]
        }
      ],
      "source": [
        "a=5+2j\n",
        "print(type(a))\n",
        "c=str(a)\n",
        "print(type(c))\n",
        "d=bool(a)\n",
        "print(type(d))"
      ]
    },
    {
      "cell_type": "code",
      "execution_count": null,
      "id": "dccd56b3",
      "metadata": {
        "id": "dccd56b3"
      },
      "outputs": [],
      "source": [
        ""
      ]
    }
  ],
  "metadata": {
    "kernelspec": {
      "display_name": "Python 3 (ipykernel)",
      "language": "python",
      "name": "python3"
    },
    "language_info": {
      "codemirror_mode": {
        "name": "ipython",
        "version": 3
      },
      "file_extension": ".py",
      "mimetype": "text/x-python",
      "name": "python",
      "nbconvert_exporter": "python",
      "pygments_lexer": "ipython3",
      "version": "3.9.7"
    },
    "colab": {
      "name": "mod 1 data type,numbers .ipynb",
      "provenance": [],
      "collapsed_sections": [],
      "include_colab_link": true
    }
  },
  "nbformat": 4,
  "nbformat_minor": 5
}