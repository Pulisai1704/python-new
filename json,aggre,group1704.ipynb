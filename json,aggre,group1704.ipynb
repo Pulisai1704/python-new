{
  "cells": [
    {
      "cell_type": "markdown",
      "metadata": {
        "id": "view-in-github",
        "colab_type": "text"
      },
      "source": [
        "<a href=\"https://colab.research.google.com/github/Pulisai1704/python-new/blob/Module-3/json%2Caggre%2Cgroup1704.ipynb\" target=\"_parent\"><img src=\"https://colab.research.google.com/assets/colab-badge.svg\" alt=\"Open In Colab\"/></a>"
      ]
    },
    {
      "cell_type": "markdown",
      "id": "7255db4f-6458-44c7-9093-86690b000602",
      "metadata": {
        "id": "7255db4f-6458-44c7-9093-86690b000602"
      },
      "source": [
        "## JSON"
      ]
    },
    {
      "cell_type": "code",
      "execution_count": null,
      "id": "72063b4f-72d3-4a3a-906c-2d148ae5e418",
      "metadata": {
        "id": "72063b4f-72d3-4a3a-906c-2d148ae5e418",
        "outputId": "61491eaa-b83e-49a7-9f8f-c327d627ab07"
      },
      "outputs": [
        {
          "name": "stdout",
          "output_type": "stream",
          "text": [
            "    sno     name   age  gender            gmail id  Unnamed: 5 pasport\n",
            "0     1       sai   12    male       sai@gmail.com         NaN      no\n",
            "1     2      mani   32    male      mani@gmail.com         NaN      no\n",
            "2     3      gopi   22    male      gopi@gmail.com         NaN     yes\n",
            "3     4    venkey   42    male    venkey@gmail.com         NaN      no\n",
            "4     5      hari   54    male      hari@gmail.com         NaN      no\n",
            "5     6   hariesh   31    male   hariesh@gmail.com         NaN      no\n",
            "6     7     bhanu   12   maler     bhanu@gmail.com         NaN     yes\n",
            "7     8     kiran   25    male     kiran@gmail.com         NaN      no\n",
            "8     9     durga   26    male     durga@gmail.com         NaN      no\n",
            "9    10  bhargavi   27  female  bhargavi@gmail.com         NaN      no\n",
            "10   11  srikanth   21    male  srikanth@gmail.com         NaN      no\n",
            "11   12      ramu   28    male      ramu@gmail.com         NaN      no\n",
            "12   13      ravi   36    male     ravi@gimail.com         NaN     yes\n",
            "13   14     surya   39    male     surya@gmail.com         NaN      no\n",
            "14   15     leela   17    male     leela@gmail.com         NaN      no\n",
            "15   16   sukumar   18    male   sukumar@gmail.com         NaN      no\n",
            "16   17    vishnu   19  female    vishnu@gmail.com         NaN     yes\n",
            "17   18    blessy   29  female    blessy@gmail.com         NaN      no\n",
            "18   19   chaitan   44    male   chaitan@gmail.com         NaN      no\n",
            "19   20      abhi   33  female      abhi@gmail.com         NaN      no\n"
          ]
        }
      ],
      "source": [
        "import pandas as pd\n",
        "df=pd.read_csv(\"D:\\\\students.csv\")\n",
        "print(df.to_string())"
      ]
    },
    {
      "cell_type": "code",
      "execution_count": null,
      "id": "e28eb028-c0bc-41d5-8c19-99ae7d5c29af",
      "metadata": {
        "id": "e28eb028-c0bc-41d5-8c19-99ae7d5c29af",
        "outputId": "a8573374-c8c6-4e60-ba37-7501c50eae18"
      },
      "outputs": [
        {
          "name": "stdout",
          "output_type": "stream",
          "text": [
            "   sno     name   age  gender            gmail id  Unnamed: 5 pasport\n",
            "0    1       sai   12    male       sai@gmail.com         NaN      no\n",
            "6    7     bhanu   12   maler     bhanu@gmail.com         NaN     yes\n",
            "9   10  bhargavi   27  female  bhargavi@gmail.com         NaN      no\n"
          ]
        }
      ],
      "source": [
        "import pandas as pd\n",
        "df=pd.read_csv(\"D:\\\\students.csv\")\n",
        "de=df.drop_duplicates(subset=\"gender\")\n",
        "print(de)"
      ]
    },
    {
      "cell_type": "code",
      "execution_count": null,
      "id": "874425b7-e27c-4009-bbe8-4a3e3ea07c9b",
      "metadata": {
        "id": "874425b7-e27c-4009-bbe8-4a3e3ea07c9b",
        "outputId": "f3009dfe-3cd2-467f-d0cf-3e7d54b73950"
      },
      "outputs": [
        {
          "name": "stdout",
          "output_type": "stream",
          "text": [
            "   sno     name   age  gender            gmail id  Unnamed: 5 pasport\n",
            "0    1       sai   12    male       sai@gmail.com         NaN      no\n",
            "6    7     bhanu   12   maler     bhanu@gmail.com         NaN     yes\n",
            "9   10  bhargavi   27  female  bhargavi@gmail.com         NaN      no\n"
          ]
        }
      ],
      "source": [
        "import pandas as pd\n",
        "df=pd.read_csv(\"D:\\\\students.csv\")\n",
        "de=df.drop_duplicates(subset=\"gender\",keep=\"first\")\n",
        "print(de)"
      ]
    },
    {
      "cell_type": "code",
      "execution_count": null,
      "id": "6b0076f0-3438-47e8-926a-3dde7b81e047",
      "metadata": {
        "id": "6b0076f0-3438-47e8-926a-3dde7b81e047",
        "outputId": "d60128ee-40e0-49c3-aa9e-edff8945264f"
      },
      "outputs": [
        {
          "name": "stdout",
          "output_type": "stream",
          "text": [
            "   sno  name   age  gender         gmail id  Unnamed: 5 pasport\n",
            "0    1    sai   12    male    sai@gmail.com         NaN      no\n",
            "6    7  bhanu   12   maler  bhanu@gmail.com         NaN     yes\n",
            "7    8  kiran   25  female  kiran@gmail.com         NaN      no\n"
          ]
        }
      ],
      "source": [
        "import pandas as pd\n",
        "df=pd.read_csv(\"D:\\\\studentsmodify.csv\")\n",
        "de=df.drop_duplicates(subset=\"gender\",keep=\"first\")\n",
        "print(de)"
      ]
    },
    {
      "cell_type": "code",
      "execution_count": null,
      "id": "b4404c70-ca41-476b-a886-6b47130a3192",
      "metadata": {
        "id": "b4404c70-ca41-476b-a886-6b47130a3192",
        "outputId": "86ab7e34-3bba-4a8a-e375-2eee979c3dd1"
      },
      "outputs": [
        {
          "name": "stdout",
          "output_type": "stream",
          "text": [
            "   sno  name   age  gender         gmail id  Unnamed: 5 pasport\n",
            "0    1    sai   12    male    sai@gmail.com         NaN      no\n",
            "6    7  bhanu   12   maler  bhanu@gmail.com         NaN     yes\n",
            "7    8  kiran   25  female  kiran@gmail.com         NaN      no\n"
          ]
        }
      ],
      "source": [
        "import pandas as pd\n",
        "df=pd.read_csv(\"D:\\\\studentsmodify.csv\")\n",
        "de=df.drop_duplicates(subset=\"gender\",keep=\"first\")\n",
        "print(de)"
      ]
    },
    {
      "cell_type": "code",
      "execution_count": null,
      "id": "e5863e60-bea4-4015-a529-dc158c4f3958",
      "metadata": {
        "id": "e5863e60-bea4-4015-a529-dc158c4f3958",
        "outputId": "303e8af5-d995-48a2-a22d-335b6d0a55ce"
      },
      "outputs": [
        {
          "name": "stdout",
          "output_type": "stream",
          "text": [
            "    sno     name   age  gender            gmail id  Unnamed: 5 pasport\n",
            "0     1       sai   12    male       sai@gmail.com         1.0      no\n",
            "1     2      mani   32    male      mani@gmail.com         1.0      no\n",
            "2     3      gopi   22    male      gopi@gmail.com         1.0     yes\n",
            "3     4    venkey   42    male    venkey@gmail.com         1.0      no\n",
            "4     5      hari   54    male      hari@gmail.com         1.0      no\n",
            "5     6   hariesh   31    male   hariesh@gmail.com         1.0      no\n",
            "6     7     bhanu   12   maler     bhanu@gmail.com         1.0     yes\n",
            "7     8     kiran   25    male     kiran@gmail.com         1.0      no\n",
            "8     9     durga   26    male     durga@gmail.com         1.0      no\n",
            "9    10  bhargavi   27  female  bhargavi@gmail.com         1.0      no\n",
            "10   11  srikanth   21    male  srikanth@gmail.com         1.0      no\n",
            "11   12      ramu   28    male      ramu@gmail.com         1.0      no\n",
            "12   13      ravi   36    male     ravi@gimail.com         1.0     yes\n",
            "13   14     surya   39    male     surya@gmail.com         1.0      no\n",
            "14   15     leela   17    male     leela@gmail.com         1.0      no\n",
            "15   16   sukumar   18    male   sukumar@gmail.com         1.0      no\n",
            "16   17    vishnu   19  female    vishnu@gmail.com         1.0     yes\n",
            "17   18    blessy   29  female    blessy@gmail.com         1.0      no\n",
            "18   19   chaitan   44    male   chaitan@gmail.com         1.0      no\n",
            "19   20      abhi   33  female      abhi@gmail.com         1.0      no\n"
          ]
        }
      ],
      "source": [
        "import pandas as pd\n",
        "df=pd.read_csv(\"D:\\\\students.csv\")\n",
        "de=df.fillna(1,inplace=True)\n",
        "print(df.to_string())"
      ]
    },
    {
      "cell_type": "code",
      "execution_count": null,
      "id": "9d312f97-fc83-48e8-b072-faf89fc1fa8f",
      "metadata": {
        "id": "9d312f97-fc83-48e8-b072-faf89fc1fa8f",
        "outputId": "ebcaec0e-8b1e-4f6e-fb0b-c8aa0865ccef"
      },
      "outputs": [
        {
          "data": {
            "text/html": [
              "<div>\n",
              "<style scoped>\n",
              "    .dataframe tbody tr th:only-of-type {\n",
              "        vertical-align: middle;\n",
              "    }\n",
              "\n",
              "    .dataframe tbody tr th {\n",
              "        vertical-align: top;\n",
              "    }\n",
              "\n",
              "    .dataframe thead th {\n",
              "        text-align: right;\n",
              "    }\n",
              "</style>\n",
              "<table border=\"1\" class=\"dataframe\">\n",
              "  <thead>\n",
              "    <tr style=\"text-align: right;\">\n",
              "      <th></th>\n",
              "      <th>age</th>\n",
              "    </tr>\n",
              "  </thead>\n",
              "  <tbody>\n",
              "    <tr>\n",
              "      <th>min</th>\n",
              "      <td>12</td>\n",
              "    </tr>\n",
              "    <tr>\n",
              "      <th>max</th>\n",
              "      <td>54</td>\n",
              "    </tr>\n",
              "  </tbody>\n",
              "</table>\n",
              "</div>"
            ],
            "text/plain": [
              "     age\n",
              "min   12\n",
              "max   54"
            ]
          },
          "execution_count": 13,
          "metadata": {},
          "output_type": "execute_result"
        }
      ],
      "source": [
        "import pandas as pd\n",
        "df=pd.read_csv(\"D:\\\\pasport.csv\")\n",
        "df.aggregate({\"age\":['min','max']})\n",
        "#print(df.to_string())"
      ]
    },
    {
      "cell_type": "code",
      "execution_count": null,
      "id": "a8d51712-ab58-41b9-b5f3-97bfdb0f5aa4",
      "metadata": {
        "id": "a8d51712-ab58-41b9-b5f3-97bfdb0f5aa4",
        "outputId": "c0777d7e-347f-4b27-8d16-bba6fd2bc88e"
      },
      "outputs": [
        {
          "data": {
            "text/html": [
              "<div>\n",
              "<style scoped>\n",
              "    .dataframe tbody tr th:only-of-type {\n",
              "        vertical-align: middle;\n",
              "    }\n",
              "\n",
              "    .dataframe tbody tr th {\n",
              "        vertical-align: top;\n",
              "    }\n",
              "\n",
              "    .dataframe thead th {\n",
              "        text-align: right;\n",
              "    }\n",
              "</style>\n",
              "<table border=\"1\" class=\"dataframe\">\n",
              "  <thead>\n",
              "    <tr style=\"text-align: right;\">\n",
              "      <th></th>\n",
              "      <th>age</th>\n",
              "    </tr>\n",
              "  </thead>\n",
              "  <tbody>\n",
              "    <tr>\n",
              "      <th>min</th>\n",
              "      <td>12.00</td>\n",
              "    </tr>\n",
              "    <tr>\n",
              "      <th>max</th>\n",
              "      <td>54.00</td>\n",
              "    </tr>\n",
              "    <tr>\n",
              "      <th>average</th>\n",
              "      <td>28.35</td>\n",
              "    </tr>\n",
              "  </tbody>\n",
              "</table>\n",
              "</div>"
            ],
            "text/plain": [
              "           age\n",
              "min      12.00\n",
              "max      54.00\n",
              "average  28.35"
            ]
          },
          "execution_count": 16,
          "metadata": {},
          "output_type": "execute_result"
        }
      ],
      "source": [
        "import pandas as pd\n",
        "df=pd.read_csv(\"D:\\\\pasport.csv\")\n",
        "df.aggregate({\"age\":['min','max','average']})"
      ]
    },
    {
      "cell_type": "code",
      "execution_count": null,
      "id": "a83842de-6884-48e1-82d1-503d016b9932",
      "metadata": {
        "id": "a83842de-6884-48e1-82d1-503d016b9932",
        "outputId": "750163b6-1858-441d-9912-60bef635df85"
      },
      "outputs": [
        {
          "data": {
            "text/html": [
              "<div>\n",
              "<style scoped>\n",
              "    .dataframe tbody tr th:only-of-type {\n",
              "        vertical-align: middle;\n",
              "    }\n",
              "\n",
              "    .dataframe tbody tr th {\n",
              "        vertical-align: top;\n",
              "    }\n",
              "\n",
              "    .dataframe thead th {\n",
              "        text-align: right;\n",
              "    }\n",
              "</style>\n",
              "<table border=\"1\" class=\"dataframe\">\n",
              "  <thead>\n",
              "    <tr style=\"text-align: right;\">\n",
              "      <th></th>\n",
              "      <th>age</th>\n",
              "    </tr>\n",
              "  </thead>\n",
              "  <tbody>\n",
              "    <tr>\n",
              "      <th>sum</th>\n",
              "      <td>567</td>\n",
              "    </tr>\n",
              "  </tbody>\n",
              "</table>\n",
              "</div>"
            ],
            "text/plain": [
              "     age\n",
              "sum  567"
            ]
          },
          "execution_count": 17,
          "metadata": {},
          "output_type": "execute_result"
        }
      ],
      "source": [
        "import pandas as pd\n",
        "df=pd.read_csv(\"D:\\\\pasport.csv\")\n",
        "df.aggregate({\"age\":['sum']})"
      ]
    },
    {
      "cell_type": "code",
      "execution_count": null,
      "id": "d2b677d2-524c-49c4-a1ba-de7167ca0bca",
      "metadata": {
        "id": "d2b677d2-524c-49c4-a1ba-de7167ca0bca",
        "outputId": "ebce2412-48bb-4713-8b7f-21667cb7f955"
      },
      "outputs": [
        {
          "data": {
            "text/html": [
              "<div>\n",
              "<style scoped>\n",
              "    .dataframe tbody tr th:only-of-type {\n",
              "        vertical-align: middle;\n",
              "    }\n",
              "\n",
              "    .dataframe tbody tr th {\n",
              "        vertical-align: top;\n",
              "    }\n",
              "\n",
              "    .dataframe thead th {\n",
              "        text-align: right;\n",
              "    }\n",
              "</style>\n",
              "<table border=\"1\" class=\"dataframe\">\n",
              "  <thead>\n",
              "    <tr style=\"text-align: right;\">\n",
              "      <th></th>\n",
              "      <th>age</th>\n",
              "    </tr>\n",
              "  </thead>\n",
              "  <tbody>\n",
              "    <tr>\n",
              "      <th>count</th>\n",
              "      <td>20</td>\n",
              "    </tr>\n",
              "  </tbody>\n",
              "</table>\n",
              "</div>"
            ],
            "text/plain": [
              "       age\n",
              "count   20"
            ]
          },
          "execution_count": 18,
          "metadata": {},
          "output_type": "execute_result"
        }
      ],
      "source": [
        "import pandas as pd\n",
        "df=pd.read_csv(\"D:\\\\pasport.csv\")\n",
        "df.aggregate({\"age\":['count']})"
      ]
    },
    {
      "cell_type": "code",
      "execution_count": null,
      "id": "c2520920-ec78-4199-90ff-97c8d831a8d1",
      "metadata": {
        "id": "c2520920-ec78-4199-90ff-97c8d831a8d1",
        "outputId": "acb6d7d2-64e0-4de3-b039-1c74d24a9c8d"
      },
      "outputs": [
        {
          "name": "stdout",
          "output_type": "stream",
          "text": [
            "        age\n",
            "mean  28.35\n",
            "     sno\n",
            "max   20\n"
          ]
        }
      ],
      "source": [
        "import pandas as pd\n",
        "df=pd.read_csv(\"D:\\\\pasport.csv\")\n",
        "print(df.aggregate({\"age\":['mean']}))\n",
        "print(df.aggregate({\"sno\":['max']}))\n"
      ]
    },
    {
      "cell_type": "code",
      "execution_count": null,
      "id": "b532a30f-a942-425d-b895-970253d4a5d6",
      "metadata": {
        "id": "b532a30f-a942-425d-b895-970253d4a5d6",
        "outputId": "7f0430a6-843c-4842-c0a6-74edeab0b071"
      },
      "outputs": [
        {
          "name": "stdout",
          "output_type": "stream",
          "text": [
            "           0                                                  1\n",
            "0         ad     sno  Name  age gender        gmail id adres...\n",
            "1       bade      sno    Name  age  gender          gmail id...\n",
            "2        bap     sno      Name  age  gender            gmail...\n",
            "3       duli      sno  Name  age gender        gmail id adre...\n",
            "4         gu     sno  Name  age gender        gmail id adres...\n",
            "5        gvd      sno  Name  age  gender        gmail id adr...\n",
            "6       hybd     sno   Name  age gender         gmail id adr...\n",
            "7   kanagala      sno   Name  age gender         gmail id   ...\n",
            "8     kasani      sno   Name  age gender         gmail id  a...\n",
            "9   kolagani      sno     Name  age gender           gmail i...\n",
            "10       kri     sno   Name  age gender         gmail id adr...\n",
            "11       nag     sno   Name  age gender         gmail id adr...\n",
            "12    pallem      sno    Name  age  gender          gmail id...\n",
            "13      pudi      sno  Name  age gender         gmail id adr...\n",
            "14     pusha      sno     Name  age gender           gmail i...\n",
            "15       raj      sno      Name  age gender            gmail...\n",
            "16   repalle     sno Name  age gender       gmail id   adres...\n",
            "17        rj     sno    Name  age gender          gmail id a...\n",
            "18       vij     sno  Name  age gender        gmail id adres...\n",
            "19      visk     sno     Name  age gender           gmail id...\n"
          ]
        },
        {
          "data": {
            "text/html": [
              "<div>\n",
              "<style scoped>\n",
              "    .dataframe tbody tr th:only-of-type {\n",
              "        vertical-align: middle;\n",
              "    }\n",
              "\n",
              "    .dataframe tbody tr th {\n",
              "        vertical-align: top;\n",
              "    }\n",
              "\n",
              "    .dataframe thead th {\n",
              "        text-align: right;\n",
              "    }\n",
              "</style>\n",
              "<table border=\"1\" class=\"dataframe\">\n",
              "  <thead>\n",
              "    <tr style=\"text-align: right;\">\n",
              "      <th></th>\n",
              "      <th>sno</th>\n",
              "      <th>Name</th>\n",
              "      <th>age</th>\n",
              "      <th>gender</th>\n",
              "      <th>gmail id</th>\n",
              "      <th>pasport</th>\n",
              "      <th>phone no</th>\n",
              "    </tr>\n",
              "    <tr>\n",
              "      <th>adress</th>\n",
              "      <th></th>\n",
              "      <th></th>\n",
              "      <th></th>\n",
              "      <th></th>\n",
              "      <th></th>\n",
              "      <th></th>\n",
              "      <th></th>\n",
              "    </tr>\n",
              "  </thead>\n",
              "  <tbody>\n",
              "    <tr>\n",
              "      <th>ad</th>\n",
              "      <td>3</td>\n",
              "      <td>gopi</td>\n",
              "      <td>22</td>\n",
              "      <td>male</td>\n",
              "      <td>gopi@gmail.com</td>\n",
              "      <td>yes</td>\n",
              "      <td>7896541236</td>\n",
              "    </tr>\n",
              "    <tr>\n",
              "      <th>bade</th>\n",
              "      <td>17</td>\n",
              "      <td>vishnu</td>\n",
              "      <td>19</td>\n",
              "      <td>female</td>\n",
              "      <td>vishnu@gmail.com</td>\n",
              "      <td>yes</td>\n",
              "      <td>9632587412</td>\n",
              "    </tr>\n",
              "    <tr>\n",
              "      <th>bap</th>\n",
              "      <td>10</td>\n",
              "      <td>bhargavi</td>\n",
              "      <td>27</td>\n",
              "      <td>female</td>\n",
              "      <td>bhargavi@gmail.com</td>\n",
              "      <td>no</td>\n",
              "      <td>7649583425</td>\n",
              "    </tr>\n",
              "    <tr>\n",
              "      <th>duli</th>\n",
              "      <td>12</td>\n",
              "      <td>ramu</td>\n",
              "      <td>28</td>\n",
              "      <td>male</td>\n",
              "      <td>ramu@gmail.com</td>\n",
              "      <td>no</td>\n",
              "      <td>8456912357</td>\n",
              "    </tr>\n",
              "    <tr>\n",
              "      <th>gu</th>\n",
              "      <td>5</td>\n",
              "      <td>hari</td>\n",
              "      <td>54</td>\n",
              "      <td>male</td>\n",
              "      <td>hari@gmail.com</td>\n",
              "      <td>no</td>\n",
              "      <td>9874562154</td>\n",
              "    </tr>\n",
              "    <tr>\n",
              "      <th>gvd</th>\n",
              "      <td>20</td>\n",
              "      <td>abhi</td>\n",
              "      <td>33</td>\n",
              "      <td>female</td>\n",
              "      <td>abhi@gmail.com</td>\n",
              "      <td>no</td>\n",
              "      <td>9874561236</td>\n",
              "    </tr>\n",
              "    <tr>\n",
              "      <th>hybd</th>\n",
              "      <td>8</td>\n",
              "      <td>kiran</td>\n",
              "      <td>25</td>\n",
              "      <td>male</td>\n",
              "      <td>kiran@gmail.com</td>\n",
              "      <td>no</td>\n",
              "      <td>7812459654</td>\n",
              "    </tr>\n",
              "    <tr>\n",
              "      <th>kanagala</th>\n",
              "      <td>15</td>\n",
              "      <td>leela</td>\n",
              "      <td>17</td>\n",
              "      <td>male</td>\n",
              "      <td>leela@gmail.com</td>\n",
              "      <td>no</td>\n",
              "      <td>89456+12365</td>\n",
              "    </tr>\n",
              "    <tr>\n",
              "      <th>kasani</th>\n",
              "      <td>14</td>\n",
              "      <td>surya</td>\n",
              "      <td>39</td>\n",
              "      <td>male</td>\n",
              "      <td>surya@gmail.com</td>\n",
              "      <td>no</td>\n",
              "      <td>8956412365</td>\n",
              "    </tr>\n",
              "    <tr>\n",
              "      <th>kolagani</th>\n",
              "      <td>16</td>\n",
              "      <td>sukumar</td>\n",
              "      <td>18</td>\n",
              "      <td>male</td>\n",
              "      <td>sukumar@gmail.com</td>\n",
              "      <td>no</td>\n",
              "      <td>8954213625</td>\n",
              "    </tr>\n",
              "    <tr>\n",
              "      <th>kri</th>\n",
              "      <td>9</td>\n",
              "      <td>durga</td>\n",
              "      <td>26</td>\n",
              "      <td>male</td>\n",
              "      <td>durga@gmail.com</td>\n",
              "      <td>no</td>\n",
              "      <td>7825364159</td>\n",
              "    </tr>\n",
              "    <tr>\n",
              "      <th>nag</th>\n",
              "      <td>7</td>\n",
              "      <td>bhanu</td>\n",
              "      <td>12</td>\n",
              "      <td>maler</td>\n",
              "      <td>bhanu@gmail.com</td>\n",
              "      <td>yes</td>\n",
              "      <td>8496571236</td>\n",
              "    </tr>\n",
              "    <tr>\n",
              "      <th>pallem</th>\n",
              "      <td>18</td>\n",
              "      <td>blessy</td>\n",
              "      <td>29</td>\n",
              "      <td>female</td>\n",
              "      <td>blessy@gmail.com</td>\n",
              "      <td>no</td>\n",
              "      <td>7896541236</td>\n",
              "    </tr>\n",
              "    <tr>\n",
              "      <th>pudi</th>\n",
              "      <td>13</td>\n",
              "      <td>ravi</td>\n",
              "      <td>36</td>\n",
              "      <td>male</td>\n",
              "      <td>ravi@gimail.com</td>\n",
              "      <td>yes</td>\n",
              "      <td>8941266112</td>\n",
              "    </tr>\n",
              "    <tr>\n",
              "      <th>pusha</th>\n",
              "      <td>19</td>\n",
              "      <td>chaitan</td>\n",
              "      <td>44</td>\n",
              "      <td>male</td>\n",
              "      <td>chaitan@gmail.com</td>\n",
              "      <td>no</td>\n",
              "      <td>8912365478</td>\n",
              "    </tr>\n",
              "    <tr>\n",
              "      <th>raj</th>\n",
              "      <td>11</td>\n",
              "      <td>srikanth</td>\n",
              "      <td>21</td>\n",
              "      <td>male</td>\n",
              "      <td>srikanth@gmail.com</td>\n",
              "      <td>no</td>\n",
              "      <td>8416539427</td>\n",
              "    </tr>\n",
              "    <tr>\n",
              "      <th>repalle</th>\n",
              "      <td>1</td>\n",
              "      <td>sai</td>\n",
              "      <td>12</td>\n",
              "      <td>male</td>\n",
              "      <td>sai@gmail.com</td>\n",
              "      <td>no</td>\n",
              "      <td>9863547535</td>\n",
              "    </tr>\n",
              "    <tr>\n",
              "      <th>rj</th>\n",
              "      <td>4</td>\n",
              "      <td>venkey</td>\n",
              "      <td>42</td>\n",
              "      <td>male</td>\n",
              "      <td>venkey@gmail.com</td>\n",
              "      <td>no</td>\n",
              "      <td>6987541235</td>\n",
              "    </tr>\n",
              "    <tr>\n",
              "      <th>vij</th>\n",
              "      <td>2</td>\n",
              "      <td>mani</td>\n",
              "      <td>32</td>\n",
              "      <td>male</td>\n",
              "      <td>mani@gmail.com</td>\n",
              "      <td>no</td>\n",
              "      <td>8956231473</td>\n",
              "    </tr>\n",
              "    <tr>\n",
              "      <th>visk</th>\n",
              "      <td>6</td>\n",
              "      <td>hariesh</td>\n",
              "      <td>31</td>\n",
              "      <td>male</td>\n",
              "      <td>hariesh@gmail.com</td>\n",
              "      <td>no</td>\n",
              "      <td>8569412874</td>\n",
              "    </tr>\n",
              "  </tbody>\n",
              "</table>\n",
              "</div>"
            ],
            "text/plain": [
              "          sno      Name  age  gender            gmail id pasport     phone no\n",
              "adress                                                                       \n",
              "ad          3      gopi   22    male      gopi@gmail.com     yes   7896541236\n",
              "bade       17    vishnu   19  female    vishnu@gmail.com     yes   9632587412\n",
              "bap        10  bhargavi   27  female  bhargavi@gmail.com      no   7649583425\n",
              "duli       12      ramu   28    male      ramu@gmail.com      no   8456912357\n",
              "gu          5      hari   54    male      hari@gmail.com      no   9874562154\n",
              "gvd        20      abhi   33  female      abhi@gmail.com      no   9874561236\n",
              "hybd        8     kiran   25    male     kiran@gmail.com      no   7812459654\n",
              "kanagala   15     leela   17    male     leela@gmail.com      no  89456+12365\n",
              "kasani     14     surya   39    male     surya@gmail.com      no   8956412365\n",
              "kolagani   16   sukumar   18    male   sukumar@gmail.com      no   8954213625\n",
              "kri         9     durga   26    male     durga@gmail.com      no   7825364159\n",
              "nag         7     bhanu   12   maler     bhanu@gmail.com     yes   8496571236\n",
              "pallem     18    blessy   29  female    blessy@gmail.com      no   7896541236\n",
              "pudi       13      ravi   36    male     ravi@gimail.com     yes   8941266112\n",
              "pusha      19   chaitan   44    male   chaitan@gmail.com      no   8912365478\n",
              "raj        11  srikanth   21    male  srikanth@gmail.com      no   8416539427\n",
              "repalle     1       sai   12    male       sai@gmail.com      no   9863547535\n",
              "rj          4    venkey   42    male    venkey@gmail.com      no   6987541235\n",
              "vij         2      mani   32    male      mani@gmail.com      no   8956231473\n",
              "visk        6   hariesh   31    male   hariesh@gmail.com      no   8569412874"
            ]
          },
          "execution_count": 30,
          "metadata": {},
          "output_type": "execute_result"
        }
      ],
      "source": [
        "import pandas as pd\n",
        "df = pd.read_csv(\"E:\\\\mdetails.csv\")\n",
        "a = df.groupby(by=['adress'])\n",
        "print(pd.DataFrame(a))\n",
        "a.first()"
      ]
    },
    {
      "cell_type": "code",
      "execution_count": null,
      "id": "161db585-3a27-4d15-91d1-5f6475d4f860",
      "metadata": {
        "id": "161db585-3a27-4d15-91d1-5f6475d4f860",
        "outputId": "5ca0b244-4d63-4438-d5cf-6c709f11a924"
      },
      "outputs": [
        {
          "name": "stdout",
          "output_type": "stream",
          "text": [
            "<class 'pandas.core.groupby.generic.DataFrameGroupBy'>\n",
            "                      0                                                  1\n",
            "0            (ad, gopi)     sno  Name  age gender        gmail id adres...\n",
            "1        (bade, vishnu)      sno    Name  age  gender          gmail id...\n",
            "2       (bap, bhargavi)     sno      Name  age  gender            gmail...\n",
            "3          (duli, ramu)      sno  Name  age gender        gmail id adre...\n",
            "4            (gu, hari)     sno  Name  age gender        gmail id adres...\n",
            "5           (gvd, abhi)      sno  Name  age  gender        gmail id adr...\n",
            "6         (hybd, kiran)     sno   Name  age gender         gmail id adr...\n",
            "7     (kanagala, leela)      sno   Name  age gender         gmail id   ...\n",
            "8       (kasani, surya)      sno   Name  age gender         gmail id  a...\n",
            "9   (kolagani, sukumar)      sno     Name  age gender           gmail i...\n",
            "10         (kri, durga)     sno   Name  age gender         gmail id adr...\n",
            "11         (nag, bhanu)     sno   Name  age gender         gmail id adr...\n",
            "12     (pallem, blessy)      sno    Name  age  gender          gmail id...\n",
            "13         (pudi, ravi)      sno  Name  age gender         gmail id adr...\n",
            "14     (pusha, chaitan)      sno     Name  age gender           gmail i...\n",
            "15      (raj, srikanth)      sno      Name  age gender            gmail...\n",
            "16       (repalle, sai)     sno Name  age gender       gmail id   adres...\n",
            "17         (rj, venkey)     sno    Name  age gender          gmail id a...\n",
            "18          (vij, mani)     sno  Name  age gender        gmail id adres...\n",
            "19      (visk, hariesh)     sno     Name  age gender           gmail id...\n"
          ]
        }
      ],
      "source": [
        "import pandas as pd\n",
        "df = pd.read_csv(\"E:\\\\mdetails.csv\")\n",
        "a = df.groupby(by=['adress','Name'])\n",
        "print(type(a))\n",
        "print(pd.DataFrame(a))\n"
      ]
    },
    {
      "cell_type": "code",
      "execution_count": null,
      "id": "40d6cd7e-90f0-4174-8c5f-806c86c75dec",
      "metadata": {
        "id": "40d6cd7e-90f0-4174-8c5f-806c86c75dec"
      },
      "outputs": [],
      "source": [
        ""
      ]
    }
  ],
  "metadata": {
    "kernelspec": {
      "display_name": "Python 3 (ipykernel)",
      "language": "python",
      "name": "python3"
    },
    "language_info": {
      "codemirror_mode": {
        "name": "ipython",
        "version": 3
      },
      "file_extension": ".py",
      "mimetype": "text/x-python",
      "name": "python",
      "nbconvert_exporter": "python",
      "pygments_lexer": "ipython3",
      "version": "3.9.7"
    },
    "colab": {
      "name": "json,aggre,group1704.ipynb",
      "provenance": [],
      "include_colab_link": true
    }
  },
  "nbformat": 4,
  "nbformat_minor": 5
}