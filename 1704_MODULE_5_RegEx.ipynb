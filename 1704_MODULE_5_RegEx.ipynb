{
  "nbformat": 4,
  "nbformat_minor": 0,
  "metadata": {
    "colab": {
      "name": "1704 MODULE 5 RegEx.ipynb",
      "provenance": [],
      "authorship_tag": "ABX9TyOiTBDbASl0Nq8ezTlKOzSF",
      "include_colab_link": true
    },
    "kernelspec": {
      "name": "python3",
      "display_name": "Python 3"
    },
    "language_info": {
      "name": "python"
    }
  },
  "cells": [
    {
      "cell_type": "markdown",
      "metadata": {
        "id": "view-in-github",
        "colab_type": "text"
      },
      "source": [
        "<a href=\"https://colab.research.google.com/github/Pulisai1704/python-new/blob/Module---5/1704_MODULE_5_RegEx.ipynb\" target=\"_parent\"><img src=\"https://colab.research.google.com/assets/colab-badge.svg\" alt=\"Open In Colab\"/></a>"
      ]
    },
    {
      "cell_type": "markdown",
      "source": [
        "##RegEx"
      ],
      "metadata": {
        "id": "Vf4AK-sdKWjZ"
      }
    },
    {
      "cell_type": "code",
      "execution_count": null,
      "metadata": {
        "colab": {
          "base_uri": "https://localhost:8080/"
        },
        "id": "0r4Du5RdJo5Y",
        "outputId": "7d73986b-e2d0-4b7d-df8b-5da8c81a590d"
      },
      "outputs": [
        {
          "output_type": "stream",
          "name": "stdout",
          "text": [
            "YES!the word is in the line !\n"
          ]
        }
      ],
      "source": [
        "import re\n",
        "txt = \"i am going to movie\"\n",
        "x = re.search(\"i am going to movie\", txt)\n",
        "if x:\n",
        "  print(\"YES!the word is in the line !\")\n",
        "else:\n",
        "  print(\"No not there in the line\")"
      ]
    },
    {
      "cell_type": "markdown",
      "source": [
        "## Metacharacters"
      ],
      "metadata": {
        "id": "g4yTcUj0L6RX"
      }
    },
    {
      "cell_type": "code",
      "source": [
        "# Meta characters\n",
        "## Check if the string starts with 'hello':\n",
        "import re\n",
        "txt = \"Venezuela has a crime index of 83.76, the highest of any country in the world.\"\n",
        "x = re.findall(\"^hello\", txt)\n",
        "if x:\n",
        " print(\"Yes, the string starts with 'hello'\")\n",
        "else:\n",
        " print(\"No match\")"
      ],
      "metadata": {
        "colab": {
          "base_uri": "https://localhost:8080/",
          "height": 0
        },
        "id": "WaC-AFnR3FCU",
        "outputId": "2e1629ae-a270-4b70-d46d-b2ac1c965ea9"
      },
      "execution_count": 6,
      "outputs": [
        {
          "output_type": "stream",
          "name": "stdout",
          "text": [
            "No match\n"
          ]
        }
      ]
    },
    {
      "cell_type": "markdown",
      "source": [
        "## findall"
      ],
      "metadata": {
        "id": "M4g4AbVXL8Yf"
      }
    },
    {
      "cell_type": "code",
      "source": [
        "import re\n",
        "txt = \"a large heavy-bodied non-venomous snake occurring throughout the Old World tropics, killing prey by constriction and asphyxiation.\"\n",
        "x = re.findall(\"[a-m]\", txt)\n",
        "print(x)"
      ],
      "metadata": {
        "colab": {
          "base_uri": "https://localhost:8080/"
        },
        "id": "lEfylyIFLiT7",
        "outputId": "e8adaf8b-60b2-4c73-a45e-82ccc5a8a018"
      },
      "execution_count": null,
      "outputs": [
        {
          "output_type": "stream",
          "name": "stdout",
          "text": [
            "['a', 'l', 'a', 'g', 'e', 'h', 'e', 'a', 'b', 'd', 'i', 'e', 'd', 'e', 'm', 'a', 'k', 'e', 'c', 'c', 'i', 'g', 'h', 'g', 'h', 'h', 'e', 'l', 'd', 'l', 'd', 'i', 'c', 'k', 'i', 'l', 'l', 'i', 'g', 'e', 'b', 'c', 'i', 'c', 'i', 'a', 'd', 'a', 'h', 'i', 'a', 'i']\n"
          ]
        }
      ]
    },
    {
      "cell_type": "code",
      "source": [
        "import re\n",
        "txt = \"Rrr has become what perhaps only a few directors can dream about: a cinematic festival. Epic in its scope and operatic in its treatment, S.S. Rajamouli’s RRR starring Jr NTR and Ram Charan has crossed the magic mark of Rs 600 crore within barely a week of its release\"\n",
        "x = re.search(\"^Rrr.*release$\", txt)\n",
        "if x:\n",
        "  print(\"YES!the word is in the line !\")\n",
        "else:\n",
        "  print(\"No not there in the line\")"
      ],
      "metadata": {
        "colab": {
          "base_uri": "https://localhost:8080/"
        },
        "id": "G4vm9RNxMiyO",
        "outputId": "e8314d2a-4214-43ff-ed17-f8c5121e22ba"
      },
      "execution_count": null,
      "outputs": [
        {
          "output_type": "stream",
          "name": "stdout",
          "text": [
            "YES!the word is in the line !\n"
          ]
        }
      ]
    },
    {
      "cell_type": "code",
      "source": [
        "import re\n",
        "txt=\"In 1922, Indian revolutionary Alluri Sitaram Raju led the Rampa Rebellion against the British raj for their imposition of the 1882 Madras Forest Act. The draconian act was heavily criticised for restraining the free movement of tribes within their own homes, and their sacred forests. It essentially made them prisoners in their own land\"\n",
        "x = re.search(\"in.*land$\", txt)\n",
        "if x:\n",
        "  print(\"YES!the word is in the line !\")\n",
        "else:\n",
        "  print(\"No not there in the line\")"
      ],
      "metadata": {
        "colab": {
          "base_uri": "https://localhost:8080/"
        },
        "id": "fWWRTge3SLs7",
        "outputId": "b455d96a-6323-4372-eaca-9cafe3f0ddf4"
      },
      "execution_count": null,
      "outputs": [
        {
          "output_type": "stream",
          "name": "stdout",
          "text": [
            "YES!the word is in the line !\n"
          ]
        }
      ]
    },
    {
      "cell_type": "markdown",
      "source": [
        "## The findall() Function\n",
        "\n",
        "\n"
      ],
      "metadata": {
        "id": "aTeWQay-SOXi"
      }
    },
    {
      "cell_type": "code",
      "source": [
        "import re\n",
        "txt = \"The rain in raining\"\n",
        "x = re.findall(\"ai\", txt)\n",
        "print(x)"
      ],
      "metadata": {
        "colab": {
          "base_uri": "https://localhost:8080/"
        },
        "id": "B9XQKbwJUcjs",
        "outputId": "6dbb0886-21eb-43ca-c1ab-be04fa063a6b"
      },
      "execution_count": null,
      "outputs": [
        {
          "output_type": "stream",
          "name": "stdout",
          "text": [
            "['ai', 'ai']\n"
          ]
        }
      ]
    },
    {
      "cell_type": "code",
      "source": [
        "import re\n",
        "txt = \"Indian revolutionary Alluri Sitaram Raju led the Rampa Rebellion\"\n",
        "x = re.findall(\"ed\", txt)\n",
        "print(x)"
      ],
      "metadata": {
        "colab": {
          "base_uri": "https://localhost:8080/"
        },
        "id": "2OAweLqZUsQT",
        "outputId": "8a7dbc54-4171-484d-92a3-3fd427bf862a"
      },
      "execution_count": null,
      "outputs": [
        {
          "output_type": "stream",
          "name": "stdout",
          "text": [
            "['ed']\n"
          ]
        }
      ]
    },
    {
      "cell_type": "code",
      "source": [
        "import re\n",
        "txt = \"Data compression attempts to remove unwanted redundancy from the data from a source\"\n",
        "x = re.findall(\"computer\", txt)\n",
        "print(x)\n",
        "if (x):\n",
        "  print(\"Yes, there is at least one match!\")\n",
        "else:\n",
        "  print(\"No match\")"
      ],
      "metadata": {
        "colab": {
          "base_uri": "https://localhost:8080/",
          "height": 0
        },
        "id": "vC2snZvWy6KE",
        "outputId": "6747f904-963b-4dee-86a5-b54c161aaffc"
      },
      "execution_count": 3,
      "outputs": [
        {
          "output_type": "stream",
          "name": "stdout",
          "text": [
            "[]\n",
            "No match\n"
          ]
        }
      ]
    },
    {
      "cell_type": "code",
      "source": [
        "#Check if the string has any characters from a to z lower case, and A to Z upper case:\n",
        "import re\n",
        "txt = \"8 times before 11:00 AM\"\n",
        "x = re.findall(\"[a-zA-Z]\", txt)\n",
        "print(x)\n",
        "if x:\n",
        "  print(\"Yes, there is at least one match!\")\n",
        "else:\n",
        "  print(\"No match\")"
      ],
      "metadata": {
        "colab": {
          "base_uri": "https://localhost:8080/",
          "height": 0
        },
        "id": "fIqmx1N3zSin",
        "outputId": "a617c749-f04d-464a-a5f5-78ca05a9d0e0"
      },
      "execution_count": 4,
      "outputs": [
        {
          "output_type": "stream",
          "name": "stdout",
          "text": [
            "['t', 'i', 'm', 'e', 's', 'b', 'e', 'f', 'o', 'r', 'e', 'A', 'M']\n",
            "Yes, there is at least one match!\n"
          ]
        }
      ]
    },
    {
      "cell_type": "code",
      "source": [
        "## #Replace the first two occurrences of a white-space character with the digit 9:\n",
        "import re\n",
        "text = \"my name is sai and i am studying 1st year cse in gitam unversity\"\n",
        "x = re.sub(\"\\s\", \"9\", txt, 2)\n",
        "print(x)"
      ],
      "metadata": {
        "colab": {
          "base_uri": "https://localhost:8080/",
          "height": 0
        },
        "id": "7_lF6uuF29b0",
        "outputId": "f7bd4332-e1af-410b-ebd3-f3198e014396"
      },
      "execution_count": 9,
      "outputs": [
        {
          "output_type": "stream",
          "name": "stdout",
          "text": [
            "Venezuela9has9a crime index of 73.76, the highest of any country in the world.\n"
          ]
        }
      ]
    },
    {
      "cell_type": "code",
      "source": [
        "##Find all lower case characters alphabetically between \"a\" and \"m\":\n",
        "import re\n",
        "txt = \"Venezuela has a crime index of 73.76, the highest of any country in the world.\"\n",
        "x = re.findall(\"[a-m]\", txt)\n",
        "print(x)"
      ],
      "metadata": {
        "colab": {
          "base_uri": "https://localhost:8080/",
          "height": 0
        },
        "id": "o_JJMVqB3Vuc",
        "outputId": "23490820-4449-41b6-b955-6ed9d2f6356b"
      },
      "execution_count": 7,
      "outputs": [
        {
          "output_type": "stream",
          "name": "stdout",
          "text": [
            "['e', 'e', 'e', 'l', 'a', 'h', 'a', 'a', 'c', 'i', 'm', 'e', 'i', 'd', 'e', 'f', 'h', 'e', 'h', 'i', 'g', 'h', 'e', 'f', 'a', 'c', 'i', 'h', 'e', 'l', 'd']\n"
          ]
        }
      ]
    },
    {
      "cell_type": "code",
      "source": [
        "# find all digit characters\n",
        "import re\n",
        "txt = \"Venezuela has a crime index of 73.76, the highest of any country in the world.\"\n",
        "x = re.findall(\"\\d\", txt)\n",
        "print(x)"
      ],
      "metadata": {
        "colab": {
          "base_uri": "https://localhost:8080/",
          "height": 0
        },
        "id": "qAr3Jov43c78",
        "outputId": "d20fe85a-0440-499f-8107-2d790a97f340"
      },
      "execution_count": 8,
      "outputs": [
        {
          "output_type": "stream",
          "name": "stdout",
          "text": [
            "['7', '3', '7', '6']\n"
          ]
        }
      ]
    },
    {
      "cell_type": "code",
      "source": [
        "import re\n",
        "txt = \"manu\"\n",
        "x = re.findall(\"an..ha\", txt)\n",
        "print(x)"
      ],
      "metadata": {
        "colab": {
          "base_uri": "https://localhost:8080/",
          "height": 0
        },
        "id": "8mVe36a06dFN",
        "outputId": "5ecb5589-fe67-4807-9faa-4064d85541b2"
      },
      "execution_count": 10,
      "outputs": [
        {
          "output_type": "stream",
          "name": "stdout",
          "text": [
            "[]\n"
          ]
        }
      ]
    },
    {
      "cell_type": "code",
      "source": [
        "import re\n",
        "txt = \"hello planet\"\n",
        "x = re.findall(\"he.*o\", txt)\n",
        "print(x)"
      ],
      "metadata": {
        "colab": {
          "base_uri": "https://localhost:8080/",
          "height": 0
        },
        "id": "9ZSPt_nh6oJT",
        "outputId": "6b03f478-482b-45d5-f421-b07b7c317500"
      },
      "execution_count": 11,
      "outputs": [
        {
          "output_type": "stream",
          "name": "stdout",
          "text": [
            "['hello']\n"
          ]
        }
      ]
    },
    {
      "cell_type": "code",
      "source": [
        "## special sequences\n",
        "#Check if the string starts with \"The\":\n",
        "import re\n",
        "txt = \"The rain in Spain\"\n",
        "x = re.findall(\"\\AThe\", txt)\n",
        "print(x)\n",
        "if x:\n",
        " print(\"Yes, there is a match!\")\n",
        "else:\n",
        " print(\"No match\")"
      ],
      "metadata": {
        "colab": {
          "base_uri": "https://localhost:8080/",
          "height": 0
        },
        "id": "QBEY1P2V6ydU",
        "outputId": "3d10ab72-1b18-4001-db0a-67c2e9c084fb"
      },
      "execution_count": 13,
      "outputs": [
        {
          "output_type": "stream",
          "name": "stdout",
          "text": [
            "['The']\n",
            "Yes, there is a match!\n"
          ]
        }
      ]
    },
    {
      "cell_type": "code",
      "source": [
        "#Check if \"ain\" is present at the beginning of a WORD:\n",
        "import re\n",
        "txt = \"I love rain\"\n",
        "x = re.findall(r\"\\bain\", txt)\n",
        "print(x)\n",
        "if x:\n",
        " print(\"Yes, there is at least one match!\")\n",
        "else:\n",
        " print(\"No match\")"
      ],
      "metadata": {
        "colab": {
          "base_uri": "https://localhost:8080/",
          "height": 0
        },
        "id": "UIalrXET7Adc",
        "outputId": "32684e1f-6e7d-47d8-8b24-d4c6ac7c68fa"
      },
      "execution_count": 15,
      "outputs": [
        {
          "output_type": "stream",
          "name": "stdout",
          "text": [
            "[]\n",
            "No match\n"
          ]
        }
      ]
    },
    {
      "cell_type": "code",
      "source": [
        "#Return a match at every no-digit character:\n",
        "import re\n",
        "txt = \"my name is sai\"\n",
        "x = re.findall(\"\\D\", txt)\n",
        "print(x)\n",
        "if x:\n",
        " print(\"Yes, there is at least one match!\")\n",
        "else:\n",
        " print(\"No match\")"
      ],
      "metadata": {
        "colab": {
          "base_uri": "https://localhost:8080/",
          "height": 0
        },
        "id": "t-lcasmZ7FD1",
        "outputId": "ca8e9ace-d833-42b6-ad38-b01b589d14a8"
      },
      "execution_count": 16,
      "outputs": [
        {
          "output_type": "stream",
          "name": "stdout",
          "text": [
            "['m', 'y', ' ', 'n', 'a', 'm', 'e', ' ', 'i', 's', ' ', 'b', 'h', 'a', 'n', 'u']\n",
            "Yes, there is at least one match!\n"
          ]
        }
      ]
    },
    {
      "cell_type": "code",
      "source": [
        "#Return a match at every NON white-space character:\n",
        "import re\n",
        "txt = \"The rain in Spain\"\n",
        "x = re.findall(\"\\S\", txt)\n",
        "print(x)\n",
        "if x:\n",
        " print(\"Yes, there is at least one match!\")\n",
        "else:\n",
        " print(\"No match\")"
      ],
      "metadata": {
        "colab": {
          "base_uri": "https://localhost:8080/",
          "height": 0
        },
        "id": "wVDcj4dO7QdD",
        "outputId": "493c3d7e-bc1c-4646-dbf1-428aeac5c160"
      },
      "execution_count": 18,
      "outputs": [
        {
          "output_type": "stream",
          "name": "stdout",
          "text": [
            "['T', 'h', 'e', 'r', 'a', 'i', 'n', 'i', 'n', 'S', 'p', 'a', 'i', 'n']\n",
            "Yes, there is at least one match!\n"
          ]
        }
      ]
    },
    {
      "cell_type": "code",
      "source": [
        "import re\n",
        "txt = \"The rain in Spain\"\n",
        "x = re.findall(\"\\W\", txt)\n",
        "print(x)\n",
        "if x:\n",
        " print(\"Yes, there is at least one match!\")\n",
        "else:\n",
        " print(\"No match\")"
      ],
      "metadata": {
        "colab": {
          "base_uri": "https://localhost:8080/",
          "height": 0
        },
        "id": "vyVMS8P37W1j",
        "outputId": "655c5869-dfac-4227-90a7-cc5e554c5435"
      },
      "execution_count": 19,
      "outputs": [
        {
          "output_type": "stream",
          "name": "stdout",
          "text": [
            "[' ', ' ', ' ']\n",
            "Yes, there is at least one match!\n"
          ]
        }
      ]
    },
    {
      "cell_type": "code",
      "source": [
        "#Check if the string ends with \"Spain\":\n",
        "import re\n",
        "txt = \"my name is bhanu\"\n",
        "x = re.findall(\"aqnitha\\Z\", txt)\n",
        "print(x)\n",
        "if x:\n",
        " print(\"Yes, there is a match!\")\n",
        "else:\n",
        " print(\"No match\")"
      ],
      "metadata": {
        "colab": {
          "base_uri": "https://localhost:8080/",
          "height": 0
        },
        "id": "s4zfQtFh770E",
        "outputId": "9e3ee716-c174-4971-c23c-cbdf6776f9c8"
      },
      "execution_count": 20,
      "outputs": [
        {
          "output_type": "stream",
          "name": "stdout",
          "text": [
            "[]\n",
            "No match\n"
          ]
        }
      ]
    },
    {
      "cell_type": "code",
      "source": [
        "# sets\n",
        "#Check if the string has any a, r, or n characters:\n",
        "import re\n",
        "txt = \"rain\"\n",
        "x = re.findall(\"[arn]\", txt)\n",
        "print(x)\n",
        "if x:\n",
        " print(\"Yes, there is at least one match!\")\n",
        "else:\n",
        " print(\"No match\")"
      ],
      "metadata": {
        "colab": {
          "base_uri": "https://localhost:8080/",
          "height": 0
        },
        "id": "q6NuDVSk8DBE",
        "outputId": "a3c052ab-05a6-4541-9f26-2fe6bcf5d8a6"
      },
      "execution_count": 22,
      "outputs": [
        {
          "output_type": "stream",
          "name": "stdout",
          "text": [
            "['r', 'a', 'n']\n",
            "Yes, there is at least one match!\n"
          ]
        }
      ]
    },
    {
      "cell_type": "code",
      "source": [
        "#Check if the string has any two-digit numbers, from 00 to 59:\n",
        "import re\n",
        "txt = \"8 times before 11:00 AM\"\n",
        "x = re.findall(\"[0-5][0-9]\", txt)\n",
        "print(x)\n",
        "if x:\n",
        " print(\"Yes, there is at least one match!\")\n",
        "else:\n",
        " print(\"No match\")"
      ],
      "metadata": {
        "colab": {
          "base_uri": "https://localhost:8080/",
          "height": 0
        },
        "id": "W6qRdGLE8NZ7",
        "outputId": "f0a7194e-6fda-469f-e1df-3bcb68bf9a95"
      },
      "execution_count": 23,
      "outputs": [
        {
          "output_type": "stream",
          "name": "stdout",
          "text": [
            "['11', '00']\n",
            "Yes, there is at least one match!\n"
          ]
        }
      ]
    }
  ]
}