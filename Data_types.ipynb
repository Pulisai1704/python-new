{
  "nbformat": 4,
  "nbformat_minor": 0,
  "metadata": {
    "colab": {
      "name": "Data types.ipynb",
      "provenance": [],
      "authorship_tag": "ABX9TyNhtiDA7L9+4y+m8yqR2m+t",
      "include_colab_link": true
    },
    "kernelspec": {
      "name": "python3",
      "display_name": "Python 3"
    },
    "language_info": {
      "name": "python"
    }
  },
  "cells": [
    {
      "cell_type": "markdown",
      "metadata": {
        "id": "view-in-github",
        "colab_type": "text"
      },
      "source": [
        "<a href=\"https://colab.research.google.com/github/Pulisai1704/python-new/blob/module-1/Data_types.ipynb\" target=\"_parent\"><img src=\"https://colab.research.google.com/assets/colab-badge.svg\" alt=\"Open In Colab\"/></a>"
      ]
    },
    {
      "cell_type": "code",
      "execution_count": null,
      "metadata": {
        "id": "Q8eUYMxIpZwV",
        "colab": {
          "base_uri": "https://localhost:8080/"
        },
        "outputId": "7ba11095-89df-49c1-f413-3281a94138b4"
      },
      "outputs": [
        {
          "output_type": "stream",
          "name": "stdout",
          "text": [
            "15.0\n",
            "<class 'type'>\n"
          ]
        }
      ],
      "source": [
        "a=10\n",
        "b=20\n",
        "c=(a+b)/2\n",
        "print(c)\n",
        "print(type)"
      ]
    },
    {
      "cell_type": "code",
      "source": [
        "# converting int to string,float,boolean,complex \n",
        "a=10\n",
        "print(type(a))\n",
        "print(a)\n",
        "#before conversion\n",
        "b=str(a)\n",
        "print(type(b))\n",
        "print(b)\n",
        "#after conversion\n",
        "c=float(a)\n",
        "print(type(c))\n",
        "print(c)\n",
        "d=bool(a)\n",
        "print(d)\n",
        "print(type(d))\n",
        "e=complex(a)\n",
        "print(e)\n",
        "print(type(e))"
      ],
      "metadata": {
        "colab": {
          "base_uri": "https://localhost:8080/"
        },
        "id": "hPDz2dU2qkvb",
        "outputId": "679f95bd-7b0a-432c-bad4-14049edc9012"
      },
      "execution_count": null,
      "outputs": [
        {
          "output_type": "stream",
          "name": "stdout",
          "text": [
            "<class 'int'>\n",
            "10\n",
            "<class 'str'>\n",
            "10\n",
            "<class 'float'>\n",
            "10.0\n",
            "True\n",
            "<class 'bool'>\n",
            "(10+0j)\n",
            "<class 'complex'>\n"
          ]
        }
      ]
    },
    {
      "cell_type": "code",
      "source": [
        "# converting string to int , float , bollean ,complex\n",
        "a=10\n",
        "print(type(a))\n",
        "print(a)\n",
        "#before conversion\n",
        "b=int(a)\n",
        "print(type(b))\n",
        "print(b)\n",
        "#after conversion\n",
        "c=float(a)\n",
        "print(type(c))\n",
        "print(c)\n",
        "d=bool(a)\n",
        "print(d)\n",
        "print(type(d))\n",
        "e=complex(a)\n",
        "print(e)\n",
        "print(type(e))"
      ],
      "metadata": {
        "colab": {
          "base_uri": "https://localhost:8080/"
        },
        "id": "mEhbgydzrHGx",
        "outputId": "b20a3ff1-16a8-4bac-8964-77cad938a66f"
      },
      "execution_count": null,
      "outputs": [
        {
          "output_type": "stream",
          "name": "stdout",
          "text": [
            "<class 'int'>\n",
            "10\n",
            "<class 'int'>\n",
            "10\n",
            "<class 'float'>\n",
            "10.0\n",
            "True\n",
            "<class 'bool'>\n",
            "(10+0j)\n",
            "<class 'complex'>\n"
          ]
        }
      ]
    },
    {
      "cell_type": "code",
      "source": [
        "# converting boolean to int , string , float ,complex\n",
        "a=10\n",
        "print(type(a))\n",
        "print(a)\n",
        "#before conversion\n",
        "b=int(a)\n",
        "print(type(b))\n",
        "print(b)\n",
        "#after conversion\n",
        "c=str(a)\n",
        "print(type(c))\n",
        "print(c)\n",
        "d=float(a)\n",
        "print(d)\n",
        "print(type(d))\n",
        "e=complex(a)\n",
        "print(e)\n",
        "print(type(e))"
      ],
      "metadata": {
        "id": "I-UkxxddrRQr",
        "outputId": "57ba7096-1882-4386-a026-e00f7d6972c0",
        "colab": {
          "base_uri": "https://localhost:8080/"
        }
      },
      "execution_count": null,
      "outputs": [
        {
          "output_type": "stream",
          "name": "stdout",
          "text": [
            "<class 'int'>\n",
            "10\n",
            "<class 'int'>\n",
            "10\n",
            "<class 'str'>\n",
            "10\n",
            "10.0\n",
            "<class 'float'>\n",
            "(10+0j)\n",
            "<class 'complex'>\n"
          ]
        }
      ]
    }
  ]
}