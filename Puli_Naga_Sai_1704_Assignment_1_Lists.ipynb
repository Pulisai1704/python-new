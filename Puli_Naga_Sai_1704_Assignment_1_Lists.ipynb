{
  "nbformat": 4,
  "nbformat_minor": 0,
  "metadata": {
    "colab": {
      "name": "Puli Naga Sai 1704  Assignment-1 Lists.ipynb",
      "provenance": [],
      "collapsed_sections": [],
      "authorship_tag": "ABX9TyM9veBBLykvACO81Ud8uF5A",
      "include_colab_link": true
    },
    "kernelspec": {
      "name": "python3",
      "display_name": "Python 3"
    },
    "language_info": {
      "name": "python"
    }
  },
  "cells": [
    {
      "cell_type": "markdown",
      "metadata": {
        "id": "view-in-github",
        "colab_type": "text"
      },
      "source": [
        "<a href=\"https://colab.research.google.com/github/Pulisai1704/python-new/blob/module-1/Puli_Naga_Sai_1704_Assignment_1_Lists.ipynb\" target=\"_parent\"><img src=\"https://colab.research.google.com/assets/colab-badge.svg\" alt=\"Open In Colab\"/></a>"
      ]
    },
    {
      "cell_type": "markdown",
      "source": [
        "## Python Lists VU21CSENO101704"
      ],
      "metadata": {
        "id": "dCCUeCuWcwBA"
      }
    },
    {
      "cell_type": "markdown",
      "source": [
        "## List Printing"
      ],
      "metadata": {
        "id": "SRVyX_sAdPCc"
      }
    },
    {
      "cell_type": "code",
      "source": [
        "fruit = [\"gova\", \"mango\", \"jack fruit\"]\n",
        "print(fruit)\n",
        "#List Length\n",
        "print(len(fruit))"
      ],
      "metadata": {
        "colab": {
          "base_uri": "https://localhost:8080/"
        },
        "id": "HR2KKlNbdaGw",
        "outputId": "275aeee1-2f4b-4c00-b05f-0c92c64d1fcd"
      },
      "execution_count": null,
      "outputs": [
        {
          "output_type": "stream",
          "name": "stdout",
          "text": [
            "['gova', 'mango', 'jack fruit']\n",
            "3\n"
          ]
        }
      ]
    },
    {
      "cell_type": "markdown",
      "source": [
        "## List Items - Data Types"
      ],
      "metadata": {
        "id": "bFatxmnvhLYw"
      }
    },
    {
      "cell_type": "code",
      "source": [
        "names = [\"sai\", \"mani\", \"venkey\"]\n",
        "print(names)\n",
        "numbers = [1, 5, 7, 9, 3]\n",
        "print(numbers)\n",
        "boolean = [True, False, False]\n",
        "print(boolean)\n",
        "#type\n",
        "print(type)"
      ],
      "metadata": {
        "colab": {
          "base_uri": "https://localhost:8080/"
        },
        "id": "8hLzQQdPhNbh",
        "outputId": "51131b95-1ce9-4b34-89bb-617ab9aac6e5"
      },
      "execution_count": null,
      "outputs": [
        {
          "output_type": "stream",
          "name": "stdout",
          "text": [
            "['sai', 'mani', 'venkey']\n",
            "[1, 5, 7, 9, 3]\n",
            "[True, False, False]\n",
            "<class 'type'>\n"
          ]
        }
      ]
    },
    {
      "cell_type": "markdown",
      "source": [
        "## The list() Constructor"
      ],
      "metadata": {
        "id": "4UgcCMLsjKLE"
      }
    },
    {
      "cell_type": "code",
      "source": [
        "subjects = list((\"maths\", \"physics\", \"chemistry\"))\n",
        "print(subjects )"
      ],
      "metadata": {
        "colab": {
          "base_uri": "https://localhost:8080/"
        },
        "id": "49gE3CtdjTGl",
        "outputId": "c18468d5-f591-4e59-a349-b6877d9569c1"
      },
      "execution_count": null,
      "outputs": [
        {
          "output_type": "stream",
          "name": "stdout",
          "text": [
            "['maths', 'physics', 'chemistry']\n"
          ]
        }
      ]
    },
    {
      "cell_type": "markdown",
      "source": [
        "## Access List Items\n",
        "\n"
      ],
      "metadata": {
        "id": "TOjdZaIukKoJ"
      }
    },
    {
      "cell_type": "markdown",
      "source": [
        "## Print the items of the list:"
      ],
      "metadata": {
        "id": "bXuSLnqqkHxc"
      }
    },
    {
      "cell_type": "code",
      "source": [
        "animals = [\"cow\",\"goat\",\"bullock\",\"buffalo\"]\n",
        "print(animals[1])\n",
        "print(animals[0])\n",
        "print(animals[2])\n",
        "print(animals[3])\n",
        "print(animals[-1])\n",
        "## Negative Indexing\n",
        "print(animals[-1])\n",
        "print(animals[-2])\n",
        "print(animals[-3])\n",
        "## Range of Indexes\n",
        "print(animals[2:4])\n",
        "print(animals[0:2])\n",
        "print(animals[1:3])\n",
        "print(animals[:2])\n",
        "print(animals[3:])\n",
        "## Range of negative indexing\n",
        "print(animals[-1:-3])\n",
        "print(animals[-2:-1])"
      ],
      "metadata": {
        "colab": {
          "base_uri": "https://localhost:8080/"
        },
        "id": "SD1voiE_kyzU",
        "outputId": "677b6021-34ca-45e1-8287-f8e6e791eb24"
      },
      "execution_count": null,
      "outputs": [
        {
          "output_type": "stream",
          "name": "stdout",
          "text": [
            "goat\n",
            "cow\n",
            "bullock\n",
            "buffalo\n",
            "buffalo\n",
            "buffalo\n",
            "bullock\n",
            "goat\n",
            "['bullock', 'buffalo']\n",
            "['cow', 'goat']\n",
            "['goat', 'bullock']\n",
            "['cow', 'goat']\n",
            "['buffalo']\n",
            "[]\n",
            "['bullock']\n"
          ]
        }
      ]
    },
    {
      "cell_type": "markdown",
      "source": [
        "## Change list Item "
      ],
      "metadata": {
        "id": "tRQWCeawm8oe"
      }
    },
    {
      "cell_type": "code",
      "source": [
        "## CHange item value\n",
        "fruits = [\"apple\", \"banana\",\"mango\", \"cherry\"]\n",
        "fruits[1] = \"blackcurrant\"\n",
        "print(fruits)\n",
        "fruits[3] = \"gova\"\n",
        "print(fruits)\n",
        "fruits[2] = \"carrot\"\n",
        "print(fruits)\n",
        "fruits[0] = \"beetroot\"\n",
        "print(fruits)\n",
        "## range of the item value\n",
        "fruits[1:3] = [\"grapes\",\"water mwlon\"]\n",
        "print(fruits)\n",
        "fruits[0:2] =[\"orange\",\"jack fruit\"]\n",
        "print(fruits)"
      ],
      "metadata": {
        "colab": {
          "base_uri": "https://localhost:8080/"
        },
        "id": "-jLNjzYftUnC",
        "outputId": "24bafb76-bcb3-44a9-b7d5-75384b50bc59"
      },
      "execution_count": null,
      "outputs": [
        {
          "output_type": "stream",
          "name": "stdout",
          "text": [
            "['apple', 'blackcurrant', 'mango', 'cherry']\n",
            "['apple', 'blackcurrant', 'mango', 'gova']\n",
            "['apple', 'blackcurrant', 'carrot', 'gova']\n",
            "['beetroot', 'blackcurrant', 'carrot', 'gova']\n",
            "['beetroot', 'grapes', 'water mwlon', 'gova']\n",
            "['orange', 'jack fruit', 'water mwlon', 'gova']\n"
          ]
        }
      ]
    },
    {
      "cell_type": "markdown",
      "source": [
        "## ADD List items"
      ],
      "metadata": {
        "id": "SZFd0240wlAI"
      }
    },
    {
      "cell_type": "markdown",
      "source": [
        "## APPEND , INSERT\n",
        "\n"
      ],
      "metadata": {
        "id": "E1Z1EU0_ykG3"
      }
    },
    {
      "cell_type": "code",
      "source": [
        "fruit=[\"goa\",\"apple\",\"banana\",\"mango\"]\n",
        "print(fruit)\n",
        "## APPEND\n",
        "fruit.append(\"JACK FRUIT\")\n",
        "print(fruit)\n",
        "fruit.append(\"carrot\")\n",
        "print(fruit)\n",
        "## INSERT\n",
        "fruit.insert(1,\"gova\")\n",
        "print(fruit)\n",
        "fruit.insert(4,\"pine apple\")\n",
        "print(fruit)"
      ],
      "metadata": {
        "colab": {
          "base_uri": "https://localhost:8080/"
        },
        "id": "hw2Jvvr7x-rM",
        "outputId": "1fef3b42-7713-47c4-9698-fff394a19bbf"
      },
      "execution_count": null,
      "outputs": [
        {
          "output_type": "stream",
          "name": "stdout",
          "text": [
            "['goa', 'apple', 'banana', 'mango']\n",
            "['goa', 'apple', 'banana', 'mango', 'JACK FRUIT']\n",
            "['goa', 'apple', 'banana', 'mango', 'JACK FRUIT', 'carrot']\n",
            "['goa', 'gova', 'apple', 'banana', 'mango', 'JACK FRUIT', 'carrot']\n",
            "['goa', 'gova', 'apple', 'banana', 'pine apple', 'mango', 'JACK FRUIT', 'carrot']\n"
          ]
        }
      ]
    },
    {
      "cell_type": "markdown",
      "source": [
        "## EXTEND"
      ],
      "metadata": {
        "id": "y6YRjfg-0zT8"
      }
    },
    {
      "cell_type": "code",
      "source": [
        "fruits1 = [\"apple\", \"banana\", \"cherry\"]\n",
        "fruits2 = [\"mango\", \"pineapple\", \"papaya\"]\n",
        "fruits1.extend(fruits2)\n",
        "print(fruits1)"
      ],
      "metadata": {
        "colab": {
          "base_uri": "https://localhost:8080/"
        },
        "id": "WAGjuSWQ03GU",
        "outputId": "457b7b48-c264-4f96-f0f1-4f81c07313e4"
      },
      "execution_count": null,
      "outputs": [
        {
          "output_type": "stream",
          "name": "stdout",
          "text": [
            "['apple', 'banana', 'cherry', 'mango', 'pineapple', 'papaya']\n"
          ]
        }
      ]
    },
    {
      "cell_type": "code",
      "source": [
        "animals1 = [\"cow\",\"goat\",\"bullock\",\"buffalo\"]\n",
        "animals2 = [\"sheep\",\"lion\",\"tiger\",\"deer\"]\n",
        "animals1.extend(animals2)\n",
        "print(animals1)"
      ],
      "metadata": {
        "colab": {
          "base_uri": "https://localhost:8080/"
        },
        "id": "_nGKDWg22NFe",
        "outputId": "8e159678-c58c-43b2-878c-028ce1c14d4f"
      },
      "execution_count": null,
      "outputs": [
        {
          "output_type": "stream",
          "name": "stdout",
          "text": [
            "['cow', 'goat', 'bullock', 'buffalo', 'sheep', 'lion', 'tiger', 'deer']\n"
          ]
        }
      ]
    },
    {
      "cell_type": "code",
      "source": [
        ""
      ],
      "metadata": {
        "id": "8TqsImiJ3LQE"
      },
      "execution_count": null,
      "outputs": []
    },
    {
      "cell_type": "markdown",
      "source": [
        "## REMOVE Specified Item"
      ],
      "metadata": {
        "id": "E2i8T77e3MDF"
      }
    },
    {
      "cell_type": "markdown",
      "source": [
        "## REMOVE , POP , DEL , CLEAR"
      ],
      "metadata": {
        "id": "Ge_ZEoTi3kbc"
      }
    },
    {
      "cell_type": "markdown",
      "source": [
        "## REMOVE"
      ],
      "metadata": {
        "id": "G6riyTL95Mh8"
      }
    },
    {
      "cell_type": "code",
      "source": [
        "fruit=[\"gova\",\"apple\",\"banana\",\"mango\"]\n",
        "fruit.remove(\"apple\")\n",
        "print(fruit)\n",
        "fruit.remove(\"gova\")\n",
        "print(fruit)\n",
        "fruit.remove(\"banana\")\n",
        "print(fruit)\n",
        "fruit.remove(\"mango\")\n",
        "print(fruit)"
      ],
      "metadata": {
        "colab": {
          "base_uri": "https://localhost:8080/"
        },
        "id": "3vN5QNj03cIY",
        "outputId": "edfce8ce-b335-4c55-e359-037f893cab16"
      },
      "execution_count": null,
      "outputs": [
        {
          "output_type": "stream",
          "name": "stdout",
          "text": [
            "['gova', 'banana', 'mango']\n",
            "['banana', 'mango']\n",
            "['mango']\n",
            "[]\n"
          ]
        }
      ]
    },
    {
      "cell_type": "markdown",
      "source": [
        "## POP"
      ],
      "metadata": {
        "id": "JVzqIS8t3hxo"
      }
    },
    {
      "cell_type": "code",
      "source": [
        "animals = [\"cow\",\"goat\",\"bullock\",\"buffalo\"]\n",
        "animals.pop(3)\n",
        "print(animals)\n",
        "animals.pop(2)\n",
        "print(animals)\n",
        "animals.pop(1)\n",
        "print(animals)\n",
        "animals.pop(0)\n",
        "print(animals)"
      ],
      "metadata": {
        "colab": {
          "base_uri": "https://localhost:8080/"
        },
        "id": "LWa-lbC75Rfx",
        "outputId": "6c16b6cd-4021-4302-e406-2a1c6e119c69"
      },
      "execution_count": null,
      "outputs": [
        {
          "output_type": "stream",
          "name": "stdout",
          "text": [
            "['cow', 'goat', 'bullock']\n",
            "['cow', 'goat']\n",
            "['cow']\n",
            "[]\n"
          ]
        }
      ]
    },
    {
      "cell_type": "markdown",
      "source": [
        "## DEL"
      ],
      "metadata": {
        "id": "2yyRvvHn6SLz"
      }
    },
    {
      "cell_type": "code",
      "source": [
        "animals = [\"cow\",\"goat\",\"bullock\",\"buffalo\"]\n",
        "del animals[0]\n",
        "print(animals)\n",
        "del animals[2]\n",
        "print(animals)\n",
        "del animals[1]\n",
        "print(animals)"
      ],
      "metadata": {
        "colab": {
          "base_uri": "https://localhost:8080/"
        },
        "id": "XN8KzlT76HM9",
        "outputId": "dd833cca-dbbe-44f2-eeea-6b38c931ca3b"
      },
      "execution_count": null,
      "outputs": [
        {
          "output_type": "stream",
          "name": "stdout",
          "text": [
            "['goat', 'bullock', 'buffalo']\n",
            "['goat', 'bullock']\n",
            "['goat']\n"
          ]
        }
      ]
    },
    {
      "cell_type": "code",
      "source": [
        ""
      ],
      "metadata": {
        "id": "Q0v-bWW77HVS"
      },
      "execution_count": null,
      "outputs": []
    },
    {
      "cell_type": "markdown",
      "source": [
        "## CLEAR"
      ],
      "metadata": {
        "id": "_K9_R1Ev7It-"
      }
    },
    {
      "cell_type": "code",
      "source": [
        "animals = [\"cow\",\"goat\",\"bullock\",\"buffalo\"]\n",
        "animals.clear()\n",
        "print(animals)"
      ],
      "metadata": {
        "colab": {
          "base_uri": "https://localhost:8080/"
        },
        "id": "dBjdcKMs7K_-",
        "outputId": "d91e05f5-2f12-438c-82b1-40e0da3b5420"
      },
      "execution_count": null,
      "outputs": [
        {
          "output_type": "stream",
          "name": "stdout",
          "text": [
            "[]\n"
          ]
        }
      ]
    },
    {
      "cell_type": "code",
      "source": [
        "fruit=[\"goa\",\"apple\",\"banana\",\"mango\"]\n",
        "fruit.clear()\n",
        "print(fruit)"
      ],
      "metadata": {
        "colab": {
          "base_uri": "https://localhost:8080/"
        },
        "id": "0wY-3CuG7v25",
        "outputId": "59d405a4-0a09-4a60-be4e-6a75bdc187e6"
      },
      "execution_count": null,
      "outputs": [
        {
          "output_type": "stream",
          "name": "stdout",
          "text": [
            "[]\n"
          ]
        }
      ]
    },
    {
      "cell_type": "markdown",
      "source": [
        "## LOOPS LIST"
      ],
      "metadata": {
        "id": "OWMB0SOk1GDK"
      }
    },
    {
      "cell_type": "markdown",
      "source": [
        "## Loop Through a List"
      ],
      "metadata": {
        "id": "UTRrySEM6rpb"
      }
    },
    {
      "cell_type": "code",
      "source": [
        "## Print all items in the list, one by one:"
      ],
      "metadata": {
        "id": "rlWBJ9f-2idb"
      },
      "execution_count": null,
      "outputs": []
    },
    {
      "cell_type": "code",
      "source": [
        "fruit = [\"apple\", \"banana\", \"cherry\"]\n",
        "for x in fruit:\n",
        "  print(x)"
      ],
      "metadata": {
        "colab": {
          "base_uri": "https://localhost:8080/"
        },
        "id": "Kmv2Yeqd3JMP",
        "outputId": "443c648b-8a4a-4ad7-a6f0-faa4b3893701"
      },
      "execution_count": null,
      "outputs": [
        {
          "output_type": "stream",
          "name": "stdout",
          "text": [
            "apple\n",
            "banana\n",
            "cherry\n"
          ]
        }
      ]
    },
    {
      "cell_type": "code",
      "source": [
        "animals = [\"cow\",\"goat\",\"bullock\",\"buffalo\"]\n",
        "for x in animals:\n",
        "  print(x)"
      ],
      "metadata": {
        "colab": {
          "base_uri": "https://localhost:8080/"
        },
        "id": "PnTfVs8H3jhP",
        "outputId": "5566f0dc-47d0-4171-f4f1-46171ed643ff"
      },
      "execution_count": null,
      "outputs": [
        {
          "output_type": "stream",
          "name": "stdout",
          "text": [
            "cow\n",
            "goat\n",
            "bullock\n",
            "buffalo\n"
          ]
        }
      ]
    },
    {
      "cell_type": "code",
      "source": [
        "num=[2,3,4,7]\n",
        "for x in num:\n",
        "  print(x)"
      ],
      "metadata": {
        "colab": {
          "base_uri": "https://localhost:8080/"
        },
        "id": "m9uXBZSm3uJL",
        "outputId": "4571fe69-f863-48f9-936a-32ad354d0ec1"
      },
      "execution_count": null,
      "outputs": [
        {
          "output_type": "stream",
          "name": "stdout",
          "text": [
            "2\n",
            "3\n",
            "4\n",
            "7\n"
          ]
        }
      ]
    },
    {
      "cell_type": "code",
      "source": [
        "## Loop Through the Index Numbers"
      ],
      "metadata": {
        "id": "BU8KB6H_4CBB"
      },
      "execution_count": null,
      "outputs": []
    },
    {
      "cell_type": "code",
      "source": [
        "fruit = [\"apple\", \"banana\", \"cherry\"]\n",
        "for i in range(len(fruit)):\n",
        "  print(fruit[i])"
      ],
      "metadata": {
        "colab": {
          "base_uri": "https://localhost:8080/"
        },
        "id": "gLqMOCKS4Ecq",
        "outputId": "e1821f8a-fa8b-4fde-a3ab-026f2ef61d45"
      },
      "execution_count": null,
      "outputs": [
        {
          "output_type": "stream",
          "name": "stdout",
          "text": [
            "apple\n",
            "banana\n",
            "cherry\n"
          ]
        }
      ]
    },
    {
      "cell_type": "code",
      "source": [
        "animals = [\"cow\",\"goat\",\"bullock\",\"buffalo\"]\n",
        "for i in range(len(animals)):\n",
        "  print(animals[i])"
      ],
      "metadata": {
        "colab": {
          "base_uri": "https://localhost:8080/"
        },
        "id": "lgzj_jxF4asy",
        "outputId": "49a26066-468e-465c-85be-62316a02e509"
      },
      "execution_count": null,
      "outputs": [
        {
          "output_type": "stream",
          "name": "stdout",
          "text": [
            "cow\n",
            "goat\n",
            "bullock\n",
            "buffalo\n"
          ]
        }
      ]
    },
    {
      "cell_type": "markdown",
      "source": [
        "## Using a While Loop"
      ],
      "metadata": {
        "id": "K-e-tDPT4zGb"
      }
    },
    {
      "cell_type": "code",
      "source": [
        "fruit = [\"apple\", \"banana\", \"cherry\"]\n",
        "i = 0\n",
        "while i < len(fruit):\n",
        "  print(fruit[i])\n",
        "  i = i + 1"
      ],
      "metadata": {
        "colab": {
          "base_uri": "https://localhost:8080/"
        },
        "id": "7XLwvlv34xJI",
        "outputId": "a2f7dd9c-1775-4000-f206-68d4bc716b98"
      },
      "execution_count": null,
      "outputs": [
        {
          "output_type": "stream",
          "name": "stdout",
          "text": [
            "apple\n",
            "banana\n",
            "cherry\n"
          ]
        }
      ]
    },
    {
      "cell_type": "code",
      "source": [
        "animals = [\"cow\",\"goat\",\"bullock\",\"buffalo\"]\n",
        "i = 0\n",
        "while i < len(animals):\n",
        "  print(animals[i])\n",
        "  i = i + 1"
      ],
      "metadata": {
        "colab": {
          "base_uri": "https://localhost:8080/"
        },
        "id": "ccdxvFc65yU0",
        "outputId": "650b4e3b-fc3f-456e-d92d-0921ad2a6b4a"
      },
      "execution_count": null,
      "outputs": [
        {
          "output_type": "stream",
          "name": "stdout",
          "text": [
            "cow\n",
            "goat\n",
            "bullock\n",
            "buffalo\n"
          ]
        }
      ]
    },
    {
      "cell_type": "code",
      "source": [
        "##Looping Using List Comprehension"
      ],
      "metadata": {
        "id": "6i4II8pJ6YPL"
      },
      "execution_count": null,
      "outputs": []
    },
    {
      "cell_type": "code",
      "source": [
        "fruit = [\"apple\", \"banana\", \"cherry\"]\n",
        "[print(x) for x in fruit]"
      ],
      "metadata": {
        "colab": {
          "base_uri": "https://localhost:8080/"
        },
        "id": "YcvJbzT36Z7J",
        "outputId": "ec635bcb-329c-4c98-f299-0b17ee1c7896"
      },
      "execution_count": null,
      "outputs": [
        {
          "output_type": "stream",
          "name": "stdout",
          "text": [
            "apple\n",
            "banana\n",
            "cherry\n"
          ]
        },
        {
          "output_type": "execute_result",
          "data": {
            "text/plain": [
              "[None, None, None]"
            ]
          },
          "metadata": {},
          "execution_count": 21
        }
      ]
    },
    {
      "cell_type": "code",
      "source": [
        "animals = [\"cow\",\"goat\",\"bullock\",\"buffalo\"]\n",
        "[print(x) for x in animals]"
      ],
      "metadata": {
        "colab": {
          "base_uri": "https://localhost:8080/"
        },
        "id": "H0DC7RTU7B8u",
        "outputId": "1265a18c-fd46-4c09-c08e-e402cbb12eac"
      },
      "execution_count": null,
      "outputs": [
        {
          "output_type": "stream",
          "name": "stdout",
          "text": [
            "cow\n",
            "goat\n",
            "bullock\n",
            "buffalo\n"
          ]
        },
        {
          "output_type": "execute_result",
          "data": {
            "text/plain": [
              "[None, None, None, None]"
            ]
          },
          "metadata": {},
          "execution_count": 23
        }
      ]
    },
    {
      "cell_type": "markdown",
      "source": [
        "## LIST COMPHRENSION"
      ],
      "metadata": {
        "id": "SK1314Ep8Po0"
      }
    },
    {
      "cell_type": "code",
      "source": [
        "animals = [\"cow\",\"goat\",\"bullock\",\"buffalo\"]\n",
        "newlist = []\n",
        "\n",
        "for x in animals:\n",
        "  if \"a\" in x:\n",
        "    newlist.append(x)\n",
        "\n",
        "print(newlist)"
      ],
      "metadata": {
        "colab": {
          "base_uri": "https://localhost:8080/"
        },
        "id": "1d_qcNrt8OoW",
        "outputId": "cda45aa9-28c0-407f-ed8d-7d68c7b2e6bb"
      },
      "execution_count": null,
      "outputs": [
        {
          "output_type": "stream",
          "name": "stdout",
          "text": [
            "['goat', 'buffalo']\n"
          ]
        }
      ]
    },
    {
      "cell_type": "code",
      "source": [
        "animals = [\"cow\",\"goat\",\"bullock\",\"buffalo\"]\n",
        "newlist = [x for x in animals if \"a\" in x]\n",
        "\n",
        "print(newlist)\n",
        "## condition\n",
        "newlist = [x for x in animals if x != \"cow\"]\n",
        "print(newlist)\n",
        "## statement\n",
        "newlist = [x for x in animals]\n",
        "print(newlist)\n",
        "##Range\n",
        "newlist = [x for x in range(10)]\n",
        "print(newlist)\n",
        "newlist = [x for x in range(10) if x < 5]\n",
        "print(newlist)\n",
        "## Expression\n",
        "newlist = [x.upper() for x in animals]\n",
        "print(newlist)\n",
        "newlist = ['hello' for x in animals]\n",
        "print(newlist)\n",
        "newlist = [x if x != \"cow\" else \"goat\" for x in animals]\n",
        "print(newlist)"
      ],
      "metadata": {
        "colab": {
          "base_uri": "https://localhost:8080/"
        },
        "id": "9ote_rHwDFED",
        "outputId": "77fc632e-b162-4ce1-fad2-097c3ade3729"
      },
      "execution_count": null,
      "outputs": [
        {
          "output_type": "stream",
          "name": "stdout",
          "text": [
            "['goat', 'buffalo']\n",
            "['goat', 'bullock', 'buffalo']\n",
            "['cow', 'goat', 'bullock', 'buffalo']\n",
            "[0, 1, 2, 3, 4, 5, 6, 7, 8, 9]\n",
            "[0, 1, 2, 3, 4]\n",
            "['COW', 'GOAT', 'BULLOCK', 'BUFFALO']\n",
            "['hello', 'hello', 'hello', 'hello']\n",
            "['goat', 'goat', 'bullock', 'buffalo']\n"
          ]
        }
      ]
    },
    {
      "cell_type": "markdown",
      "source": [
        "## SORT LISTS"
      ],
      "metadata": {
        "id": "lhiBOdRckJZo"
      }
    },
    {
      "cell_type": "code",
      "source": [
        "## Sort the list alphabetically:"
      ],
      "metadata": {
        "id": "YSJn4oB1kuIT"
      },
      "execution_count": null,
      "outputs": []
    },
    {
      "cell_type": "code",
      "source": [
        "fruits = [\"orange\", \"mango\", \"kiwi\", \"pineapple\", \"banana\"]\n",
        "fruits.sort()\n",
        "print(fruits)"
      ],
      "metadata": {
        "colab": {
          "base_uri": "https://localhost:8080/"
        },
        "id": "snUvzRjJkIq_",
        "outputId": "ea8c3d7f-e774-4a6c-c99d-ce74139c9432"
      },
      "execution_count": null,
      "outputs": [
        {
          "output_type": "stream",
          "name": "stdout",
          "text": [
            "['banana', 'kiwi', 'mango', 'orange', 'pineapple']\n"
          ]
        }
      ]
    },
    {
      "cell_type": "code",
      "source": [
        "numbers = [100, 50, 65, 82, 23]\n",
        "numbers.sort()\n",
        "print(numbers)"
      ],
      "metadata": {
        "colab": {
          "base_uri": "https://localhost:8080/"
        },
        "id": "Zc31lwf-kwvX",
        "outputId": "e187cb80-ed55-43c6-b12c-18ec728567ec"
      },
      "execution_count": null,
      "outputs": [
        {
          "output_type": "stream",
          "name": "stdout",
          "text": [
            "[23, 50, 65, 82, 100]\n"
          ]
        }
      ]
    },
    {
      "cell_type": "markdown",
      "source": [
        "## SORT DESCENDING and ASSE"
      ],
      "metadata": {
        "id": "3eor8R1nlHJP"
      }
    },
    {
      "cell_type": "code",
      "source": [
        "subjects = [\"maths\", \"physics\", \"chemistry\",\"telugu\",\"english\"]\n",
        "subjects.sort(reverse = True)\n",
        "print(subjects)"
      ],
      "metadata": {
        "colab": {
          "base_uri": "https://localhost:8080/"
        },
        "id": "37bCCmHHlFfK",
        "outputId": "0e2daae1-08fd-4d7c-9ebb-4f69ec114300"
      },
      "execution_count": null,
      "outputs": [
        {
          "output_type": "stream",
          "name": "stdout",
          "text": [
            "['telugu', 'physics', 'maths', 'english', 'chemistry']\n"
          ]
        }
      ]
    },
    {
      "cell_type": "code",
      "source": [
        "marks = [100, 50, 65, 82, 23]\n",
        "marks.sort(reverse = True)\n",
        "print(marks)\n",
        "## assending\n",
        "marks.sort()\n",
        "print(marks)"
      ],
      "metadata": {
        "colab": {
          "base_uri": "https://localhost:8080/"
        },
        "id": "f0y2LC-bmSyR",
        "outputId": "12be6c9b-fb29-41d8-aa57-bb7e5f92998a"
      },
      "execution_count": null,
      "outputs": [
        {
          "output_type": "stream",
          "name": "stdout",
          "text": [
            "[100, 82, 65, 50, 23]\n",
            "[23, 50, 65, 82, 100]\n"
          ]
        }
      ]
    },
    {
      "cell_type": "code",
      "source": [
        "numbers = [23,43,12,34,41,52,25]\n",
        "numbers.sort(reverse = True)\n",
        "print(numbers)\n",
        "## assending\n",
        "numbers.sort()\n",
        "print(numbers)"
      ],
      "metadata": {
        "colab": {
          "base_uri": "https://localhost:8080/"
        },
        "id": "Wo7YbGVpmmwi",
        "outputId": "81569849-7ab6-4ba1-acab-a71add8ccfc4"
      },
      "execution_count": null,
      "outputs": [
        {
          "output_type": "stream",
          "name": "stdout",
          "text": [
            "[52, 43, 41, 34, 25, 23, 12]\n",
            "[12, 23, 25, 34, 41, 43, 52]\n"
          ]
        }
      ]
    },
    {
      "cell_type": "markdown",
      "source": [
        "##  Customize Sort Function"
      ],
      "metadata": {
        "id": "o3XiPqLxpgOH"
      }
    },
    {
      "cell_type": "code",
      "source": [
        "def myfunc(n):\n",
        "  return abs(n - 50)\n",
        "\n",
        "numbers = [100, 50, 65, 82, 23]\n",
        "\n",
        "numbers.sort(key = myfunc)\n",
        "\n",
        "print(numbers)"
      ],
      "metadata": {
        "colab": {
          "base_uri": "https://localhost:8080/"
        },
        "id": "Gea34dQQnjPG",
        "outputId": "5e775a6b-7b6b-43e6-c682-8bda89bf64d3"
      },
      "execution_count": null,
      "outputs": [
        {
          "output_type": "stream",
          "name": "stdout",
          "text": [
            "[50, 65, 23, 82, 100]\n"
          ]
        }
      ]
    },
    {
      "cell_type": "markdown",
      "source": [
        "## Case Insensitive Sort"
      ],
      "metadata": {
        "id": "jFgSjUGxppsY"
      }
    },
    {
      "cell_type": "code",
      "source": [
        "animals = [\"cow\",\"goat\",\"bullock\",\"buffalo\"]\n",
        "animals.sort()\n",
        "print(animals)"
      ],
      "metadata": {
        "colab": {
          "base_uri": "https://localhost:8080/"
        },
        "id": "x6qIsu6roZ6L",
        "outputId": "63521eed-58df-48d3-e295-99a09eccc63d"
      },
      "execution_count": null,
      "outputs": [
        {
          "output_type": "stream",
          "name": "stdout",
          "text": [
            "['buffalo', 'bullock', 'cow', 'goat']\n"
          ]
        }
      ]
    },
    {
      "cell_type": "code",
      "source": [
        "subjects = [\"maths\", \"physics\", \"chemistry\",\"telugu\",\"english\"]\n",
        "subjects.sort(key = str.lower)\n",
        "print(subjects)"
      ],
      "metadata": {
        "colab": {
          "base_uri": "https://localhost:8080/"
        },
        "id": "pXlAQnoMo3dl",
        "outputId": "e408b512-01b7-4641-e117-6adcaa8a91fa"
      },
      "execution_count": null,
      "outputs": [
        {
          "output_type": "stream",
          "name": "stdout",
          "text": [
            "['chemistry', 'english', 'maths', 'physics', 'telugu']\n"
          ]
        }
      ]
    },
    {
      "cell_type": "markdown",
      "source": [
        "## Reverse Order"
      ],
      "metadata": {
        "id": "H5_mE3Z2pVCO"
      }
    },
    {
      "cell_type": "code",
      "source": [
        "subjects = [\"maths\", \"physics\", \"chemistry\",\"telugu\",\"english\"]\n",
        "subjects.reverse()\n",
        "print(subjects) "
      ],
      "metadata": {
        "colab": {
          "base_uri": "https://localhost:8080/"
        },
        "id": "SKOgil1apUKh",
        "outputId": "349e9d4b-40c2-48bc-d271-319fdc1d98da"
      },
      "execution_count": null,
      "outputs": [
        {
          "output_type": "stream",
          "name": "stdout",
          "text": [
            "['english', 'telugu', 'chemistry', 'physics', 'maths']\n"
          ]
        }
      ]
    },
    {
      "cell_type": "code",
      "source": [
        "marks = [100, 50, 65, 82, 23]\n",
        "marks.reverse()\n",
        "print(marks) "
      ],
      "metadata": {
        "colab": {
          "base_uri": "https://localhost:8080/"
        },
        "id": "rPRdx141p_W2",
        "outputId": "aefaa5b4-9398-4d47-b3df-5f276fb13250"
      },
      "execution_count": null,
      "outputs": [
        {
          "output_type": "stream",
          "name": "stdout",
          "text": [
            "[23, 82, 65, 50, 100]\n"
          ]
        }
      ]
    },
    {
      "cell_type": "markdown",
      "source": [
        "## COPY LISTS"
      ],
      "metadata": {
        "id": "jwaBxi1lqb-o"
      }
    },
    {
      "cell_type": "code",
      "source": [
        "animals = [\"cow\",\"goat\",\"bullock\",\"buffalo\"]\n",
        "mylist = animals .copy()\n",
        "print(mylist)\n",
        "## LISTS\n",
        "mylist = list(animals)\n",
        "print(mylist)"
      ],
      "metadata": {
        "colab": {
          "base_uri": "https://localhost:8080/"
        },
        "id": "nRst9t1Cqa3b",
        "outputId": "46162d37-8132-4c25-8d76-397498489156"
      },
      "execution_count": null,
      "outputs": [
        {
          "output_type": "stream",
          "name": "stdout",
          "text": [
            "['cow', 'goat', 'bullock', 'buffalo']\n",
            "['cow', 'goat', 'bullock', 'buffalo']\n"
          ]
        }
      ]
    },
    {
      "cell_type": "markdown",
      "source": [
        "## JOIN LISTS"
      ],
      "metadata": {
        "id": "Xq4bpW1Kr5jq"
      }
    },
    {
      "cell_type": "code",
      "source": [
        "## Join two list:\n",
        "marks = [100, 50, 65, 82, 23]\n",
        "subjects = [\"maths\", \"physics\", \"chemistry\",\"telugu\",\"english\"]\n",
        "each = marks + subjects\n",
        "print(each)\n",
        "## APPEND\n",
        "for x in subjects:\n",
        "  marks.append(x)\n",
        "print(marks)\n",
        "## EXTEND\n",
        "marks.extend(subjects)\n",
        "print(marks)"
      ],
      "metadata": {
        "colab": {
          "base_uri": "https://localhost:8080/"
        },
        "id": "wnxipctrr438",
        "outputId": "2f3b521b-a545-480a-8086-5f8d0cdc7c21"
      },
      "execution_count": null,
      "outputs": [
        {
          "output_type": "stream",
          "name": "stdout",
          "text": [
            "[100, 50, 65, 82, 23, 'maths', 'physics', 'chemistry', 'telugu', 'english']\n",
            "[100, 50, 65, 82, 23, 'maths', 'physics', 'chemistry', 'telugu', 'english']\n",
            "[100, 50, 65, 82, 23, 'maths', 'physics', 'chemistry', 'telugu', 'english', 'maths', 'physics', 'chemistry', 'telugu', 'english']\n"
          ]
        }
      ]
    },
    {
      "cell_type": "code",
      "source": [
        "X= [\"a\", \"b\", \"c\"]\n",
        "Y = [1, 2, 3]\n",
        "Z = X + Y\n",
        "print(Z)\n",
        "## APPEND\n",
        "for i in Y:\n",
        "  X.append(i)\n",
        "print(X)\n",
        "## EXTEND\n",
        "X.extend(Y)\n",
        "print(X)"
      ],
      "metadata": {
        "colab": {
          "base_uri": "https://localhost:8080/"
        },
        "id": "Z1RgqWRrtH8B",
        "outputId": "ba91c865-1398-4e05-803d-44331f9cbabd"
      },
      "execution_count": null,
      "outputs": [
        {
          "output_type": "stream",
          "name": "stdout",
          "text": [
            "['a', 'b', 'c', 1, 2, 3]\n",
            "['a', 'b', 'c', 1, 2, 3]\n",
            "['a', 'b', 'c', 1, 2, 3, 1, 2, 3]\n"
          ]
        }
      ]
    }
  ]
}