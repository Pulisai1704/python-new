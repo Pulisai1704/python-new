{
  "nbformat": 4,
  "nbformat_minor": 0,
  "metadata": {
    "colab": {
      "name": "SETS.ipynb",
      "provenance": [],
      "authorship_tag": "ABX9TyNwvWGlOg+1NeYChg+hQ+ut",
      "include_colab_link": true
    },
    "kernelspec": {
      "name": "python3",
      "display_name": "Python 3"
    },
    "language_info": {
      "name": "python"
    }
  },
  "cells": [
    {
      "cell_type": "markdown",
      "metadata": {
        "id": "view-in-github",
        "colab_type": "text"
      },
      "source": [
        "<a href=\"https://colab.research.google.com/github/Pulisai1704/python-new/blob/module-2/SETS.ipynb\" target=\"_parent\"><img src=\"https://colab.research.google.com/assets/colab-badge.svg\" alt=\"Open In Colab\"/></a>"
      ]
    },
    {
      "cell_type": "markdown",
      "source": [
        "## Sets"
      ],
      "metadata": {
        "id": "czErwfqYBSQY"
      }
    },
    {
      "cell_type": "code",
      "source": [
        ""
      ],
      "metadata": {
        "id": "psrtaHAFbU-d"
      },
      "execution_count": null,
      "outputs": []
    },
    {
      "cell_type": "code",
      "execution_count": null,
      "metadata": {
        "colab": {
          "base_uri": "https://localhost:8080/"
        },
        "id": "ngbmJ2gYBH5w",
        "outputId": "76a2dc2f-7759-458f-8452-0faaf30d4871"
      },
      "outputs": [
        {
          "output_type": "stream",
          "name": "stdout",
          "text": [
            "{'buffalow', 'goat', 'sheep', 'cow'}\n"
          ]
        }
      ],
      "source": [
        "## Sets\n",
        "animals={\"cow\",\"buffalow\",\"goat\",\"sheep\"}\n",
        "print(animals)"
      ]
    },
    {
      "cell_type": "code",
      "source": [
        "## Duplicates Not Allowed\n",
        "animals={\"cow\",\"buffalow\",\"cow\",\"sheep\"}\n",
        "print(animals)"
      ],
      "metadata": {
        "colab": {
          "base_uri": "https://localhost:8080/"
        },
        "id": "rz17toxECwLo",
        "outputId": "1ff3dd92-ffcd-4f68-aa7d-4bc0c83a3edd"
      },
      "execution_count": null,
      "outputs": [
        {
          "output_type": "stream",
          "name": "stdout",
          "text": [
            "{'buffalow', 'sheep', 'cow'}\n"
          ]
        }
      ]
    },
    {
      "cell_type": "code",
      "source": [
        "## Get the Length of a Set\n",
        "animals={\"cow\",\"buffalow\",\"cow\",\"sheep\"}\n",
        "print(len(animals))"
      ],
      "metadata": {
        "colab": {
          "base_uri": "https://localhost:8080/"
        },
        "id": "6dpf81BAC_qX",
        "outputId": "59ad311e-8f70-4586-a87f-9afe88d7473f"
      },
      "execution_count": null,
      "outputs": [
        {
          "output_type": "stream",
          "name": "stdout",
          "text": [
            "3\n"
          ]
        }
      ]
    },
    {
      "cell_type": "code",
      "source": [
        "## Set Items - Data Types\n",
        "fruits = {\"apple\", \"banana\", \"cherry\"}\n",
        "num = {1, 5, 7, 9, 3}\n",
        "boolean = {True, False, False}\n",
        "print(fruits)\n",
        "print(num)\n",
        "print(boolean)"
      ],
      "metadata": {
        "colab": {
          "base_uri": "https://localhost:8080/"
        },
        "id": "oW5LTc9hDQeX",
        "outputId": "1f2ec2ad-2c7a-43e5-eeab-31c60a490b08"
      },
      "execution_count": null,
      "outputs": [
        {
          "output_type": "stream",
          "name": "stdout",
          "text": [
            "{'cherry', 'apple', 'banana'}\n",
            "{1, 3, 5, 7, 9}\n",
            "{False, True}\n"
          ]
        }
      ]
    },
    {
      "cell_type": "code",
      "source": [
        "## A set with strings, integers and boolean values:\n",
        "a=(\"abc\",\"154\",\"true\")\n",
        "print(a)"
      ],
      "metadata": {
        "colab": {
          "base_uri": "https://localhost:8080/"
        },
        "id": "JfL31pwMERSp",
        "outputId": "dfe0cce0-2719-4a3b-e91d-8bb373645bb5"
      },
      "execution_count": null,
      "outputs": [
        {
          "output_type": "stream",
          "name": "stdout",
          "text": [
            "('abc', '154', 'true')\n"
          ]
        }
      ]
    },
    {
      "cell_type": "code",
      "source": [
        "## type()\n",
        "fruits = {\"apple\", \"banana\", \"cherry\"}\n",
        "print(type(fruits))"
      ],
      "metadata": {
        "colab": {
          "base_uri": "https://localhost:8080/"
        },
        "id": "yP-sA-2bbWhj",
        "outputId": "fe368e52-20bf-4cc5-9d74-06967e0e6aa2"
      },
      "execution_count": null,
      "outputs": [
        {
          "output_type": "stream",
          "name": "stdout",
          "text": [
            "<class 'set'>\n"
          ]
        }
      ]
    },
    {
      "cell_type": "code",
      "source": [
        "## The set() Constructor\n",
        "fruits = set((\"apple\", \"banana\", \"cherry\"))\n",
        "print(fruits)"
      ],
      "metadata": {
        "colab": {
          "base_uri": "https://localhost:8080/"
        },
        "id": "5qK9el9ybu9-",
        "outputId": "598ebd19-6b4c-4223-b478-2dfde9eeb6c0"
      },
      "execution_count": null,
      "outputs": [
        {
          "output_type": "stream",
          "name": "stdout",
          "text": [
            "{'cherry', 'banana', 'apple'}\n"
          ]
        }
      ]
    },
    {
      "cell_type": "code",
      "source": [
        "## Access Set Items\n",
        "animals = {\"bullock\", \"bufallow\", \"cow\"}\n",
        "for x in animals:\n",
        "  print(x)"
      ],
      "metadata": {
        "colab": {
          "base_uri": "https://localhost:8080/"
        },
        "id": "Dnpw-NxicD0i",
        "outputId": "0822fac1-2399-4c13-e9b2-258c50cfaf53"
      },
      "execution_count": null,
      "outputs": [
        {
          "output_type": "stream",
          "name": "stdout",
          "text": [
            "bullock\n",
            "bufallow\n",
            "cow\n"
          ]
        }
      ]
    },
    {
      "cell_type": "code",
      "source": [
        "## Add Set Items\n",
        "animals = {\"bullock\", \"bufallow\", \"cow\"}\n",
        "animals .add(\"goat\")\n",
        "print(animals)"
      ],
      "metadata": {
        "colab": {
          "base_uri": "https://localhost:8080/"
        },
        "id": "0GfmQG_Rc3Mw",
        "outputId": "f1bf946f-6cbf-4d15-c132-29e7edf1b263"
      },
      "execution_count": null,
      "outputs": [
        {
          "output_type": "stream",
          "name": "stdout",
          "text": [
            "{'bullock', 'goat', 'bufallow', 'cow'}\n"
          ]
        }
      ]
    },
    {
      "cell_type": "code",
      "source": [
        "## Add Any Iterable\n",
        "animals = {\"bullock\", \"bufallow\", \"cow\"}\n",
        "mylist = [\"goat\", \"oxe\"]\n",
        "animals.update(mylist)\n",
        "print(animals)"
      ],
      "metadata": {
        "colab": {
          "base_uri": "https://localhost:8080/"
        },
        "id": "pxJkyE1wdaVs",
        "outputId": "dc11a1ef-1269-4833-9a2a-48c57033c127"
      },
      "execution_count": null,
      "outputs": [
        {
          "output_type": "stream",
          "name": "stdout",
          "text": [
            "{'bullock', 'cow', 'goat', 'bufallow', 'oxe'}\n"
          ]
        }
      ]
    },
    {
      "cell_type": "code",
      "source": [
        "## Remove Set Items\n",
        "animals = {\"goat\", \"cow\", \"bufallow\"}\n",
        "\n",
        "animals .remove(\"cow\")\n",
        "\n",
        "print(animals )\n"
      ],
      "metadata": {
        "colab": {
          "base_uri": "https://localhost:8080/"
        },
        "id": "xYxFqn6jd4Q1",
        "outputId": "c3e767ec-53df-4a9c-cf48-f229a3804d8a"
      },
      "execution_count": null,
      "outputs": [
        {
          "output_type": "stream",
          "name": "stdout",
          "text": [
            "{'goat', 'bufallow'}\n"
          ]
        }
      ]
    },
    {
      "cell_type": "code",
      "source": [
        "## discard() method:\n",
        "animals = {\"goat\", \"cow\", \"bufallow\"}\n",
        "\n",
        "animals .remove(\"cow\")\n",
        "\n",
        "print(animals ) "
      ],
      "metadata": {
        "colab": {
          "base_uri": "https://localhost:8080/"
        },
        "id": "_H0Q_1vEeZYc",
        "outputId": "6a60f547-a015-430f-9f99-057f2b5f3b1b"
      },
      "execution_count": null,
      "outputs": [
        {
          "output_type": "stream",
          "name": "stdout",
          "text": [
            "{'goat', 'bufallow'}\n"
          ]
        }
      ]
    },
    {
      "cell_type": "code",
      "source": [
        "## pop() method:\n",
        "animals = {\"goat\", \"cow\", \"bufallow\"}\n",
        "x = animals.pop()\n",
        "print(x)\n",
        "print(animals) "
      ],
      "metadata": {
        "colab": {
          "base_uri": "https://localhost:8080/"
        },
        "id": "4Zj5lF90euEg",
        "outputId": "802a9d9e-38f5-4663-c97a-2e5e57b1c643"
      },
      "execution_count": null,
      "outputs": [
        {
          "output_type": "stream",
          "name": "stdout",
          "text": [
            "goat\n",
            "{'bufallow', 'cow'}\n"
          ]
        }
      ]
    },
    {
      "cell_type": "code",
      "source": [
        "## clear() method:\n",
        "animals = {\"bullock\", \"bufallow\", \"cow\"}\n",
        "\n",
        "animals.clear()\n",
        "\n",
        "print(animals) "
      ],
      "metadata": {
        "colab": {
          "base_uri": "https://localhost:8080/"
        },
        "id": "XpKBQdUcfDWz",
        "outputId": "0151f2dc-3433-4590-ad8b-d1732c6e8211"
      },
      "execution_count": null,
      "outputs": [
        {
          "output_type": "stream",
          "name": "stdout",
          "text": [
            "set()\n"
          ]
        }
      ]
    },
    {
      "cell_type": "code",
      "source": [
        "##Loop Sets\n",
        "animals = {\"bullock\", \"bufallow\", \"cow\"}\n",
        "\n",
        "\n",
        "for x in animals:\n",
        "  print(x)\n"
      ],
      "metadata": {
        "colab": {
          "base_uri": "https://localhost:8080/"
        },
        "id": "Mr0dOX8_fY0Q",
        "outputId": "195c0434-8ef7-468f-e2a2-426a8bce3f52"
      },
      "execution_count": null,
      "outputs": [
        {
          "output_type": "stream",
          "name": "stdout",
          "text": [
            "bullock\n",
            "bufallow\n",
            "cow\n"
          ]
        }
      ]
    }
  ]
}