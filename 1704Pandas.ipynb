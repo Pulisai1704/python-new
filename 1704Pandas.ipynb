{
  "cells": [
    {
      "cell_type": "markdown",
      "metadata": {
        "id": "view-in-github",
        "colab_type": "text"
      },
      "source": [
        "<a href=\"https://colab.research.google.com/github/Pulisai1704/python-new/blob/Module-3/1704Pandas.ipynb\" target=\"_parent\"><img src=\"https://colab.research.google.com/assets/colab-badge.svg\" alt=\"Open In Colab\"/></a>"
      ]
    },
    {
      "cell_type": "code",
      "execution_count": null,
      "id": "27d9046d-57cb-4da3-b9b4-d35118604bdd",
      "metadata": {
        "id": "27d9046d-57cb-4da3-b9b4-d35118604bdd",
        "outputId": "3e741522-7f08-4e8b-bb01-549a45b0dd4a"
      },
      "outputs": [
        {
          "data": {
            "text/plain": [
              "'1.3.4'"
            ]
          },
          "execution_count": 4,
          "metadata": {},
          "output_type": "execute_result"
        }
      ],
      "source": [
        "import pandas \n",
        "\n",
        "pandas.__version__\n"
      ]
    },
    {
      "cell_type": "code",
      "execution_count": null,
      "id": "87fbe024-295c-4dbb-97c5-f69a6b6eb691",
      "metadata": {
        "id": "87fbe024-295c-4dbb-97c5-f69a6b6eb691",
        "outputId": "635fc7c3-e358-4092-e478-e6e68da07e0a"
      },
      "outputs": [
        {
          "name": "stdout",
          "output_type": "stream",
          "text": [
            "     bike  passings\n",
            "0  pulsar         3\n",
            "1  unicon         7\n",
            "2  glamer         2\n"
          ]
        }
      ],
      "source": [
        "import pandas as pd\n",
        "\n",
        "mydataset = {\n",
        "  'bike': [\"pulsar\", \"unicon\", \"glamer\"],\n",
        "  'passings': [3, 7, 2]\n",
        "}\n",
        "\n",
        "myvar = pd.DataFrame(mydataset)\n",
        "\n",
        "print(myvar)\n"
      ]
    },
    {
      "cell_type": "code",
      "execution_count": null,
      "id": "a6696702-bc8c-4437-93eb-b3cb5883cb85",
      "metadata": {
        "id": "a6696702-bc8c-4437-93eb-b3cb5883cb85",
        "outputId": "e674dbbc-7a2b-4fa3-9840-45a63c017545"
      },
      "outputs": [
        {
          "name": "stdout",
          "output_type": "stream",
          "text": [
            "    tracors  passings\n",
            "0    swaraj         4\n",
            "1    kubota         8\n",
            "2  sonalika         3\n"
          ]
        }
      ],
      "source": [
        "import pandas\n",
        "\n",
        "mydataset = {\n",
        "  'tracors': [\"swaraj\", \"kubota\", \"sonalika\"],\n",
        "  'passings': [4, 8, 3]\n",
        "}\n",
        "\n",
        "myvar = pandas.DataFrame(mydataset)\n",
        "\n",
        "print(myvar)\n"
      ]
    },
    {
      "cell_type": "code",
      "execution_count": null,
      "id": "caa17c5f-f50f-4b93-81e0-6b384bfd1e85",
      "metadata": {
        "id": "caa17c5f-f50f-4b93-81e0-6b384bfd1e85",
        "outputId": "fce26a2f-8323-4490-926a-8df2cf819edc"
      },
      "outputs": [
        {
          "name": "stdout",
          "output_type": "stream",
          "text": [
            "    tracors  passings\n",
            "0    swaraj      3432\n",
            "1    kubota      7647\n",
            "2  sonalika      5382\n"
          ]
        }
      ],
      "source": [
        "import pandas as pd\n",
        "\n",
        "mycompany = {\n",
        "  'tracors': [\"swaraj\", \"kubota\", \"sonalika\"],\n",
        "  'passings': [3432, 7647, 5382]\n",
        "}\n",
        "\n",
        "a = pd.DataFrame(mycompany)\n",
        "\n",
        "print(a)"
      ]
    },
    {
      "cell_type": "code",
      "execution_count": null,
      "id": "9ed6a407-a910-4245-960d-4848842fb89e",
      "metadata": {
        "id": "9ed6a407-a910-4245-960d-4848842fb89e",
        "outputId": "652cc2f2-b339-4237-bfc4-ca1b9a6fc073"
      },
      "outputs": [
        {
          "name": "stdout",
          "output_type": "stream",
          "text": [
            "     items  passings\n",
            "0  chicken       160\n",
            "1   mutton       800\n",
            "2      egg         5\n"
          ]
        }
      ],
      "source": [
        "import pandas\n",
        "\n",
        "mycurries = {\n",
        "  'items': [\"chicken\", \"mutton\", \"egg\"],\n",
        "  'passings': [160, 800, 5]\n",
        "}\n",
        "\n",
        "a = pandas.DataFrame(mycurries)\n",
        "\n",
        "print(a)\n"
      ]
    },
    {
      "cell_type": "markdown",
      "id": "f08790b7-1f00-4b28-bd7d-e09435d79df3",
      "metadata": {
        "id": "f08790b7-1f00-4b28-bd7d-e09435d79df3"
      },
      "source": [
        "## Pandas Series\n"
      ]
    },
    {
      "cell_type": "code",
      "execution_count": null,
      "id": "e80e364b-00d6-4df6-9f57-4868c42c8802",
      "metadata": {
        "id": "e80e364b-00d6-4df6-9f57-4868c42c8802",
        "outputId": "ac5a23b5-9739-4a59-9da1-eef52b30ee0f"
      },
      "outputs": [
        {
          "name": "stdout",
          "output_type": "stream",
          "text": [
            "0    1532\n",
            "1    1704\n",
            "2    1286\n",
            "dtype: int64\n"
          ]
        }
      ],
      "source": [
        "import pandas as pd\n",
        "\n",
        "a = [1532, 1704, 1286]\n",
        "\n",
        "myvar = pd.Series(a)\n",
        "\n",
        "print(myvar)\n"
      ]
    },
    {
      "cell_type": "code",
      "execution_count": null,
      "id": "5542cecd-9c44-4eda-a8bd-0f6f987456eb",
      "metadata": {
        "id": "5542cecd-9c44-4eda-a8bd-0f6f987456eb",
        "outputId": "361c5a0b-9e59-4c2b-acaf-e840a9677b7d"
      },
      "outputs": [
        {
          "name": "stdout",
          "output_type": "stream",
          "text": [
            "1532\n",
            "1704\n",
            "1286\n"
          ]
        }
      ],
      "source": [
        "## index\n",
        "import pandas as pd\n",
        "\n",
        "a = [1532, 1704, 1286]\n",
        "\n",
        "myvar = pd.Series(a)\n",
        "\n",
        "print(myvar[0])\n",
        "print(myvar[1])\n",
        "print(myvar[2])\n"
      ]
    },
    {
      "cell_type": "code",
      "execution_count": null,
      "id": "a0482533-8fc7-401c-b101-08193b16a248",
      "metadata": {
        "id": "a0482533-8fc7-401c-b101-08193b16a248",
        "outputId": "1976f267-d614-4f61-983b-d4d9db75aa71"
      },
      "outputs": [
        {
          "name": "stdout",
          "output_type": "stream",
          "text": [
            "x    1532\n",
            "y    1704\n",
            "z    1286\n",
            "dtype: int64\n"
          ]
        }
      ],
      "source": [
        "import pandas as pd\n",
        "\n",
        "a = [1532, 1704, 1286]\n",
        "\n",
        "myvar = pd.Series(a, index = [\"x\", \"y\", \"z\"])\n",
        "\n",
        "print(myvar)"
      ]
    },
    {
      "cell_type": "code",
      "execution_count": null,
      "id": "520ca169-cd7d-4dd2-a486-05e1f671b6f5",
      "metadata": {
        "id": "520ca169-cd7d-4dd2-a486-05e1f671b6f5",
        "outputId": "02a0771b-1f03-4257-ed0e-70e0a33c4ead"
      },
      "outputs": [
        {
          "name": "stdout",
          "output_type": "stream",
          "text": [
            "x      swaraj\n",
            "y      kubota\n",
            "z    sonalika\n",
            "dtype: object\n"
          ]
        }
      ],
      "source": [
        "## Create Labels\n",
        "import pandas as pd\n",
        "\n",
        "company=[\"swaraj\", \"kubota\", \"sonalika\"]\n",
        "\n",
        "myvar = pd.Series(company, index = [\"x\", \"y\", \"z\"])\n",
        "\n",
        "print(myvar)"
      ]
    },
    {
      "cell_type": "code",
      "execution_count": null,
      "id": "cccf8e52-7162-425f-91e8-f460f2f904e8",
      "metadata": {
        "id": "cccf8e52-7162-425f-91e8-f460f2f904e8",
        "outputId": "f289c6f0-0ead-40c1-961d-e7d2825f0baf"
      },
      "outputs": [
        {
          "name": "stdout",
          "output_type": "stream",
          "text": [
            "kubota\n"
          ]
        }
      ],
      "source": [
        "## index\n",
        "import pandas as pd\n",
        "\n",
        "company=[\"swaraj\", \"kubota\", \"sonalika\"]\n",
        "\n",
        "a = pd.Series(company, index = [\"x\", \"y\", \"z\"])\n",
        "\n",
        "print(a[\"y\"])\n"
      ]
    },
    {
      "cell_type": "code",
      "execution_count": null,
      "id": "2b83a101-6abf-4d9d-9dd2-0252fa8bd907",
      "metadata": {
        "id": "2b83a101-6abf-4d9d-9dd2-0252fa8bd907",
        "outputId": "44a9a1c2-16f4-423d-97f6-6e043efa89b3"
      },
      "outputs": [
        {
          "name": "stdout",
          "output_type": "stream",
          "text": [
            "mutton\n",
            "chicken\n",
            "egg\n"
          ]
        }
      ],
      "source": [
        "import pandas as pd\n",
        "\n",
        "curries= [\"chicken\", \"mutton\", \"egg\"]\n",
        "a = pd.Series(curries, index = [\"x\", \"y\", \"z\"])\n",
        "\n",
        "print(a[\"y\"])\n",
        "print(a[\"x\"])\n",
        "print(a[\"z\"])"
      ]
    },
    {
      "cell_type": "code",
      "execution_count": null,
      "id": "563ed785-db7a-4d69-b839-085657653d39",
      "metadata": {
        "id": "563ed785-db7a-4d69-b839-085657653d39"
      },
      "outputs": [],
      "source": [
        ""
      ]
    },
    {
      "cell_type": "code",
      "execution_count": null,
      "id": "c9f826b8-106d-4c6e-9fd1-df3bcbd6a826",
      "metadata": {
        "id": "c9f826b8-106d-4c6e-9fd1-df3bcbd6a826"
      },
      "outputs": [],
      "source": [
        ""
      ]
    },
    {
      "cell_type": "code",
      "execution_count": null,
      "id": "10756f0b-d457-4e79-b7c0-c7797491732c",
      "metadata": {
        "id": "10756f0b-d457-4e79-b7c0-c7797491732c",
        "outputId": "ca8696d3-8062-4406-99b3-8dd9edb23010"
      },
      "outputs": [
        {
          "name": "stdout",
          "output_type": "stream",
          "text": [
            "monday        420\n",
            "tuesday2      380\n",
            "wednesday3    390\n",
            "dtype: int64\n"
          ]
        }
      ],
      "source": [
        "## Key/Value Objects as Series\n",
        "import pandas as pd\n",
        "salaries = {\"monday\": 420, \"tuesday2\": 380, \"wednesday3\": 390}\n",
        "a = pd.Series(salaries)\n",
        "print(a)"
      ]
    },
    {
      "cell_type": "code",
      "execution_count": null,
      "id": "6f941f84-d49a-42a0-a4ef-4a3a86575dd9",
      "metadata": {
        "id": "6f941f84-d49a-42a0-a4ef-4a3a86575dd9",
        "outputId": "49d46c5f-8ce7-4c69-e9c9-2ddf2ac49ed6"
      },
      "outputs": [
        {
          "name": "stdout",
          "output_type": "stream",
          "text": [
            "one acher       500\n",
            "two acher      1000\n",
            "three acher    1500\n",
            "dtype: int64\n"
          ]
        }
      ],
      "source": [
        "import pandas as pd\n",
        "acherrate = {\"one acher\": 500, \"two acher\": 1000, \"three acher\": 1500}\n",
        "a = pd.Series(acherrate)\n",
        "print(a)"
      ]
    },
    {
      "cell_type": "code",
      "execution_count": null,
      "id": "23aa5612-0a16-4a24-b49b-6084a6f5e8a5",
      "metadata": {
        "id": "23aa5612-0a16-4a24-b49b-6084a6f5e8a5",
        "outputId": "b08becf3-52f7-42fe-8d1f-cd719bc4337c"
      },
      "outputs": [
        {
          "name": "stdout",
          "output_type": "stream",
          "text": [
            "swaraj      700000\n",
            "kubota       50000\n",
            "sonalika    650000\n",
            "dtype: int64\n"
          ]
        }
      ],
      "source": [
        "import pandas as pd\n",
        "companyrates={\"swaraj\":700000, \"kubota\":50000, \"sonalika\":650000}\n",
        "a = pd.Series(companyrates)\n",
        "print(a)"
      ]
    },
    {
      "cell_type": "code",
      "execution_count": null,
      "id": "6d34c8fc-41be-473e-af01-5d38a198070d",
      "metadata": {
        "id": "6d34c8fc-41be-473e-af01-5d38a198070d",
        "outputId": "847b7896-03f4-436c-e427-58a70e6a0e50"
      },
      "outputs": [
        {
          "name": "stdout",
          "output_type": "stream",
          "text": [
            "swaraj    700000\n",
            "kubota     50000\n",
            "dtype: int64\n"
          ]
        }
      ],
      "source": [
        "## index\n",
        "import pandas as pd\n",
        "\n",
        "companyrates={\"swaraj\":700000, \"kubota\":50000, \"sonalika\":650000}\n",
        "\n",
        "myvar = pd.Series(companyrates, index = [\"swaraj\", \"kubota\"])\n",
        "\n",
        "print(myvar)\n"
      ]
    },
    {
      "cell_type": "markdown",
      "id": "a8d13012-0246-43ce-8241-d791d93f3934",
      "metadata": {
        "id": "a8d13012-0246-43ce-8241-d791d93f3934"
      },
      "source": [
        "## pandas DataFrame"
      ]
    },
    {
      "cell_type": "code",
      "execution_count": null,
      "id": "255a1fe2-b9d5-4b61-869f-48d74cc675a6",
      "metadata": {
        "id": "255a1fe2-b9d5-4b61-869f-48d74cc675a6",
        "outputId": "519fbb4a-0e3a-42e3-b659-dd8245656083"
      },
      "outputs": [
        {
          "name": "stdout",
          "output_type": "stream",
          "text": [
            "   tractors  speed\n",
            "0       241     50\n",
            "1       743     40\n",
            "2       215     45\n"
          ]
        }
      ],
      "source": [
        "import pandas as pd\n",
        "\n",
        "company = {\n",
        "  \"tractors\": [241, 743, 215],\n",
        "  \"speed\": [50, 40, 45]\n",
        "}\n",
        "\n",
        "myvar = pd.DataFrame(company)\n",
        "\n",
        "print(myvar)\n"
      ]
    },
    {
      "cell_type": "code",
      "execution_count": null,
      "id": "97b3fd50-0d10-4f4d-83be-96118cb14550",
      "metadata": {
        "id": "97b3fd50-0d10-4f4d-83be-96118cb14550",
        "outputId": "03148a78-6da4-44ea-cf8b-f139d44ba5df"
      },
      "outputs": [
        {
          "name": "stdout",
          "output_type": "stream",
          "text": [
            "tractors    241\n",
            "speed        50\n",
            "Name: 0, dtype: int64\n"
          ]
        }
      ],
      "source": [
        "## Locate Row (index)\n",
        "import pandas as pd\n",
        "\n",
        "company = {\n",
        "  \"tractors\": [241, 743, 215],\n",
        "  \"speed\": [50, 40, 45]\n",
        "}\n",
        "\n",
        "a = pd.DataFrame(company)\n",
        "\n",
        "print(a.loc[0])\n"
      ]
    },
    {
      "cell_type": "code",
      "execution_count": null,
      "id": "8ef9d5d9-a112-4db0-be92-e146426a6c71",
      "metadata": {
        "id": "8ef9d5d9-a112-4db0-be92-e146426a6c71",
        "outputId": "7ec53a0f-fe39-4423-f119-62ea64b8ad47"
      },
      "outputs": [
        {
          "name": "stdout",
          "output_type": "stream",
          "text": [
            "   tractors  speed\n",
            "0       241     50\n",
            "1       743     40\n"
          ]
        }
      ],
      "source": [
        "import pandas as pd\n",
        "\n",
        "company = {\n",
        "  \"tractors\": [241, 743, 215],\n",
        "  \"speed\": [50, 40, 45]\n",
        "}\n",
        "\n",
        "a = pd.DataFrame(company)\n",
        "\n",
        "print(a.loc[[0, 1]])"
      ]
    },
    {
      "cell_type": "code",
      "execution_count": null,
      "id": "c90ddfa6-c2d8-45ae-8bfb-b11d89a17587",
      "metadata": {
        "id": "c90ddfa6-c2d8-45ae-8bfb-b11d89a17587",
        "outputId": "cf028304-973f-4f41-c9ab-8127e6778f27"
      },
      "outputs": [
        {
          "name": "stdout",
          "output_type": "stream",
          "text": [
            "      tractors  speed\n",
            "day1       241     50\n",
            "day2       743     40\n",
            "day3       215     45\n"
          ]
        }
      ],
      "source": [
        "## named index\n",
        "import pandas as pd\n",
        "\n",
        "company = {\n",
        "  \"tractors\": [241, 743, 215],\n",
        "  \"speed\": [50, 40, 45]\n",
        "}\n",
        "\n",
        "df = pd.DataFrame(company, index = [\"day1\", \"day2\", \"day3\"])\n",
        "\n",
        "print(df) "
      ]
    },
    {
      "cell_type": "code",
      "execution_count": null,
      "id": "3a728eac-3ebe-4a08-a97f-e30ed8b24b24",
      "metadata": {
        "id": "3a728eac-3ebe-4a08-a97f-e30ed8b24b24",
        "outputId": "eea139f3-41a0-4a97-bb83-45a3eec53e9b"
      },
      "outputs": [
        {
          "name": "stdout",
          "output_type": "stream",
          "text": [
            "tractors    743\n",
            "speed        40\n",
            "Name: day2, dtype: int64\n"
          ]
        }
      ],
      "source": [
        "## Locate Named Indexes\n",
        "import pandas as pd\n",
        "\n",
        "company = {\n",
        "  \"tractors\": [241, 743, 215],\n",
        "  \"speed\": [50, 40, 45]\n",
        "}\n",
        "\n",
        "df = pd.DataFrame(company, index = [\"day1\", \"day2\", \"day3\"])\n",
        "\n",
        "print(df.loc[\"day2\"])"
      ]
    },
    {
      "cell_type": "markdown",
      "id": "6a6adbdb-bda5-48bc-b793-8e4d5d11dad5",
      "metadata": {
        "id": "6a6adbdb-bda5-48bc-b793-8e4d5d11dad5"
      },
      "source": [
        "## Pandas Read CSV\n"
      ]
    },
    {
      "cell_type": "code",
      "execution_count": null,
      "id": "4e4aa9e5-aa20-4123-8139-3b08ca5013c1",
      "metadata": {
        "id": "4e4aa9e5-aa20-4123-8139-3b08ca5013c1",
        "outputId": "55d2cbf4-a59b-4a37-bb2e-0a4ffd7b1880"
      },
      "outputs": [
        {
          "name": "stdout",
          "output_type": "stream",
          "text": [
            "   s.no         veg non-veg\n",
            "0     1     brinjal  chiken\n",
            "1     2  califlower   muton\n",
            "2     3      carrot    fish\n",
            "3     4      cabage     egg\n",
            "4     5      tamota    crab\n"
          ]
        }
      ],
      "source": [
        "## Load the CSV into a DataFrame:\n",
        "import pandas as pd\n",
        "\n",
        "df = pd.read_csv('C:\\\\Users\\CSE22004\\Desktop\\dataveg.csv')\n",
        "\n",
        "print(df.to_string())"
      ]
    },
    {
      "cell_type": "code",
      "execution_count": null,
      "id": "80411d9e-86ac-4c0a-8cc1-98259126b180",
      "metadata": {
        "id": "80411d9e-86ac-4c0a-8cc1-98259126b180",
        "outputId": "71fa13ea-58e1-4617-de5f-f437506032d8"
      },
      "outputs": [
        {
          "name": "stdout",
          "output_type": "stream",
          "text": [
            "   s.no         veg non-veg\n",
            "0     1     brinjal  chiken\n",
            "1     2  califlower   muton\n",
            "2     3      carrot    fish\n",
            "3     4      cabage     egg\n",
            "4     5      tamota    crab\n"
          ]
        }
      ],
      "source": [
        "import pandas as pd\n",
        "\n",
        "df = pd.read_csv('C:\\\\Users\\CSE22004\\Desktop\\dataveg.csv')\n",
        "\n",
        "print(df)"
      ]
    },
    {
      "cell_type": "code",
      "execution_count": null,
      "id": "cde59b28-44a0-40f1-a182-bb9b16d1be8c",
      "metadata": {
        "id": "cde59b28-44a0-40f1-a182-bb9b16d1be8c",
        "outputId": "954b6409-34b2-400a-bdee-4c546417108e"
      },
      "outputs": [
        {
          "name": "stdout",
          "output_type": "stream",
          "text": [
            "   s.no      veg non-veg\n",
            "0   1.0  brinjal  chiken\n",
            "2   3.0   carrot    fish\n",
            "3   4.0   cabage     egg\n",
            "4   5.0   tamota    none\n"
          ]
        }
      ],
      "source": [
        "import pandas as pd\n",
        "\n",
        "df = pd.read_csv('D:\\\\veg-nonveg.csv')\n",
        "df.fillna(1,inplace = True)\n",
        "\n",
        "print(new_df.to_string())"
      ]
    },
    {
      "cell_type": "code",
      "execution_count": null,
      "id": "28786e08-fbc7-4190-aa60-cb3c0ec3507f",
      "metadata": {
        "id": "28786e08-fbc7-4190-aa60-cb3c0ec3507f",
        "outputId": "c9e01bf6-84f0-45d3-abfe-261125b640b2"
      },
      "outputs": [
        {
          "name": "stdout",
          "output_type": "stream",
          "text": [
            "   s.no      veg non-veg\n",
            "0   1.0  brinjal  chiken\n",
            "2   3.0   carrot    fish\n",
            "3   4.0   cabage     egg\n",
            "4   5.0   tamota    none\n"
          ]
        }
      ],
      "source": [
        "## REMOVE DATA FROM LIST\n",
        "import pandas as pd\n",
        "\n",
        "df = pd.read_csv('D:\\\\veg-nonveg.csv')\n",
        "new_df= df.dropna()\n",
        "\n",
        "print(new_df.to_string())"
      ]
    },
    {
      "cell_type": "markdown",
      "id": "f3da2066-484f-4836-86e4-7756b4ef68db",
      "metadata": {
        "id": "f3da2066-484f-4836-86e4-7756b4ef68db"
      },
      "source": [
        "## max_rows"
      ]
    },
    {
      "cell_type": "code",
      "execution_count": null,
      "id": "b64aca4e-7578-4065-96c8-984f3f944861",
      "metadata": {
        "id": "b64aca4e-7578-4065-96c8-984f3f944861",
        "outputId": "db569534-5514-4ae7-e01f-4c1f6cf0e2db"
      },
      "outputs": [
        {
          "name": "stdout",
          "output_type": "stream",
          "text": [
            "60\n"
          ]
        }
      ],
      "source": [
        "import pandas as pd\n",
        "\n",
        "print(pd.options.display.max_rows)\n"
      ]
    },
    {
      "cell_type": "code",
      "execution_count": null,
      "id": "dbfa3c90-07f5-47b8-b488-5b50b5bbe6b9",
      "metadata": {
        "id": "dbfa3c90-07f5-47b8-b488-5b50b5bbe6b9",
        "outputId": "fcba30c3-8469-40dd-87ec-486ea5775c22"
      },
      "outputs": [
        {
          "name": "stdout",
          "output_type": "stream",
          "text": [
            "    s.no  non veg  price\n",
            "0      1  chicken    160\n",
            "..   ...      ...    ...\n",
            "4      5     crab    300\n",
            "\n",
            "[5 rows x 3 columns]\n"
          ]
        }
      ],
      "source": [
        "import pandas as pd\n",
        "\n",
        "pd.options.display.max_rows = 3\n",
        "\n",
        "df = pd.read_csv('D:\\\\nonveg.csv')\n",
        "\n",
        "print(df)\n"
      ]
    },
    {
      "cell_type": "markdown",
      "id": "086c68cb-793f-4214-b735-8dd0d7b9bb8f",
      "metadata": {
        "tags": [],
        "id": "086c68cb-793f-4214-b735-8dd0d7b9bb8f"
      },
      "source": [
        "## REMOVE DATA FROM LIST\n"
      ]
    },
    {
      "cell_type": "code",
      "execution_count": null,
      "id": "2d7eaf9c-cc49-4a0a-b4a6-d262b3a76914",
      "metadata": {
        "id": "2d7eaf9c-cc49-4a0a-b4a6-d262b3a76914",
        "outputId": "11f5f5a4-7f59-4fd0-a928-188b52fe4be0"
      },
      "outputs": [
        {
          "name": "stdout",
          "output_type": "stream",
          "text": [
            "   s.no      veg non-veg\n",
            "0   1.0  brinjal  chiken\n",
            "2   3.0   carrot    fish\n",
            "3   4.0   cabage     egg\n",
            "4   5.0   tamota    none\n"
          ]
        }
      ],
      "source": [
        "import pandas as pd\n",
        "\n",
        "df = pd.read_csv('D:\\\\veg-nonveg.csv')\n",
        "new_df= df.dropna()\n",
        "\n",
        "print(new_df.to_string())"
      ]
    },
    {
      "cell_type": "markdown",
      "id": "3fc9f0d5-260f-4298-8603-870b1fba32e7",
      "metadata": {
        "id": "3fc9f0d5-260f-4298-8603-870b1fba32e7"
      },
      "source": [
        "## JSON"
      ]
    },
    {
      "cell_type": "code",
      "execution_count": null,
      "id": "ae438837-e744-4dc2-8f0d-75085d864180",
      "metadata": {
        "id": "ae438837-e744-4dc2-8f0d-75085d864180"
      },
      "outputs": [],
      "source": [
        "import pandas as pd\n",
        "df.pd"
      ]
    }
  ],
  "metadata": {
    "kernelspec": {
      "display_name": "Python 3 (ipykernel)",
      "language": "python",
      "name": "python3"
    },
    "language_info": {
      "codemirror_mode": {
        "name": "ipython",
        "version": 3
      },
      "file_extension": ".py",
      "mimetype": "text/x-python",
      "name": "python",
      "nbconvert_exporter": "python",
      "pygments_lexer": "ipython3",
      "version": "3.9.7"
    },
    "colab": {
      "name": "1704Pandas.ipynb",
      "provenance": [],
      "include_colab_link": true
    }
  },
  "nbformat": 4,
  "nbformat_minor": 5
}